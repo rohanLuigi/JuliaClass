{
 "cells": [
  {
   "cell_type": "markdown",
   "metadata": {},
   "source": [
    "* [Normal Equations](notes/NormalEquations.ipynb)\n",
    "* [One-Way Model](notes/OneWay.ipynb)\n",
    "* [Build OLS Equations from Model String (Melanie's version)](notes/Homework091415.ipynb) "
   ]
  }
 ],
 "metadata": {
  "kernelspec": {
   "display_name": "Julia 0.3.7",
   "language": "julia",
   "name": "julia 0.3"
  },
  "language_info": {
   "name": "julia",
   "version": "0.3.7"
  }
 },
 "nbformat": 4,
 "nbformat_minor": 0
}
