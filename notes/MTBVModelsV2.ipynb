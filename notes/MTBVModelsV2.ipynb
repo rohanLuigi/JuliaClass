{
 "cells": [
  {
   "cell_type": "markdown",
   "metadata": {},
   "source": [
    "## Tools for building Henderson's Mixed Model Equations\n",
    "\n",
    "Here we will see how the mixed model equations (HMME) can be built given a data set and a model string. \n"
   ]
  },
  {
   "cell_type": "code",
   "execution_count": 7,
   "metadata": {
    "collapsed": false
   },
   "outputs": [
    {
     "name": "stderr",
     "output_type": "stream",
     "text": [
      "Warning: replacing module PedModule\n"
     ]
    }
   ],
   "source": [
    "include (\"../../PedModule.jl/src/PedModule.jl\")\n",
    "using DataFrames"
   ]
  },
  {
   "cell_type": "code",
   "execution_count": 184,
   "metadata": {
    "collapsed": false
   },
   "outputs": [
    {
     "data": {
      "text/plain": [
       "addA (generic function with 1 method)"
      ]
     },
     "execution_count": 184,
     "metadata": {},
     "output_type": "execute_result"
    }
   ],
   "source": [
    "function GaussSeidel(A,x,b;tol=0.000001)\n",
    "    n = size(x,1)\n",
    "    for i=1:n\n",
    "        x[i] = ((b[i] - A[i,:]*x)/A[i,i])[1,1] + x[i]\n",
    "    end\n",
    "    diff = sum((A*x-b).^2)\n",
    "    iter = 0\n",
    "    while ((diff/n > tol) & (iter<1000))\n",
    "        iter += 1\n",
    "        for i=1:n\n",
    "            x[i] = ((b[i] - A[i,:]*x)/A[i,i])[1,1] + x[i]\n",
    "        end\n",
    "        diff = sum((A*x-b).^2)\n",
    "        println(iter,\" \",diff/n)\n",
    "    end\n",
    "    return x\n",
    "end\n",
    "\n",
    "function Jacobi(A,x,b,p;tol=0.000001)\n",
    "    D       = diag(A)\n",
    "    res     = A*x\n",
    "    resid   = b-res\n",
    "    tempSol = resid./D\n",
    "    diff    = sum(resid.^2)\n",
    "    n    = size(A,1)\n",
    "    iter = 0\n",
    "    while ((diff/n > tol) & (iter<1000))\n",
    "        iter += 1\n",
    "        x = p*tempSol + (1-p)*x\n",
    "        res     = A*x\n",
    "        resid   = b-res\n",
    "        tempSol = resid./D + x\n",
    "        diff    = sum(resid.^2)\n",
    "        println(iter,\" \",diff/n)\n",
    "    end\n",
    "    return x\n",
    "end\n",
    "\n",
    "\n",
    "type TermStrVal\n",
    "    str::String\n",
    "    value::Float64\n",
    "end\n",
    "\n",
    "type TermLvlVal\n",
    "    level::String\n",
    "    value::Float64\n",
    "end\n",
    "\n",
    "type ModelTerm \n",
    "    iModel::Int64\n",
    "    trmStr::String\n",
    "    nFactors::Int64\n",
    "    factors::Array{Symbol,1}\n",
    "    str::Array{String,1}                    # used to store the data for this term as strings\n",
    "    val::Array{Float64,1}\n",
    "    startPos::Int64                         # start pos in HMME\n",
    "    nLevels::Int64                           \n",
    "    X::SparseMatrixCSC{Float64,Int64}\n",
    "    names::Array{Any,1}\n",
    "end\n",
    "\n",
    "type MME\n",
    "    modelVec::Array{String,1}\n",
    "    modelTerms::Array{ModelTerm,1}\n",
    "    modelTermDict::Dict{String,ModelTerm}\n",
    "    lhsVec::Array{Symbol,1}\n",
    "    covVec::Array{Symbol,1}\n",
    "    pedTrmVec::Array{String,1}\n",
    "    mmeLhs\n",
    "    mmeRhs\n",
    "    ped\n",
    "    Gi::Array{Float64,2}\n",
    "    Ri::Array{Float64,2}\n",
    "    Ai\n",
    "    mmePos::Int64\n",
    "end\n",
    "\n",
    "function mkDict(a)\n",
    "    aUnique = unique(a)\n",
    "    d = Dict()\n",
    "    names = Array(Any,size(aUnique,1))\n",
    "    for (i,s) in enumerate(aUnique)\n",
    "        names[i] = s\n",
    "        d[s] = i\n",
    "    end\n",
    "    return d,names\n",
    "end\n",
    "\n",
    "function getTerm(trmStr,m)\n",
    "    trm = ModelTerm(m,string(m)*\":\"*trmStr,0,[],[],[],0,0,spzeros(0,0),[])\n",
    "    factorVec = split(trmStr,\"*\")\n",
    "    trm.nFactors = length(factorVec)\n",
    "    trm.factors = [symbol(strip(f)) for f in factorVec]\n",
    "    return trm\n",
    "end\n",
    "\n",
    "function initMME(models::String,R::Array{Float64,2})\n",
    "    # returns an MME object for muilding the mme corresponding \n",
    "    # to the input string\n",
    "    if models==\"\"\n",
    "        println(\"modelEquation is empty\\n\")\n",
    "        return\n",
    "    end\n",
    "    modelVec = split(models,[';','\\n'],false)\n",
    "    nModels  = size(modelVec,1)\n",
    "    lhsVec   = Symbol[]\n",
    "    modelTerms = ModelTerm[]\n",
    "    dict = Dict{String,ModelTerm}()\n",
    "    for (m,model) = enumerate(modelVec)\n",
    "        lhsRhs = split(model,\"=\")\n",
    "        lhsVec = [lhsVec,symbol(strip(lhsRhs[1]))]\n",
    "        rhs = strip(lhsRhs[2])\n",
    "        rhsVec = split(rhs,\"+\")    \n",
    "        mTrms = [getTerm(strip(trmStr),m) for trmStr in rhsVec]\n",
    "        modelTerms = [modelTerms, mTrms]\n",
    "        for (i,trm) = enumerate(modelTerms) # this may need to change\n",
    "            dict[trm.trmStr] = modelTerms[i]\n",
    "        end \n",
    "    end\n",
    "    Ri = inv(R)\n",
    "    return MME(modelVec,modelTerms,dict,lhsVec,[],[],0,0,0,Array(Float64,1,1),Ri,0,1)\n",
    "end \n",
    "\n",
    "function getData(trm::ModelTerm,df::DataFrame,mme::MME)\n",
    "    nObs = size(df,1)\n",
    "    trm.str = Array(String,nObs)\n",
    "    trm.val = Array(Float64,nObs)\n",
    "    if(trm.factors[1] == :intercept)                     # from Melanie's HW\n",
    "        str = fill(string(trm.factors[1]),nObs)\n",
    "        val = fill(1.0,nObs)\n",
    "    else\n",
    "        myDf = df[trm.factors]\n",
    "        if trm.factors[1] in mme.covVec\n",
    "            str = fill(string(trm.factors[1]),nObs)\n",
    "            val = df[trm.factors[1]]\n",
    "        else\n",
    "            str = [string(i) for i in df[trm.factors[1]]]\n",
    "            val = fill(1.0,nObs)\n",
    "        end\n",
    "        for i=2:trm.nFactors\n",
    "            if trm.factors[i] in mme.covVec\n",
    "                str = str .* fill(\"*\"*string(trm.factors[i]),nObs)\n",
    "                val = val .* df[trm.factors[i]]\n",
    "            else\n",
    "                str = str .* fill(\"*\",nObs) .* [string(j) for j in df[trm.factors[i]]]\n",
    "                val = val .* fill(1.0,nObs)\n",
    "            end\n",
    "        end\n",
    "    end\n",
    "    trm.str = str\n",
    "    trm.val = val\n",
    "end\n",
    "\n",
    "getFactor1(str) = [strip(i) for i in split(str,\"*\")][1]\n",
    "\n",
    "function getX(trm,mme::MME)\n",
    "    pedSize = 0\n",
    "    nObs  = size(trm.str,1)\n",
    "    if trm.trmStr in mme.pedTrmVec\n",
    "        trm.names   = PedModule.getIDs(mme.ped)\n",
    "        trm.nLevels = length(mme.ped.idMap)\n",
    "        xj = int([mme.ped.idMap[getFactor1(i)].seqID for i in trm.str])\n",
    "    else\n",
    "        dict,trm.names  = mkDict(trm.str)\n",
    "        trm.nLevels     = length(dict)\n",
    "        xj    = int([dict[i] for i in trm.str])\n",
    "    end\n",
    "    xi    = (trm.iModel-1)*nObs + [1:nObs]\n",
    "    xv    = trm.val\n",
    "    if mme.ped!=0\n",
    "        pedSize = length(mme.ped.idMap)\n",
    "        if trm.trmStr in mme.pedTrmVec\n",
    "            # This is to ensure the X matrix for \n",
    "            # additive effect has the correct number of columns\n",
    "            ii = 1         # adding a zero to\n",
    "            jj = pedSize   # the last column in row 1\n",
    "            vv = [0.0]\n",
    "            xi = [xi,ii]\n",
    "            xj = [xj,jj]\n",
    "            xv = [xv,vv]\n",
    "        end\n",
    "    end \n",
    "    #make sure X has nObs*nModels rows\n",
    "    nModels = size(mme.lhsVec,1)\n",
    "    xi = [xi,1,nObs*nModels]\n",
    "    xj = [xj,1,1]\n",
    "    xv = [xv,0,0]\n",
    "    trm.X = sparse(xi,xj,xv)\n",
    "    trm.startPos = mme.mmePos\n",
    "    mme.mmePos  += trm.nLevels\n",
    "end\n",
    "\n",
    "function getMME(mme::MME, df::DataFrame)\n",
    "    mme.mmePos = 1\n",
    "    for trm in mme.modelTerms\n",
    "        getData(trm,df,mme)\n",
    "        getX(trm,mme)\n",
    "    end\n",
    "    n   = size(mme.modelTerms,1)\n",
    "    trm = mme.modelTerms[1]\n",
    "    X   = trm.X\n",
    "    for i=2:n\n",
    "        trm = mme.modelTerms[i]\n",
    "        X = [X trm.X]\n",
    "    end\n",
    "    y = df[mme.lhsVec[1]]\n",
    "    for i=2:size(mme.lhsVec,1)\n",
    "        y    = [y, df[mme.lhsVec[i]] ] \n",
    "    end\n",
    "    N  = size(y,1)\n",
    "    ii = 1:N\n",
    "    jj = fill(1,N)\n",
    "    vv = y\n",
    "    ySparse = sparse(ii,jj,vv)\n",
    "    nObs = size(df,1)\n",
    "    Ri = kron(mme.Ri,speye(nObs))\n",
    "    mme.mmeLhs = X'Ri*X\n",
    "    mme.mmeRhs = X'Ri*ySparse\n",
    "    if mme.ped != 0\n",
    "        ii,jj,vv = PedModule.HAi(mme.ped)\n",
    "        HAi = sparse(ii,jj,vv)\n",
    "        mme.Ai = HAi'HAi\n",
    "        addA(mme::MME)\n",
    "    end   \n",
    "end\n",
    "\n",
    "function getNames(mme)\n",
    "    names = Array(String,0)\n",
    "    for trm in mme.modelTerms\n",
    "        for name in trm.names\n",
    "            push!(names,trm.trmStr*\": \"*name)\n",
    "        end\n",
    "    end\n",
    "    return names\n",
    "end  \n",
    "\n",
    "function covList(mme::MME, covStr::String)\n",
    "    covVec = split(covStr,\" \",false) \n",
    "    mme.covVec = [symbol(i) for i in covVec]\n",
    "    nothing\n",
    "end\n",
    "\n",
    "function getSolJ(mme::MME, df::DataFrame)\n",
    "    if size(mme.mmeRhs)==() \n",
    "        getMME(mme,df)\n",
    "    end\n",
    "    p = size(mme.mmeRhs,1)\n",
    "    return [getNames(mme) Jacobi(mme.mmeLhs,fill(0.0,p),mme.mmeRhs,0.3,tol=0.000001)]\n",
    "end\n",
    "\n",
    "function getSolG(mme::MME, df::DataFrame)\n",
    "    if size(mme.mmeRhs)==() \n",
    "        getMME(mme,df)\n",
    "    end\n",
    "    p = size(mme.mmeRhs,1)\n",
    "    return [getNames(mme) GaussSeidel(mme.mmeLhs,fill(0.0,p),mme.mmeRhs,tol=0.000001)]\n",
    "end\n",
    "\n",
    "function setAsRandom(mme::MME,randomStr::String,ped::PedModule.Pedigree, G::Array{Float64,2})\n",
    "    pedTrmVec = split(randomStr,\" \",false)\n",
    "    res = []\n",
    "    for trm in pedTrmVec\n",
    "        for (m,model) = enumerate(mme.modelVec)\n",
    "            strVec  = split(model,['=','+'])\n",
    "            strpVec = [strip(i) for i in strVec]\n",
    "            if trm in strpVec\n",
    "                res = [res,string(m)*\":\"*trm]\n",
    "            end\n",
    "        end\n",
    "    end\n",
    "    mme.pedTrmVec = res\n",
    "    mme.ped = ped\n",
    "    mme.Gi = inv(G)\n",
    "    nothing\n",
    "end\n",
    "\n",
    "function addA(mme::MME)\n",
    "    pedTrmVec = mme.pedTrmVec\n",
    "    for (i,trmi) = enumerate(pedTrmVec)\n",
    "        pedTrmi  = mme.modelTermDict[trmi]\n",
    "        startPosi  = pedTrmi.startPos\n",
    "        endPosi    = startPosi + pedTrmi.nLevels - 1\n",
    "        for (j,trmj) = enumerate(pedTrmVec)\n",
    "            pedTrmj  = mme.modelTermDict[trmj]\n",
    "            startPosj  = pedTrmj.startPos\n",
    "            endPosj    = startPosj + pedTrmj.nLevels - 1  \n",
    "            mme.mmeLhs[startPosi:endPosi,startPosj:endPosj] = \n",
    "            mme.mmeLhs[startPosi:endPosi,startPosj:endPosj] + mme.Ai*mme.Gi[i,j] \n",
    "        end\n",
    "    end\n",
    "end"
   ]
  },
  {
   "cell_type": "code",
   "execution_count": 142,
   "metadata": {
    "collapsed": false
   },
   "outputs": [
    {
     "data": {
      "text/plain": [
       "Dict{Any,Any} with 5 entries:\n",
       "  \"O1\" => PedNode(3,\"S1\",\"D1\",0.0)\n",
       "  \"S1\" => PedNode(1,\"0\",\"0\",0.0)\n",
       "  \"O3\" => PedNode(4,\"S1\",\"D1\",0.0)\n",
       "  \"D1\" => PedNode(2,\"0\",\"0\",0.0)\n",
       "  \"O2\" => PedNode(5,\"S1\",\"D1\",0.0)"
      ]
     },
     "execution_count": 142,
     "metadata": {},
     "output_type": "execute_result"
    }
   ],
   "source": [
    "ped = PedModule.mkPed(\"small.ped\")\n",
    "ped.idMap"
   ]
  },
  {
   "cell_type": "code",
   "execution_count": 9,
   "metadata": {
    "collapsed": false
   },
   "outputs": [
    {
     "data": {
      "text/plain": [
       "4-element Array{Float64,1}:\n",
       " 10.0\n",
       " 12.9\n",
       " 13.0\n",
       "  5.0"
      ]
     },
     "execution_count": 9,
     "metadata": {},
     "output_type": "execute_result"
    }
   ],
   "source": [
    "ID = [\"S1\",\"D1\",\"O1\",\"O3\"]\n",
    "y1 = [100.0, 50.0, 150.0, 40.0]\n",
    "y2 = [10.0,  12.9, 13.0,  5.0]"
   ]
  },
  {
   "cell_type": "code",
   "execution_count": 10,
   "metadata": {
    "collapsed": false,
    "scrolled": true
   },
   "outputs": [
    {
     "data": {
      "text/html": [
       "<table class=\"data-frame\"><tr><th></th><th>Animal</th><th>y1</th><th>y2</th></tr><tr><th>1</th><td>S1</td><td>100.0</td><td>10.0</td></tr><tr><th>2</th><td>D1</td><td>50.0</td><td>12.9</td></tr><tr><th>3</th><td>O1</td><td>150.0</td><td>13.0</td></tr><tr><th>4</th><td>O3</td><td>40.0</td><td>5.0</td></tr></table>"
      ],
      "text/plain": [
       "4x3 DataFrame\n",
       "| Row | Animal | y1    | y2   |\n",
       "|-----|--------|-------|------|\n",
       "| 1   | \"S1\"   | 100.0 | 10.0 |\n",
       "| 2   | \"D1\"   | 50.0  | 12.9 |\n",
       "| 3   | \"O1\"   | 150.0 | 13.0 |\n",
       "| 4   | \"O3\"   | 40.0  | 5.0  |"
      ]
     },
     "execution_count": 10,
     "metadata": {},
     "output_type": "execute_result"
    }
   ],
   "source": [
    "dfMT = DataFrame(Animal=ID,y1=y1,y2=y2)"
   ]
  },
  {
   "cell_type": "markdown",
   "metadata": {},
   "source": [
    "### Multiple Trait Animal Model "
   ]
  },
  {
   "cell_type": "code",
   "execution_count": 189,
   "metadata": {
    "collapsed": false
   },
   "outputs": [],
   "source": [
    "models = \"y1 = intercept + Animal;\n",
    "          y2 = intercept + Animal\"\n",
    "R = [10 2; 2 1.0]\n",
    "mme = initMME(models,R)\n",
    "G0 = [5 1;1 1.0]\n",
    "setAsRandom(mme,\"Animal\", ped,G0)"
   ]
  },
  {
   "cell_type": "code",
   "execution_count": 190,
   "metadata": {
    "collapsed": false
   },
   "outputs": [
    {
     "data": {
      "text/plain": [
       "2-element Array{String,1}:\n",
       " \"1:Animal\"\n",
       " \"2:Animal\""
      ]
     },
     "execution_count": 190,
     "metadata": {},
     "output_type": "execute_result"
    }
   ],
   "source": [
    "mme.pedTrmVec"
   ]
  },
  {
   "cell_type": "code",
   "execution_count": 191,
   "metadata": {
    "collapsed": false,
    "scrolled": true
   },
   "outputs": [],
   "source": [
    "getMME(mme,dfMT);"
   ]
  },
  {
   "cell_type": "code",
   "execution_count": 192,
   "metadata": {
    "collapsed": false
   },
   "outputs": [
    {
     "data": {
      "text/plain": [
       "4-element Array{Any,1}:\n",
       " 1\n",
       " 2\n",
       " 7\n",
       " 8"
      ]
     },
     "execution_count": 192,
     "metadata": {},
     "output_type": "execute_result"
    }
   ],
   "source": [
    "[trm.startPos for trm in mme.modelTerms]"
   ]
  },
  {
   "cell_type": "code",
   "execution_count": 164,
   "metadata": {
    "collapsed": false,
    "scrolled": false
   },
   "outputs": [
    {
     "data": {
      "text/plain": [
       "12x12 Array{Float64,2}:\n",
       "  0.67   0.17   0.17   0.17   0.17  …  -0.33  -0.33  -0.33  -0.33   0.0 \n",
       "  0.17   0.79   0.38  -0.25  -0.25     -0.96  -0.38   0.25   0.25   0.25\n",
       "  0.17   0.38   0.79  -0.25  -0.25     -0.38  -0.96   0.25   0.25   0.25\n",
       "  0.17  -0.25  -0.25   0.67   0.0       0.25   0.25  -0.83   0.0    0.0 \n",
       "  0.17  -0.25  -0.25   0.0    0.67      0.25   0.25   0.0   -0.83   0.0 \n",
       "  0.0   -0.25  -0.25   0.0    0.0   …   0.25   0.25   0.0    0.0   -0.5 \n",
       " -1.33  -0.33  -0.33  -0.33  -0.33      1.67   1.67   1.67   1.67   0.0 \n",
       " -0.33  -0.96  -0.38   0.25   0.25      4.79   1.88  -1.25  -1.25  -1.25\n",
       " -0.33  -0.38  -0.96   0.25   0.25      1.88   4.79  -1.25  -1.25  -1.25\n",
       " -0.33   0.25   0.25  -0.83   0.0      -1.25  -1.25   4.17   0.0    0.0 \n",
       " -0.33   0.25   0.25   0.0   -0.83  …  -1.25  -1.25   0.0    4.17   0.0 \n",
       "  0.0    0.25   0.25   0.0    0.0      -1.25  -1.25   0.0    0.0    2.5 "
      ]
     },
     "execution_count": 164,
     "metadata": {},
     "output_type": "execute_result"
    }
   ],
   "source": [
    "round(full(mme.mmeLhs),2)"
   ]
  },
  {
   "cell_type": "code",
   "execution_count": 165,
   "metadata": {
    "collapsed": false,
    "scrolled": false
   },
   "outputs": [
    {
     "name": "stdout",
     "output_type": "stream",
     "text": [
      "1 1.2875568344653632\n",
      "2 0.2528246005613293\n",
      "3 0.08485177832746348\n",
      "4 0.04088157239897236\n",
      "5 0.02268498965332805\n",
      "6 0.013124767212561242\n",
      "7 0.007717507963154283\n",
      "8 0.004598760338486969\n",
      "9 0.0027832772766863863\n",
      "10 0.0017157231019855155\n",
      "11 0.0010797697648282868\n",
      "12 0.0006948950048624239\n",
      "13 0.00045770267427933125\n",
      "14 0.00030856772541401796\n",
      "15 0.0002127754000971464\n",
      "16 0.0001498725201304047\n",
      "17 0.00010764060172580496\n",
      "18 7.86661708372215e-5\n",
      "19 5.837400647329841e-5\n",
      "20 4.3888600044963984e-5\n",
      "21 3.336781045516102e-5\n",
      "22 2.5608058414697016e-5\n",
      "23 1.9807227977380018e-5\n",
      "24 1.5420186379885268e-5\n",
      "25 1.2069364507001945e-5\n",
      "26 9.488504825399561e-6\n",
      "27 7.486671560918541e-6\n",
      "28 5.924823660484019e-6\n",
      "29 4.700297514686299e-6\n",
      "30 3.736349193358576e-6\n",
      "31 2.974985523207473e-6\n",
      "32 2.371967962714919e-6\n",
      "33 1.893275365695588e-6\n",
      "34 1.5125620791333358e-6\n",
      "35 1.209305817196696e-6\n",
      "36 9.674408469882774e-7\n"
     ]
    },
    {
     "data": {
      "text/plain": [
       "12x2 Array{Any,2}:\n",
       " \"1:intercept: intercept\"  83.8789    \n",
       " \"1:Animal: S1\"             8.33904   \n",
       " \"1:Animal: D1\"            -8.32588   \n",
       " \"1:Animal: O1\"            13.2295    \n",
       " \"1:Animal: O3\"            -8.77054   \n",
       " \"1:Animal: O2\"             0.00658015\n",
       " \"2:intercept: intercept\"  10.8045    \n",
       " \"2:Animal: S1\"            -2.01601   \n",
       " \"2:Animal: D1\"             2.02271   \n",
       " \"2:Animal: O1\"            -1.76437   \n",
       " \"2:Animal: O3\"            -0.564367  \n",
       " \"2:Animal: O2\"             0.00335109"
      ]
     },
     "execution_count": 165,
     "metadata": {},
     "output_type": "execute_result"
    }
   ],
   "source": [
    "getSolG(mme, dfMT)"
   ]
  },
  {
   "cell_type": "code",
   "execution_count": 166,
   "metadata": {
    "collapsed": false
   },
   "outputs": [
    {
     "data": {
      "text/html": [
       "<table class=\"data-frame\"><tr><th></th><th>Animal</th><th>y1</th><th>y2</th><th>mat</th></tr><tr><th>1</th><td>O1</td><td>150.0</td><td>13.0</td><td>D1</td></tr><tr><th>2</th><td>O3</td><td>40.0</td><td>5.0</td><td>D1</td></tr></table>"
      ],
      "text/plain": [
       "2x4 DataFrame\n",
       "| Row | Animal | y1    | y2   | mat  |\n",
       "|-----|--------|-------|------|------|\n",
       "| 1   | \"O1\"   | 150.0 | 13.0 | \"D1\" |\n",
       "| 2   | \"O3\"   | 40.0  | 5.0  | \"D1\" |"
      ]
     },
     "execution_count": 166,
     "metadata": {},
     "output_type": "execute_result"
    }
   ],
   "source": [
    "dfMTMat = [dfMT[3:4,:]  DataFrame(mat = [\"D1\",\"D1\"])]"
   ]
  },
  {
   "cell_type": "markdown",
   "metadata": {},
   "source": [
    "###  Multiple Trait Model with Direct and Maternal Effects"
   ]
  },
  {
   "cell_type": "code",
   "execution_count": 185,
   "metadata": {
    "collapsed": false
   },
   "outputs": [
    {
     "data": {
      "text/plain": [
       "3-element Array{String,1}:\n",
       " \"1:Animal\"\n",
       " \"2:Animal\"\n",
       " \"1:mat\"   "
      ]
     },
     "execution_count": 185,
     "metadata": {},
     "output_type": "execute_result"
    }
   ],
   "source": [
    "models = \"y1 = intercept + Animal + mat;\n",
    "          y2 = intercept + Animal\"\n",
    "R = [10 2; 2 1.0]\n",
    "mme = initMME(models,R)\n",
    "G0 = [5   1    0.1\n",
    "      1   1    0.01\n",
    "      0.1 0.01 0.5]\n",
    "setAsRandom(mme,\"Animal mat\", ped,G0)\n",
    "mme.pedTrmVec"
   ]
  },
  {
   "cell_type": "code",
   "execution_count": 186,
   "metadata": {
    "collapsed": false,
    "scrolled": true
   },
   "outputs": [
    {
     "data": {
      "text/plain": [
       "17x17 Array{Float64,2}:\n",
       "  0.33   0.0    0.0    0.17   0.17  …   0.0    0.0   -0.33  -0.33   0.0 \n",
       "  0.0    0.63   0.38  -0.25  -0.25     -0.63  -0.38   0.25   0.25   0.25\n",
       "  0.0    0.38   0.63  -0.25  -0.25     -0.38  -0.63   0.25   0.25   0.25\n",
       "  0.17  -0.25  -0.25   0.67   0.0       0.25   0.25  -0.83   0.0    0.0 \n",
       "  0.17  -0.25  -0.25   0.0    0.67      0.25   0.25   0.0   -0.83   0.0 \n",
       "  0.0   -0.25  -0.25   0.0    0.0   …   0.25   0.25   0.0    0.0   -0.5 \n",
       "  0.0   -0.11  -0.07   0.05   0.05      0.06   0.04  -0.03  -0.03  -0.03\n",
       "  0.33  -0.07  -0.11   0.21   0.21      0.04   0.06  -0.36  -0.36  -0.03\n",
       "  0.0    0.05   0.05  -0.09   0.0      -0.03  -0.03   0.05   0.0    0.0 \n",
       "  0.0    0.05   0.05   0.0   -0.09     -0.03  -0.03   0.0    0.05   0.0 \n",
       "  0.0    0.05   0.05   0.0    0.0   …  -0.03  -0.03   0.0    0.0    0.05\n",
       " -0.67   0.0    0.0   -0.33  -0.33      0.0    0.0    1.67   1.67   0.0 \n",
       "  0.0   -0.63  -0.38   0.25   0.25      3.13   1.88  -1.25  -1.25  -1.25\n",
       "  0.0   -0.38  -0.63   0.25   0.25      1.88   3.13  -1.25  -1.25  -1.25\n",
       " -0.33   0.25   0.25  -0.83   0.0      -1.25  -1.25   4.17   0.0    0.0 \n",
       " -0.33   0.25   0.25   0.0   -0.83  …  -1.25  -1.25   0.0    4.17   0.0 \n",
       "  0.0    0.25   0.25   0.0    0.0      -1.25  -1.25   0.0    0.0    2.5 "
      ]
     },
     "execution_count": 186,
     "metadata": {},
     "output_type": "execute_result"
    }
   ],
   "source": [
    "getMME(mme,dfMTMat)\n",
    "round(full(mme.mmeLhs),2)"
   ]
  },
  {
   "cell_type": "code",
   "execution_count": 187,
   "metadata": {
    "collapsed": false,
    "scrolled": true
   },
   "outputs": [
    {
     "name": "stdout",
     "output_type": "stream",
     "text": [
      "1 0.30589459550773695\n",
      "2 0.048850839090560726\n",
      "3 0.007810301666182477\n",
      "4 0.0012492796765922309\n",
      "5 0.0001998614552352077\n",
      "6 3.1976360836851596e-5\n",
      "7 5.116124710902228e-6\n",
      "8 8.185740751630386e-7\n"
     ]
    },
    {
     "data": {
      "text/plain": [
       "17x2 Array{Any,2}:\n",
       " \"1:intercept: intercept\"   94.9882     \n",
       " \"1:Animal: S1\"              3.38982e-15\n",
       " \"1:Animal: D1\"              2.77061e-15\n",
       " \"1:Animal: O1\"             11.0        \n",
       " \"1:Animal: O3\"            -11.0        \n",
       " \"1:Animal: O2\"              3.08021e-15\n",
       " \"1:mat: S1\"                 1.56027e-16\n",
       " \"1:mat: D1\"                 1.97215e-31\n",
       " \"1:mat: O1\"                 0.255      \n",
       " \"1:mat: O3\"                -0.255      \n",
       " \"1:mat: O2\"                 7.80133e-17\n",
       " \"2:intercept: intercept\"    8.99764    \n",
       " \"2:Animal: S1\"              3.14096e-16\n",
       " \"2:Animal: D1\"             -4.3318e-16 \n",
       " \"2:Animal: O1\"             -0.599998   \n",
       " \"2:Animal: O3\"              0.599998   \n",
       " \"2:Animal: O2\"             -5.95421e-17"
      ]
     },
     "execution_count": 187,
     "metadata": {},
     "output_type": "execute_result"
    }
   ],
   "source": [
    "getSolG(mme, dfMTMat)"
   ]
  },
  {
   "cell_type": "code",
   "execution_count": 188,
   "metadata": {
    "collapsed": false
   },
   "outputs": [
    {
     "data": {
      "text/html": [
       "1 method for generic function <b>xtabs</b>:<ul><li> xtabs<i>{T}</i>(x::<b>AbstractArray{T,N}</b>) at <a href=\"https://github.com/JuliaStats/DataArrays.jl/tree/f783cd191c95a976c5e0811d9b8f52e6c4f416bc/src/statistics.jl#L60\" target=\"_blank\">/Users/rohan/.julia/v0.3/DataArrays/src/statistics.jl:60</a></ul>"
      ],
      "text/plain": [
       "# 1 method for generic function \"xtabs\":\n",
       "xtabs{T}(x::AbstractArray{T,N}) at /Users/rohan/.julia/v0.3/DataArrays/src/statistics.jl:60"
      ]
     },
     "execution_count": 188,
     "metadata": {},
     "output_type": "execute_result"
    }
   ],
   "source": [
    "methods(xtabs)"
   ]
  }
 ],
 "metadata": {
  "kernelspec": {
   "display_name": "Julia 0.3.7",
   "language": "julia",
   "name": "julia 0.3"
  },
  "language_info": {
   "name": "julia",
   "version": "0.3.7"
  }
 },
 "nbformat": 4,
 "nbformat_minor": 0
}
