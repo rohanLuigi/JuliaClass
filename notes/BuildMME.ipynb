{
 "cells": [
  {
   "cell_type": "markdown",
   "metadata": {},
   "source": [
    "## Tools for building Henderson's Mixed Model Equations\n",
    "\n",
    "Here we will see how the mixed model equations (HMME) can be built given a data set and a model string. \n",
    "\n",
    "We will start by building the \"OLS\" part of the equations. "
   ]
  },
  {
   "cell_type": "code",
   "execution_count": 1,
   "metadata": {
    "collapsed": true
   },
   "outputs": [],
   "source": [
    "using DataFrames"
   ]
  },
  {
   "cell_type": "markdown",
   "metadata": {},
   "source": [
    "### A small data set to test the tools"
   ]
  },
  {
   "cell_type": "code",
   "execution_count": 2,
   "metadata": {
    "collapsed": false
   },
   "outputs": [],
   "source": [
    "A = [1,1,1,1,1,2,2,2,2,2]\n",
    "B = [1,1,2,2,2,1,1,1,2,2]\n",
    "C = [1,2,1,2,2,1,2,2,1,2];"
   ]
  },
  {
   "cell_type": "code",
   "execution_count": 3,
   "metadata": {
    "collapsed": false
   },
   "outputs": [
    {
     "data": {
      "text/html": [
       "<table class=\"data-frame\"><tr><th></th><th>A</th><th>B</th><th>C</th><th>y</th></tr><tr><th>1</th><td>1</td><td>1</td><td>1</td><td>-1.785891152275221</td></tr><tr><th>2</th><td>1</td><td>1</td><td>2</td><td>-1.2194008831830074</td></tr><tr><th>3</th><td>1</td><td>2</td><td>1</td><td>-0.435663787553561</td></tr><tr><th>4</th><td>1</td><td>2</td><td>2</td><td>1.7595424301837093</td></tr><tr><th>5</th><td>1</td><td>2</td><td>2</td><td>0.5510667585704071</td></tr><tr><th>6</th><td>2</td><td>1</td><td>1</td><td>0.5378586487855133</td></tr><tr><th>7</th><td>2</td><td>1</td><td>2</td><td>0.46015234904437313</td></tr><tr><th>8</th><td>2</td><td>1</td><td>2</td><td>0.03555055092603085</td></tr><tr><th>9</th><td>2</td><td>2</td><td>1</td><td>-0.7610095411188301</td></tr><tr><th>10</th><td>2</td><td>2</td><td>2</td><td>1.2997947651474415</td></tr></table>"
      ],
      "text/plain": [
       "10x4 DataFrame\n",
       "| Row | A | B | C | y         |\n",
       "|-----|---|---|---|-----------|\n",
       "| 1   | 1 | 1 | 1 | -1.78589  |\n",
       "| 2   | 1 | 1 | 2 | -1.2194   |\n",
       "| 3   | 1 | 2 | 1 | -0.435664 |\n",
       "| 4   | 1 | 2 | 2 | 1.75954   |\n",
       "| 5   | 1 | 2 | 2 | 0.551067  |\n",
       "| 6   | 2 | 1 | 1 | 0.537859  |\n",
       "| 7   | 2 | 1 | 2 | 0.460152  |\n",
       "| 8   | 2 | 1 | 2 | 0.0355506 |\n",
       "| 9   | 2 | 2 | 1 | -0.76101  |\n",
       "| 10  | 2 | 2 | 2 | 1.29979   |"
      ]
     },
     "execution_count": 3,
     "metadata": {},
     "output_type": "execute_result"
    }
   ],
   "source": [
    "df1 = DataFrame(A=A,B=B,C=C,y=randn(10))"
   ]
  },
  {
   "cell_type": "code",
   "execution_count": 4,
   "metadata": {
    "collapsed": false
   },
   "outputs": [
    {
     "data": {
      "text/plain": [
       "getNames (generic function with 1 method)"
      ]
     },
     "execution_count": 4,
     "metadata": {},
     "output_type": "execute_result"
    }
   ],
   "source": [
    "function Jacobi(A,x,b,p;tol=0.000001)\n",
    "    D       = diag(A)\n",
    "    res     = A*x\n",
    "    resid   = b-res\n",
    "    tempSol = resid./D\n",
    "    diff    = sum(resid.^2)\n",
    "    n    = size(A,1)\n",
    "    iter = 0\n",
    "    while ((diff/n > 0.001) & (iter<1000))\n",
    "        iter += 1\n",
    "        x = p*tempSol + (1-p)*x\n",
    "        res     = A*x\n",
    "        resid   = b-res\n",
    "        tempSol = resid./D + x\n",
    "        diff    = sum(resid.^2)\n",
    "        println(iter,\" \",diff/n)\n",
    "    end\n",
    "    return x\n",
    "end\n",
    "\n",
    "function mkDict(a)\n",
    "    aUnique = unique(a)\n",
    "    d = Dict()\n",
    "    names = Array(Any,size(aUnique,1))\n",
    "    for (i,s) in enumerate(aUnique)\n",
    "        names[i] = s\n",
    "        d[s] = i\n",
    "    end\n",
    "    return d,names\n",
    "end\n",
    "\n",
    "type ModelTerm \n",
    "    trmStr::String\n",
    "    nFactors::Int64\n",
    "    factors::Array{Symbol,1}\n",
    "    data::Array{String,1}\n",
    "    X::SparseMatrixCSC{Float64,Int64}\n",
    "    names::Array{Any,1}\n",
    "end\n",
    "\n",
    "type MME\n",
    "    modelEquation::String\n",
    "    modelTerms::Array{ModelTerm,1}\n",
    "    lhs::Symbol\n",
    "    mmeLhs\n",
    "    mmeRhs\n",
    "end\n",
    "\n",
    "function getTerm(trmStr)\n",
    "    trm = ModelTerm(trmStr,0,[],[],spzeros(0,0),[])\n",
    "    if length(trmStr)==1\n",
    "        trm.nFactors = 1\n",
    "        trm.factors  = [symbol(strip(trmStr))]\n",
    "    else\n",
    "        factorVec = split(trmStr,\"*\")\n",
    "        trm.nFactors = length(factorVec)\n",
    "        trm.factors = [symbol(strip(f)) for f in factorVec]\n",
    "    end\n",
    "    return trm\n",
    "end\n",
    "\n",
    "function initMME(modelEquation::String)\n",
    "    # returns an MME object for muilding the mme corresponding \n",
    "    # to the input string\n",
    "    if modelEquation==\"\"\n",
    "        println(\"modelEquation is empty\\n\")\n",
    "        return\n",
    "    end\n",
    "    lhsRhs = split(modelEquation,\"=\")\n",
    "    lhs = symbol(strip(lhsRhs[1]))\n",
    "    rhs = strip(lhsRhs[2])\n",
    "    rhsVec = split(rhs,\"+\")    \n",
    "    modelTerms = [getTerm(strip(trmStr)) for trmStr in rhsVec]\n",
    "    return MME(modelEquation,modelTerms,lhs,0,0)\n",
    "end \n",
    "\n",
    "function getData(trm::ModelTerm,df::DataFrame)\n",
    "    nObs = size(df,1)\n",
    "    trm.data = Array(String,nObs)\n",
    "    myDf = df[trm.factors]\n",
    "    for i=1:nObs\n",
    "        res = string(myDf[i,trm.nFactors])\n",
    "        for j = trm.nFactors-1:-1:1\n",
    "            res = string(myDf[i,j])*\"x\"*res\n",
    "        end\n",
    "        trm.data[i] = res\n",
    "    end\n",
    "end\n",
    "\n",
    "function getX(trm)\n",
    "    dict,trm.names  = mkDict(trm.data)\n",
    "    xj    = int([dict[i] for i in trm.data])\n",
    "    xi    = 1:size(trm.data,1)\n",
    "    trm.X = sparse(xi,xj,1.0)  \n",
    "end\n",
    "\n",
    "function getMME(mme::MME, df::DataFrame)\n",
    "    for trm in mme.modelTerms\n",
    "        getData(trm,df)\n",
    "        getX(trm)\n",
    "    end\n",
    "    n   = size(mme.modelTerms,1)\n",
    "    trm = mme.modelTerms[1]\n",
    "    X   = trm.X\n",
    "    for i=2:n\n",
    "        trm = mme.modelTerms[i]\n",
    "        X = [X trm.X]\n",
    "    end\n",
    "    y      = df[mme.lhs]\n",
    "    mme.mmeLhs = X'X\n",
    "    mme.mmeRhs = X'y\n",
    "end\n",
    "\n",
    "function getNames(mme)\n",
    "    names = Array(String,0)\n",
    "    for trm in mme.modelTerms\n",
    "        for name in trm.names\n",
    "            push!(names,trm.trmStr*\": \"*name)\n",
    "        end\n",
    "    end\n",
    "    return names\n",
    "end    "
   ]
  },
  {
   "cell_type": "code",
   "execution_count": 7,
   "metadata": {
    "collapsed": false
   },
   "outputs": [],
   "source": [
    "mme = initMME(\"y = A + B + A*B*C\");"
   ]
  },
  {
   "cell_type": "code",
   "execution_count": 8,
   "metadata": {
    "collapsed": false
   },
   "outputs": [
    {
     "data": {
      "text/plain": [
       "12-element Array{Float64,1}:\n",
       " -1.13035 \n",
       "  1.57235 \n",
       " -1.97173 \n",
       "  2.41373 \n",
       " -1.78589 \n",
       " -1.2194  \n",
       " -0.435664\n",
       "  2.31061 \n",
       "  0.537859\n",
       "  0.495703\n",
       " -0.76101 \n",
       "  1.29979 "
      ]
     },
     "execution_count": 8,
     "metadata": {},
     "output_type": "execute_result"
    }
   ],
   "source": [
    "getMME(mme,df1)"
   ]
  },
  {
   "cell_type": "code",
   "execution_count": 10,
   "metadata": {
    "collapsed": false,
    "scrolled": true
   },
   "outputs": [
    {
     "data": {
      "text/plain": [
       "12x2 Array{Any,2}:\n",
       " \"A: 1\"          -1.13035 \n",
       " \"A: 2\"           1.57235 \n",
       " \"B: 1\"          -1.97173 \n",
       " \"B: 2\"           2.41373 \n",
       " \"A*B*C: 1x1x1\"  -1.78589 \n",
       " \"A*B*C: 1x1x2\"  -1.2194  \n",
       " \"A*B*C: 1x2x1\"  -0.435664\n",
       " \"A*B*C: 1x2x2\"   2.31061 \n",
       " \"A*B*C: 2x1x1\"   0.537859\n",
       " \"A*B*C: 2x1x2\"   0.495703\n",
       " \"A*B*C: 2x2x1\"  -0.76101 \n",
       " \"A*B*C: 2x2x2\"   1.29979 "
      ]
     },
     "execution_count": 10,
     "metadata": {},
     "output_type": "execute_result"
    }
   ],
   "source": [
    "[getNames(mme) mme.mmeRhs]"
   ]
  },
  {
   "cell_type": "markdown",
   "metadata": {},
   "source": [
    "### Homework\n",
    "\n",
    "1. add code to check if any of the model terms are not in the dataFrame\n",
    "1. xxx"
   ]
  },
  {
   "cell_type": "code",
   "execution_count": 20,
   "metadata": {
    "collapsed": true
   },
   "outputs": [],
   "source": [
    "mme1 = initMME(\"y = A + B + A*B*C\");"
   ]
  },
  {
   "cell_type": "code",
   "execution_count": 21,
   "metadata": {
    "collapsed": false
   },
   "outputs": [
    {
     "data": {
      "text/plain": [
       "12-element Array{Float64,1}:\n",
       " -1.13035 \n",
       "  1.57235 \n",
       " -1.97173 \n",
       "  2.41373 \n",
       " -1.78589 \n",
       " -1.2194  \n",
       " -0.435664\n",
       "  2.31061 \n",
       "  0.537859\n",
       "  0.495703\n",
       " -0.76101 \n",
       "  1.29979 "
      ]
     },
     "execution_count": 21,
     "metadata": {},
     "output_type": "execute_result"
    }
   ],
   "source": [
    "getMME(mme1,df1)"
   ]
  },
  {
   "cell_type": "code",
   "execution_count": 25,
   "metadata": {
    "collapsed": false
   },
   "outputs": [
    {
     "data": {
      "text/plain": [
       "427.68"
      ]
     },
     "execution_count": 25,
     "metadata": {},
     "output_type": "execute_result"
    }
   ],
   "source": [
    "25.20*4 + 0.36*2*454"
   ]
  }
 ],
 "metadata": {
  "kernelspec": {
   "display_name": "Julia 0.3.7",
   "language": "julia",
   "name": "julia 0.3"
  },
  "language_info": {
   "name": "julia",
   "version": "0.3.7"
  }
 },
 "nbformat": 4,
 "nbformat_minor": 0
}
