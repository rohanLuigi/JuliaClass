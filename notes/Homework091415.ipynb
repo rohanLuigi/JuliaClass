{
 "cells": [
  {
   "cell_type": "markdown",
   "metadata": {},
   "source": [
    "#Homework\n",
    "\n",
    "    Test Whether the Parameters are in the Model\n",
    "    \n",
    "    Add code to add the intercept to the model without it being in the dataset"
   ]
  },
  {
   "cell_type": "markdown",
   "metadata": {},
   "source": [
    "### Create the Dataset"
   ]
  },
  {
   "cell_type": "code",
   "execution_count": 1,
   "metadata": {
    "collapsed": false,
    "scrolled": true
   },
   "outputs": [
    {
     "data": {
      "text/html": [
       "<table class=\"data-frame\"><tr><th></th><th>A</th><th>B</th><th>X</th><th>W</th><th>y</th></tr><tr><th>1</th><td>1</td><td>1</td><td>-0.46140639263679695</td><td>-1.0642358643418959</td><td>0.5009107796769866</td></tr><tr><th>2</th><td>1</td><td>1</td><td>0.29892411132040064</td><td>-0.02025599600345363</td><td>0.3749778510702613</td></tr><tr><th>3</th><td>1</td><td>2</td><td>2.388163806001887</td><td>0.5359049550240381</td><td>0.9627972572543042</td></tr><tr><th>4</th><td>1</td><td>2</td><td>1.5574349516933037</td><td>0.5452760547313114</td><td>1.0760945590997033</td></tr><tr><th>5</th><td>1</td><td>2</td><td>-1.693604570912408</td><td>0.6400866106883827</td><td>-0.26493929091749846</td></tr><tr><th>6</th><td>2</td><td>1</td><td>0.23775869320175416</td><td>-0.9706975035086898</td><td>0.5999386867574924</td></tr><tr><th>7</th><td>2</td><td>1</td><td>-0.6208002848122265</td><td>-0.21542868551511352</td><td>-0.3859737581156107</td></tr><tr><th>8</th><td>2</td><td>1</td><td>-1.215302743911465</td><td>-0.37115347399230375</td><td>0.1176585550481973</td></tr><tr><th>9</th><td>2</td><td>2</td><td>-0.7219159519736128</td><td>-1.725868432024615</td><td>-0.46805209746238285</td></tr><tr><th>10</th><td>2</td><td>2</td><td>-1.08399973884285</td><td>-0.4352134549173871</td><td>1.323968872695453</td></tr></table>"
      ],
      "text/plain": [
       "10x5 DataFrame\n",
       "| Row | A | B | X         | W         | y         |\n",
       "|-----|---|---|-----------|-----------|-----------|\n",
       "| 1   | 1 | 1 | -0.461406 | -1.06424  | 0.500911  |\n",
       "| 2   | 1 | 1 | 0.298924  | -0.020256 | 0.374978  |\n",
       "| 3   | 1 | 2 | 2.38816   | 0.535905  | 0.962797  |\n",
       "| 4   | 1 | 2 | 1.55743   | 0.545276  | 1.07609   |\n",
       "| 5   | 1 | 2 | -1.6936   | 0.640087  | -0.264939 |\n",
       "| 6   | 2 | 1 | 0.237759  | -0.970698 | 0.599939  |\n",
       "| 7   | 2 | 1 | -0.6208   | -0.215429 | -0.385974 |\n",
       "| 8   | 2 | 1 | -1.2153   | -0.371153 | 0.117659  |\n",
       "| 9   | 2 | 2 | -0.721916 | -1.72587  | -0.468052 |\n",
       "| 10  | 2 | 2 | -1.084    | -0.435213 | 1.32397   |"
      ]
     },
     "execution_count": 1,
     "metadata": {},
     "output_type": "execute_result"
    }
   ],
   "source": [
    "using DataFrames\n",
    "inter = fill(1,10)\n",
    "A = [1,1,1,1,1,2,2,2,2,2]\n",
    "B = [1,1,2,2,2,1,1,1,2,2]\n",
    "C = [1,2,1,2,2,1,2,2,1,2]\n",
    "df1 = DataFrame(intercept=inter,A=A,B=B,X=randn(10),W=randn(10),y=randn(10))\n",
    "df2 = DataFrame(A=A,B=B,X=randn(10),W=randn(10),y=randn(10))"
   ]
  },
  {
   "cell_type": "code",
   "execution_count": 2,
   "metadata": {
    "collapsed": false
   },
   "outputs": [
    {
     "data": {
      "text/plain": [
       "6-element Array{Symbol,1}:\n",
       " :intercept\n",
       " :A        \n",
       " :B        \n",
       " :X        \n",
       " :W        \n",
       " :y        "
      ]
     },
     "execution_count": 2,
     "metadata": {},
     "output_type": "execute_result"
    }
   ],
   "source": [
    "names(df1)"
   ]
  },
  {
   "cell_type": "markdown",
   "metadata": {},
   "source": [
    "###Main Code\n",
    "\n",
    "####Define the MME and ModelTerm Objects"
   ]
  },
  {
   "cell_type": "code",
   "execution_count": 3,
   "metadata": {
    "collapsed": true
   },
   "outputs": [],
   "source": [
    "type ModelTerm \n",
    "    trmStr::String\n",
    "    nFactors::Int64\n",
    "    factors::Array{Symbol,1}\n",
    "    str::Array{String,1}\n",
    "    val::Array{Float64,1}\n",
    "    X::SparseMatrixCSC{Float64,Int64}\n",
    "    names::Array{Any,1}\n",
    "end\n",
    "\n",
    "type MME\n",
    "    modelEquation::String\n",
    "    modelTerms::Array{ModelTerm,1}\n",
    "    lhs::Symbol\n",
    "    covVec::Array{Symbol,1}\n",
    "    mmeLhs\n",
    "    mmeRhs\n",
    "    X\n",
    "end;"
   ]
  },
  {
   "cell_type": "markdown",
   "metadata": {},
   "source": [
    "####The Gauss-Seidel, Jacobi and Dictionary Functions"
   ]
  },
  {
   "cell_type": "code",
   "execution_count": 4,
   "metadata": {
    "collapsed": true
   },
   "outputs": [],
   "source": [
    "function GaussSeidel(A,x,b;tol=0.000001)\n",
    "    n = size(x,1)\n",
    "    iter = 0\n",
    "    diff = 1.0\n",
    "    while ((diff/n > tol) & (iter<1000))\n",
    "        iter += 1\n",
    "        for i=1:n\n",
    "            x[i] = ((b[i] - A[i,:]*x)/A[i,i])[1,1] + x[i]\n",
    "        end\n",
    "        diff = sum((A*x-b).^2)\n",
    "        println(iter,\" \",diff/n)\n",
    "    end\n",
    "    return x\n",
    "end\n",
    "\n",
    "function Jacobi(A,x,b,p;tol=0.000001)\n",
    "    D       = diag(A)\n",
    "    res     = A*x\n",
    "    resid   = b-res\n",
    "    tempSol = resid./D\n",
    "    diff    = sum(resid.^2)\n",
    "    n    = size(A,1)\n",
    "    iter = 0\n",
    "    while ((diff/n > tol) & (iter<1000))\n",
    "        iter += 1\n",
    "        x = p*tempSol + (1-p)*x\n",
    "        res     = A*x\n",
    "        resid   = b-res\n",
    "        tempSol = resid./D + x\n",
    "        diff    = sum(resid.^2)\n",
    "        println(iter,\" \",diff/n)\n",
    "    end\n",
    "    return x\n",
    "end\n",
    "\n",
    "function mkDict(a)\n",
    "    aUnique = unique(a)\n",
    "    d = Dict()\n",
    "    names = Array(Any,size(aUnique,1))\n",
    "    for (i,s) in enumerate(aUnique)\n",
    "        names[i] = s\n",
    "        d[s] = i\n",
    "    end\n",
    "    return d,names\n",
    "end;"
   ]
  },
  {
   "cell_type": "markdown",
   "metadata": {},
   "source": [
    "####Create the ModelTerms"
   ]
  },
  {
   "cell_type": "code",
   "execution_count": 5,
   "metadata": {
    "collapsed": true
   },
   "outputs": [],
   "source": [
    "function getTerm(trmStr)\n",
    "    trm = ModelTerm(trmStr,0,[],[],[],spzeros(0,0),[])\n",
    "    if length(trmStr)==1\n",
    "        trm.nFactors = 1\n",
    "        trm.factors  = [symbol(strip(trmStr))]\n",
    "    else\n",
    "        factorVec = split(trmStr,\"*\")\n",
    "        trm.nFactors = length(factorVec)\n",
    "        trm.factors = [symbol(strip(f)) for f in factorVec]\n",
    "    end\n",
    "    return trm\n",
    "end;"
   ]
  },
  {
   "cell_type": "markdown",
   "metadata": {},
   "source": [
    "####Create the MME based on the Equation (but not yet adding the data)"
   ]
  },
  {
   "cell_type": "code",
   "execution_count": 6,
   "metadata": {
    "collapsed": true
   },
   "outputs": [],
   "source": [
    "function initMME(modelEquation::String)\n",
    "    # returns an MME object for muilding the mme corresponding \n",
    "    # to the input string\n",
    "    if modelEquation==\"\"\n",
    "        println(\"modelEquation is empty\\n\")\n",
    "        return\n",
    "    end\n",
    "    lhsRhs = split(modelEquation,\"=\")\n",
    "    lhs = symbol(strip(lhsRhs[1]))\n",
    "    rhs = strip(lhsRhs[2])\n",
    "    rhsVec = split(rhs,\"+\")    \n",
    "    modelTerms = [getTerm(strip(trmStr)) for trmStr in rhsVec]\n",
    "    return MME(modelEquation,modelTerms,lhs,[],0,0,0)\n",
    "end;"
   ]
  },
  {
   "cell_type": "markdown",
   "metadata": {},
   "source": [
    "####Add the Data to the ModelTerms Object"
   ]
  },
  {
   "cell_type": "code",
   "execution_count": 7,
   "metadata": {
    "collapsed": true
   },
   "outputs": [],
   "source": [
    "function getData(trm::ModelTerm,df::DataFrame,mme::MME)\n",
    "    nObs = size(df,1)\n",
    "    trm.str = Array(String,nObs)\n",
    "    trm.val = Array(Float64,nObs)\n",
    "    myDf = df[trm.factors]\n",
    "    if trm.factors[1] in mme.covVec\n",
    "        str = fill(string(trm.factors[1]),nObs)\n",
    "        val = df[trm.factors[1]]\n",
    "    else\n",
    "        str = [string(i) for i in df[trm.factors[1]]]\n",
    "        val = fill(1.0,nObs)\n",
    "    end\n",
    "    for i=2:trm.nFactors\n",
    "        if trm.factors[i] in mme.covVec\n",
    "            str = str .* fill(\"x\"*string(trm.factors[i]),nObs)\n",
    "            val = val .* df[trm.factors[i]]\n",
    "        else\n",
    "            str = str .* fill(\"x\",nObs) .* [string(j) for j in df[trm.factors[i]]]\n",
    "            val = val .* fill(1.0,nObs)\n",
    "        end\n",
    "    end\n",
    "    trm.str = str\n",
    "    trm.val = val\n",
    "end;"
   ]
  },
  {
   "cell_type": "markdown",
   "metadata": {},
   "source": [
    "####Create the X matrix based on the ModelTerms"
   ]
  },
  {
   "cell_type": "code",
   "execution_count": 8,
   "metadata": {
    "collapsed": true
   },
   "outputs": [],
   "source": [
    "function getX(trm)\n",
    "    dict,trm.names  = mkDict(trm.str)\n",
    "    xj    = int([dict[i] for i in trm.str])\n",
    "    xi    = 1:size(trm.str,1)\n",
    "    trm.X = sparse(xi,xj,trm.val)  \n",
    "end;"
   ]
  },
  {
   "cell_type": "markdown",
   "metadata": {},
   "source": [
    "####Create the Left Hand Side and Right Hand Side of  the MME"
   ]
  },
  {
   "cell_type": "code",
   "execution_count": 9,
   "metadata": {
    "collapsed": true
   },
   "outputs": [],
   "source": [
    "function getMME(mme::MME, df::DataFrame)\n",
    "    for trm in mme.modelTerms\n",
    "        getData(trm,df,mme)\n",
    "        getX(trm)\n",
    "    end\n",
    "    n   = size(mme.modelTerms,1)\n",
    "    trm = mme.modelTerms[1]\n",
    "    X   = trm.X\n",
    "    for i=2:n\n",
    "        trm = mme.modelTerms[i]\n",
    "        X = [X trm.X]\n",
    "    end\n",
    "    y      = df[mme.lhs]\n",
    "    mme.mmeLhs = X'X\n",
    "    mme.mmeRhs = X'y\n",
    "    mme.X = X\n",
    "end;"
   ]
  },
  {
   "cell_type": "markdown",
   "metadata": {},
   "source": [
    "####Get the names of each of the ModelTerms (to print out solutions later)"
   ]
  },
  {
   "cell_type": "code",
   "execution_count": 10,
   "metadata": {
    "collapsed": true
   },
   "outputs": [],
   "source": [
    "function getNames(mme)\n",
    "    names = Array(String,0)\n",
    "    for trm in mme.modelTerms\n",
    "        for name in trm.names\n",
    "            push!(names,trm.trmStr*\": \"*name)\n",
    "        end\n",
    "    end\n",
    "    return names\n",
    "end; "
   ]
  },
  {
   "cell_type": "markdown",
   "metadata": {},
   "source": [
    "####Create function to specify which parameters are covariates, the default is a class variable"
   ]
  },
  {
   "cell_type": "code",
   "execution_count": 11,
   "metadata": {
    "collapsed": true
   },
   "outputs": [],
   "source": [
    "function covList(mme::MME, covStr::String)\n",
    "    covVec = split(covStr,\" \",false) \n",
    "    mme.covVec = [symbol(i) for i in covVec]\n",
    "    nothing\n",
    "end;"
   ]
  },
  {
   "cell_type": "markdown",
   "metadata": {},
   "source": [
    "##Test Whether the Model Parameters are in the DataFrame (except intercept)\n",
    "\n",
    "    Get the variable on the left hand side (i.e. y)\n",
    "    \n",
    "    Add to that array the modelTerm factors and get the unique ones\n",
    "    \n",
    "    Set boo to true\n",
    "    \n",
    "    If the parameter is not the intercept, try to get each of the unique parameters from the DataFrame\n",
    "        If the parameter is in the DataFrame, do nothing\n",
    "        If the parameter is not in the DataFrame, print out the error message and set boo to false\n",
    "        \n",
    "    Return boo"
   ]
  },
  {
   "cell_type": "code",
   "execution_count": 12,
   "metadata": {
    "collapsed": true
   },
   "outputs": [],
   "source": [
    "function testTerms(mme::MME, df::DataFrame)\n",
    "    a = mme.lhs\n",
    "    for i in 1:length(mme.modelTerms)\n",
    "        a = [a,mme.modelTerms[i].factors]\n",
    "    end\n",
    "    b = unique(a)\n",
    "    boo = true\n",
    "    for s in b\n",
    "        if(s != :intercept)\n",
    "           try\n",
    "               df[s]\n",
    "           catch\n",
    "               println(\"Parameter \",s,\" is not in the given DataFrame\")\n",
    "               boo = false\n",
    "           end\n",
    "        end\n",
    "    end\n",
    "    return boo\n",
    "end;"
   ]
  },
  {
   "cell_type": "markdown",
   "metadata": {},
   "source": [
    "##Change getData to Include an Intercept\n",
    "\n",
    "    Need to test whether the factor is \"intercept\", then fill str and val with \"intercept\" and 1.0, respectively.\n",
    "    \n",
    "    For all other ModelTerms, fill as normal."
   ]
  },
  {
   "cell_type": "code",
   "execution_count": 13,
   "metadata": {
    "collapsed": true
   },
   "outputs": [],
   "source": [
    "function getData(trm::ModelTerm,df::DataFrame,mme::MME)\n",
    "    nObs = size(df,1)\n",
    "    trm.str = Array(String,nObs)\n",
    "    trm.val = Array(Float64,nObs)\n",
    "    if(trm.factors[1] == :intercept)\n",
    "            str = fill(string(trm.factors[1]),nObs)\n",
    "            val = fill(1.0,nObs)\n",
    "    else\n",
    "        myDf = df[trm.factors]\n",
    "        if trm.factors[1] in mme.covVec\n",
    "            str = fill(string(trm.factors[1]),nObs)\n",
    "            val = df[trm.factors[1]]\n",
    "        else\n",
    "            str = [string(i) for i in df[trm.factors[1]]]\n",
    "            val = fill(1.0,nObs)\n",
    "        end\n",
    "        for i=2:trm.nFactors\n",
    "            if trm.factors[i] in mme.covVec\n",
    "                str = str .* fill(\"x\"*string(trm.factors[i]),nObs)\n",
    "                val = val .* df[trm.factors[i]]\n",
    "            else\n",
    "                str = str .* fill(\"x\",nObs) .* [string(j) for j in df[trm.factors[i]]]\n",
    "                val = val .* fill(1.0,nObs)\n",
    "            end\n",
    "        end\n",
    "    end\n",
    "    trm.str = str\n",
    "    trm.val = val\n",
    "end;"
   ]
  },
  {
   "cell_type": "markdown",
   "metadata": {},
   "source": [
    "###Change the getSol Codes to Call testTerms function\n",
    "\n",
    "    First test the terms in the model\n",
    "        If testTerms returns true (i.e. the parameters, minus intercept, are all in the DataFrame), get the solution.\n",
    "        If testTerms returns false, do nothing (but testTerms will print out an error message)."
   ]
  },
  {
   "cell_type": "code",
   "execution_count": 14,
   "metadata": {
    "collapsed": true
   },
   "outputs": [],
   "source": [
    "function getSolJ(mme::MME, df::DataFrame)\n",
    "    if testTerms(mme,df)\n",
    "       if size(mme.mmeRhs)==() \n",
    "           getMME(mme,df)\n",
    "       end\n",
    "       p = size(mme.mmeRhs,1)\n",
    "       return [getNames(mme) Jacobi(mme.mmeLhs,fill(0.0,p),mme.mmeRhs,0.3,tol=0.000001)]\n",
    "    end\n",
    "end\n",
    "\n",
    "function getSolG(mme::MME, df::DataFrame)\n",
    "    if testTerms(mme,df)\n",
    "       if size(mme.mmeRhs)==() \n",
    "           getMME(mme,df)\n",
    "       end\n",
    "       p = size(mme.mmeRhs,1)\n",
    "       return [getNames(mme) GaussSeidel(mme.mmeLhs,fill(0.0,p),mme.mmeRhs,tol=0.000001)]\n",
    "    end\n",
    "end;"
   ]
  },
  {
   "cell_type": "markdown",
   "metadata": {},
   "source": [
    "##Testing!\n",
    "\n",
    "####All parameters are in the model:"
   ]
  },
  {
   "cell_type": "code",
   "execution_count": 15,
   "metadata": {
    "collapsed": false
   },
   "outputs": [
    {
     "name": "stdout",
     "output_type": "stream",
     "text": [
      "1 1.0322984501915584e-31\n"
     ]
    },
    {
     "data": {
      "text/plain": [
       "8x2 Array{Any,2}:\n",
       " \"A: 1\"       0.439629 \n",
       " \"A: 2\"       0.135026 \n",
       " \"B: 1\"      -0.0859639\n",
       " \"B: 2\"       0.0859639\n",
       " \"A*B: 1x1\"   0.416476 \n",
       " \"A*B: 1x2\"  -0.306306 \n",
       " \"A*B: 2x1\"  -0.277651 \n",
       " \"A*B: 2x2\"   0.459458 "
      ]
     },
     "execution_count": 15,
     "metadata": {},
     "output_type": "execute_result"
    }
   ],
   "source": [
    "mme = initMME(\"y = A + B + A*B\")\n",
    "getSolG(mme,df1)"
   ]
  },
  {
   "cell_type": "markdown",
   "metadata": {},
   "source": [
    "####Including parameters that are not in the model:"
   ]
  },
  {
   "cell_type": "code",
   "execution_count": 16,
   "metadata": {
    "collapsed": false
   },
   "outputs": [
    {
     "name": "stdout",
     "output_type": "stream",
     "text": [
      "Parameter D is not in the given DataFrame\n",
      "Parameter E is not in the given DataFrame\n"
     ]
    }
   ],
   "source": [
    "mme2 = initMME(\"y = A + B + A*D*E\")\n",
    "getSolG(mme2,df1)"
   ]
  },
  {
   "cell_type": "markdown",
   "metadata": {},
   "source": [
    "####Including a covariate:"
   ]
  },
  {
   "cell_type": "code",
   "execution_count": 17,
   "metadata": {
    "collapsed": false
   },
   "outputs": [
    {
     "name": "stdout",
     "output_type": "stream",
     "text": [
      "1 0.0\n"
     ]
    },
    {
     "data": {
      "text/plain": [
       "1x2 Array{Any,2}:\n",
       " \"W: W\"  -0.0388144"
      ]
     },
     "execution_count": 17,
     "metadata": {},
     "output_type": "execute_result"
    }
   ],
   "source": [
    "mme3 = initMME(\"y = W\")\n",
    "covList(mme3,\"W\")\n",
    "getSolG(mme3,df1)"
   ]
  },
  {
   "cell_type": "markdown",
   "metadata": {},
   "source": [
    "####Including a y variable that is not in the DataFrame:"
   ]
  },
  {
   "cell_type": "code",
   "execution_count": 18,
   "metadata": {
    "collapsed": false
   },
   "outputs": [
    {
     "name": "stdout",
     "output_type": "stream",
     "text": [
      "Parameter P is not in the given DataFrame\n",
      "Parameter L is not in the given DataFrame\n"
     ]
    }
   ],
   "source": [
    "mme4 = initMME(\"P = X + L\")\n",
    "getSolG(mme4,df1)"
   ]
  },
  {
   "cell_type": "markdown",
   "metadata": {},
   "source": [
    "####Including the intercept when it is in the DataFrame:"
   ]
  },
  {
   "cell_type": "code",
   "execution_count": 19,
   "metadata": {
    "collapsed": false
   },
   "outputs": [
    {
     "name": "stdout",
     "output_type": "stream",
     "text": [
      "1 0.03548362152477033\n",
      "2 0.0011581671566600925\n",
      "3 0.00022346991808391706\n",
      "4 4.7200284586298634e-5\n",
      "5 6.965148422269336e-6\n",
      "6 8.040727332262058e-7\n"
     ]
    },
    {
     "data": {
      "text/plain": [
       "3x2 Array{Any,2}:\n",
       " \"intercept: intercept\"  0.304917   \n",
       " \"X: X\"                  0.000784314\n",
       " \"W: W\"                  0.0541937  "
      ]
     },
     "execution_count": 19,
     "metadata": {},
     "output_type": "execute_result"
    }
   ],
   "source": [
    "mme5 = initMME(\"y = intercept + X + W\")\n",
    "covList(mme5,\"X W\")\n",
    "getSolG(mme5,df1)"
   ]
  },
  {
   "cell_type": "markdown",
   "metadata": {},
   "source": [
    "####Including the intercept when it is not in the DataFrame:"
   ]
  },
  {
   "cell_type": "code",
   "execution_count": 20,
   "metadata": {
    "collapsed": false
   },
   "outputs": [
    {
     "name": "stdout",
     "output_type": "stream",
     "text": [
      "1 0.18386879798089514\n",
      "2 0.004020744046679046\n",
      "3 8.792346970465719e-5\n",
      "4 1.9226631775504723e-6\n",
      "5 4.204376495519241e-8\n"
     ]
    },
    {
     "data": {
      "text/plain": [
       "2x2 Array{Any,2}:\n",
       " \"intercept: intercept\"  0.454869\n",
       " \"W: W\"                  0.23092 "
      ]
     },
     "execution_count": 20,
     "metadata": {},
     "output_type": "execute_result"
    }
   ],
   "source": [
    "mme6 = initMME(\"y = intercept + W\")\n",
    "covList(mme6,\"X W\")\n",
    "getSolG(mme6,df2)"
   ]
  },
  {
   "cell_type": "markdown",
   "metadata": {},
   "source": [
    "####Including the intercept and a parameter not in the DataFrame:"
   ]
  },
  {
   "cell_type": "code",
   "execution_count": 21,
   "metadata": {
    "collapsed": false
   },
   "outputs": [
    {
     "name": "stdout",
     "output_type": "stream",
     "text": [
      "Parameter J is not in the given DataFrame\n"
     ]
    }
   ],
   "source": [
    "mme7 = initMME(\"y = intercept + X + W + J\")\n",
    "covList(mme7,\"X W\")\n",
    "getSolG(mme7,df2)"
   ]
  }
 ],
 "metadata": {
  "kernelspec": {
   "display_name": "Julia 0.3.7",
   "language": "julia",
   "name": "julia-0.3"
  },
  "language_info": {
   "name": "julia",
   "version": "0.3.7"
  }
 },
 "nbformat": 4,
 "nbformat_minor": 0
}
