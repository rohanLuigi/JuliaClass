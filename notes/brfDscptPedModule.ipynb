{
 "cells": [
  {
   "cell_type": "markdown",
   "metadata": {},
   "source": [
    "## Brief Description of the Pedigree Module"
   ]
  },
  {
   "cell_type": "code",
   "execution_count": 1,
   "metadata": {
    "collapsed": true
   },
   "outputs": [],
   "source": [
    "using DataFrames  "
   ]
  },
  {
   "cell_type": "markdown",
   "metadata": {},
   "source": [
    "### Pedigree node type:\n",
    "Data for pedigree member will be stored in a pedigree node. The \"seqIDs\" PedNodes will be assigend integer values going from 1 to n, the number of pedigree members, such that ancestors will have lower IDs than descendents. The string ID af the parents will be stored in \"sire\" and \"dam\". If the individual is a founder, \"sire\" and \"dam\" will contain \"0\" and \"0\". The inbreeding coefficient of an individual is stored in \"f\".     "
   ]
  },
  {
   "cell_type": "code",
   "execution_count": 2,
   "metadata": {
    "collapsed": false
   },
   "outputs": [],
   "source": [
    "type PedNode\n",
    "    seqID::Int64                                              \n",
    "    sire::UTF8String\n",
    "    dam::UTF8String\n",
    "    f::Float64                           \n",
    "end"
   ]
  },
  {
   "cell_type": "markdown",
   "metadata": {},
   "source": [
    "### The Pedigree type:\n",
    "The pedigree nodes will be stored in \"idMap\", which is an associative array that can be used to store and retrieve key-values pairs. An associative array in Julia has type \"Dict\". The key in idMap is the stringID of the individual, and the data associated with the key will be the PedNode of this pedigree member. The \"currentID\" is used to compute the sequential IDs, and, as described later, \"aij\" is a sparse matrix that is used to store relationship coefficients used to compute inbreeding. "
   ]
  },
  {
   "cell_type": "code",
   "execution_count": 3,
   "metadata": {
    "collapsed": true
   },
   "outputs": [],
   "source": [
    "type Pedigree                             \n",
    "    currentID::Int64                            \n",
    "    idMap::Dict{UTF8String,PedNode}                               \n",
    "    aij::SparseMatrixCSC{Float64,Int64}                          \n",
    "end"
   ]
  },
  {
   "cell_type": "markdown",
   "metadata": {},
   "source": [
    "### Read the pedigree file into a DataFrame object"
   ]
  },
  {
   "cell_type": "code",
   "execution_count": 4,
   "metadata": {
    "collapsed": false,
    "scrolled": true
   },
   "outputs": [
    {
     "data": {
      "text/html": [
       "<table class=\"data-frame\"><tr><th></th><th>x1</th><th>x2</th><th>x3</th></tr><tr><th>1</th><td>AA93</td><td>A1</td><td>AA92</td></tr><tr><th>2</th><td>A1</td><td>C2</td><td>223G</td></tr><tr><th>3</th><td>FFG1</td><td>C2</td><td>C99</td></tr><tr><th>4</th><td>AA92</td><td>A1</td><td>FFG1</td></tr></table>"
      ],
      "text/plain": [
       "4x3 DataFrame\n",
       "| Row | x1     | x2   | x3     |\n",
       "|-----|--------|------|--------|\n",
       "| 1   | \"AA93\" | \"A1\" | \"AA92\" |\n",
       "| 2   | \"A1\"   | \"C2\" | \"223G\" |\n",
       "| 3   | \"FFG1\" | \"C2\" | \"C99\"  |\n",
       "| 4   | \"AA92\" | \"A1\" | \"FFG1\" |"
      ]
     },
     "execution_count": 4,
     "metadata": {},
     "output_type": "execute_result"
    }
   ],
   "source": [
    "pedFile = \"ex1.ped\"\n",
    "df = readtable(pedFile,eltypes=[UTF8String,UTF8String,UTF8String],separator = ' ',header=false)  "
   ]
  },
  {
   "cell_type": "markdown",
   "metadata": {},
   "source": [
    "### Initialize a Pedigree object"
   ]
  },
  {
   "cell_type": "code",
   "execution_count": 11,
   "metadata": {
    "collapsed": false
   },
   "outputs": [
    {
     "data": {
      "text/plain": [
       "Pedigree(1,Dict{UTF8String,PedNode}(),1x1 sparse matrix with 0 Float64 entries:)"
      ]
     },
     "execution_count": 11,
     "metadata": {},
     "output_type": "execute_result"
    }
   ],
   "source": [
    "idMap = Dict{UTF8String,PedNode}() # this is an empty \"Dict\" with key type UTF8String and value type PedNode\n",
    "aij = spzeros(1,1)                 # this creates an empty 1x1 sparse matrix\n",
    "ped = Pedigree(1,idMap,aij)        # here we get the Pedigree object that we will call ped"
   ]
  },
  {
   "cell_type": "markdown",
   "metadata": {},
   "source": [
    "#### Make entries for sires in the idMap Dict\n",
    "The PedNode value will be set to (0,\"0\",\"0\",-1.0) for each sire"
   ]
  },
  {
   "cell_type": "code",
   "execution_count": 13,
   "metadata": {
    "collapsed": true
   },
   "outputs": [],
   "source": [
    "n = size(df,1) \n",
    "for i in df[:,2]                       \n",
    "    if i!=\"0\" && !haskey(ped.idMap,i)          # skip 0 and if already done\n",
    "        ped.idMap[i]=PedNode(0,\"0\",\"0\",-1.0)\n",
    "    end\n",
    "end"
   ]
  },
  {
   "cell_type": "code",
   "execution_count": 14,
   "metadata": {
    "collapsed": false
   },
   "outputs": [
    {
     "data": {
      "text/plain": [
       "Dict{UTF8String,PedNode} with 2 entries:\n",
       "  \"C2\" => PedNode(0,\"0\",\"0\",-1.0)\n",
       "  \"A1\" => PedNode(0,\"0\",\"0\",-1.0)"
      ]
     },
     "execution_count": 14,
     "metadata": {},
     "output_type": "execute_result"
    }
   ],
   "source": [
    "ped.idMap"
   ]
  },
  {
   "cell_type": "markdown",
   "metadata": {},
   "source": [
    "#### Make entries for dams in the idMap Dict\n",
    "    The PedNode value will be set to (0,\"0\",\"0\",-1.0) for each dam"
   ]
  },
  {
   "cell_type": "code",
   "execution_count": 16,
   "metadata": {
    "collapsed": true
   },
   "outputs": [],
   "source": [
    "    for i in df[:,3]                      \n",
    "        if i!=\"0\" && !haskey(ped.idMap,i)         # make an entry for all dams\n",
    "            ped.idMap[i]=PedNode(0,\"0\",\"0\",-1.0)\n",
    "        end\n",
    "    end "
   ]
  },
  {
   "cell_type": "code",
   "execution_count": 17,
   "metadata": {
    "collapsed": false,
    "scrolled": true
   },
   "outputs": [
    {
     "data": {
      "text/plain": [
       "Dict{UTF8String,PedNode} with 6 entries:\n",
       "  \"FFG1\" => PedNode(0,\"0\",\"0\",-1.0)\n",
       "  \"C2\"   => PedNode(0,\"0\",\"0\",-1.0)\n",
       "  \"AA92\" => PedNode(0,\"0\",\"0\",-1.0)\n",
       "  \"C99\"  => PedNode(0,\"0\",\"0\",-1.0)\n",
       "  \"A1\"   => PedNode(0,\"0\",\"0\",-1.0)\n",
       "  \"223G\" => PedNode(0,\"0\",\"0\",-1.0)"
      ]
     },
     "execution_count": 17,
     "metadata": {},
     "output_type": "execute_result"
    }
   ],
   "source": [
    "ped.idMap"
   ]
  },
  {
   "cell_type": "markdown",
   "metadata": {},
   "source": [
    "#### Make entries for individuals in the pedigree and fill in sire and dam strings of PedNode"
   ]
  },
  {
   "cell_type": "code",
   "execution_count": 19,
   "metadata": {
    "collapsed": false,
    "scrolled": true
   },
   "outputs": [
    {
     "data": {
      "text/plain": [
       "Dict{UTF8String,PedNode} with 7 entries:\n",
       "  \"FFG1\" => PedNode(0,\"C2\",\"C99\",-1.0)\n",
       "  \"C2\"   => PedNode(0,\"0\",\"0\",-1.0)\n",
       "  \"AA92\" => PedNode(0,\"A1\",\"FFG1\",-1.0)\n",
       "  \"C99\"  => PedNode(0,\"0\",\"0\",-1.0)\n",
       "  \"AA93\" => PedNode(0,\"A1\",\"AA92\",-1.0)\n",
       "  \"A1\"   => PedNode(0,\"C2\",\"223G\",-1.0)\n",
       "  \"223G\" => PedNode(0,\"0\",\"0\",-1.0)"
      ]
     },
     "execution_count": 19,
     "metadata": {},
     "output_type": "execute_result"
    }
   ],
   "source": [
    "j = 1\n",
    "for i in df[:,1]                              \n",
    "    ped.idMap[i]=PedNode(0,df[j,2],df[j,3],-1.0) \n",
    "    j+=1\n",
    "end \n",
    "ped.idMap"
   ]
  },
  {
   "cell_type": "markdown",
   "metadata": {},
   "source": [
    "#### Can use enumerate"
   ]
  },
  {
   "cell_type": "code",
   "execution_count": 20,
   "metadata": {
    "collapsed": false,
    "scrolled": true
   },
   "outputs": [
    {
     "data": {
      "text/plain": [
       "Dict{UTF8String,PedNode} with 7 entries:\n",
       "  \"FFG1\" => PedNode(0,\"C2\",\"C99\",-1.0)\n",
       "  \"C2\"   => PedNode(0,\"0\",\"0\",-1.0)\n",
       "  \"AA92\" => PedNode(0,\"A1\",\"FFG1\",-1.0)\n",
       "  \"C99\"  => PedNode(0,\"0\",\"0\",-1.0)\n",
       "  \"AA93\" => PedNode(0,\"A1\",\"AA92\",-1.0)\n",
       "  \"A1\"   => PedNode(0,\"C2\",\"223G\",-1.0)\n",
       "  \"223G\" => PedNode(0,\"0\",\"0\",-1.0)"
      ]
     },
     "execution_count": 20,
     "metadata": {},
     "output_type": "execute_result"
    }
   ],
   "source": [
    "for (j,i) in enumerate(df[:,1])                              \n",
    "    ped.idMap[i]=PedNode(0,df[j,2],df[j,3],-1.0) \n",
    "end \n",
    "ped.idMap"
   ]
  },
  {
   "cell_type": "markdown",
   "metadata": {},
   "source": [
    "### Recursive function to assign sequential IDS"
   ]
  },
  {
   "cell_type": "code",
   "execution_count": 21,
   "metadata": {
    "collapsed": false
   },
   "outputs": [
    {
     "data": {
      "text/plain": [
       "code! (generic function with 1 method)"
      ]
     },
     "execution_count": 21,
     "metadata": {},
     "output_type": "execute_result"
    }
   ],
   "source": [
    "# The idea for this function came from a perl script by Bernt Guldbrandtsen\n",
    "function code!(ped::Pedigree,id::UTF8String)   \n",
    "    if ped.idMap[id].seqID!=0  # already done?           \n",
    "        return                 # nothing more to do\n",
    "    end\n",
    "    sireID = ped.idMap[id].sire  \n",
    "    damID  = ped.idMap[id].dam\n",
    "    if sireID!=\"0\" && ped.idMap[sireID].seqID==0 # does the sire have a sequential id?      \n",
    "        code!(ped,sireID)                        # if not call the same function for sire                          \n",
    "    end \n",
    "    if damID!=\"0\" && ped.idMap[damID].seqID==0   # does the dam have a sequential id     \n",
    "        code!(ped,damID)\n",
    "    end\n",
    "    ped.idMap[id].seqID = ped.currentID          # assign ped.current to individual and increment it \n",
    "    ped.currentID += 1\n",
    "end"
   ]
  },
  {
   "cell_type": "code",
   "execution_count": 22,
   "metadata": {
    "collapsed": true
   },
   "outputs": [],
   "source": [
    "for id in keys(ped.idMap)\n",
    "    code!(ped,id)\n",
    "end"
   ]
  },
  {
   "cell_type": "code",
   "execution_count": 23,
   "metadata": {
    "collapsed": false,
    "scrolled": true
   },
   "outputs": [
    {
     "data": {
      "text/plain": [
       "Dict{UTF8String,PedNode} with 7 entries:\n",
       "  \"FFG1\" => PedNode(3,\"C2\",\"C99\",-1.0)\n",
       "  \"C2\"   => PedNode(1,\"0\",\"0\",-1.0)\n",
       "  \"AA92\" => PedNode(6,\"A1\",\"FFG1\",-1.0)\n",
       "  \"C99\"  => PedNode(2,\"0\",\"0\",-1.0)\n",
       "  \"AA93\" => PedNode(7,\"A1\",\"AA92\",-1.0)\n",
       "  \"A1\"   => PedNode(5,\"C2\",\"223G\",-1.0)\n",
       "  \"223G\" => PedNode(4,\"0\",\"0\",-1.0)"
      ]
     },
     "execution_count": 23,
     "metadata": {},
     "output_type": "execute_result"
    }
   ],
   "source": [
    "ped.idMap"
   ]
  },
  {
   "cell_type": "code",
   "execution_count": 28,
   "metadata": {
    "collapsed": false,
    "scrolled": true
   },
   "outputs": [
    {
     "name": "stdout",
     "output_type": "stream",
     "text": [
      "   1         C2          0          0 -1.000 \n",
      "   2        C99          0          0 -1.000 \n",
      "   3       FFG1         C2        C99 -1.000 \n",
      "   4       223G          0          0 -1.000 \n",
      "   5         A1         C2       223G -1.000 \n",
      "   6       AA92         A1       FFG1 -1.000 \n",
      "   7       AA93         A1       AA92 -1.000 \n"
     ]
    }
   ],
   "source": [
    "n = length(ped.idMap)\n",
    "a = Array(String,n,3)\n",
    "f = Array(Float64,n)\n",
    "for i in keys(ped.idMap)\n",
    "    indSeqID  = ped.idMap[i].seqID\n",
    "\n",
    "    a[indSeqID,1] = i\n",
    "    a[indSeqID,2] = ped.idMap[i].sire\n",
    "    a[indSeqID,3] = ped.idMap[i].dam\n",
    "    f[indSeqID]   = ped.idMap[i].f\n",
    "end\n",
    "for i=1:7\n",
    "    @printf(\"%4d %10s %10s %10s %6.3f \\n\", i, a[i,1], a[i,2], a[i,3], f[i])\n",
    "end"
   ]
  },
  {
   "cell_type": "code",
   "execution_count": 31,
   "metadata": {
    "collapsed": false
   },
   "outputs": [
    {
     "data": {
      "text/plain": [
       "([954.006,1007.57],\n",
       "2x2 Array{Float64,2}:\n",
       " -0.907586  -0.419865\n",
       " -0.419865   0.907586)"
      ]
     },
     "execution_count": 31,
     "metadata": {},
     "output_type": "execute_result"
    }
   ],
   "source": [
    "X = randn(1000,2)\n",
    "XPX = X'X\n",
    "eig(XPX)"
   ]
  },
  {
   "cell_type": "code",
   "execution_count": 34,
   "metadata": {
    "collapsed": false
   },
   "outputs": [
    {
     "data": {
      "text/plain": [
       "([4.72027,4.84442,1905.47,2021.57],\n",
       "4x4 Array{Float64,2}:\n",
       "  0.669301  -0.23306   -0.62328   -0.330516\n",
       "  0.230322   0.669353  -0.333222   0.622802\n",
       " -0.667341   0.228865  -0.625236  -0.333703\n",
       " -0.231613  -0.667286  -0.331006   0.625715)"
      ]
     },
     "execution_count": 34,
     "metadata": {},
     "output_type": "execute_result"
    }
   ],
   "source": [
    "Y = [X X+randn(1000,2)*0.1]\n",
    "YPY = Y'Y\n",
    "eig(YPY)"
   ]
  },
  {
   "cell_type": "code",
   "execution_count": 35,
   "metadata": {
    "collapsed": false
   },
   "outputs": [
    {
     "data": {
      "text/plain": [
       "([0.0462672,0.0522468,1908.18,2015.4],\n",
       "4x4 Array{Float64,2}:\n",
       "  0.456596   0.53993   -0.64254   -0.295191\n",
       " -0.53996    0.456696  -0.295102   0.642485\n",
       " -0.456556  -0.539956  -0.642614  -0.295046\n",
       "  0.539926  -0.456455  -0.295135   0.642669)"
      ]
     },
     "execution_count": 35,
     "metadata": {},
     "output_type": "execute_result"
    }
   ],
   "source": [
    "Y = [X X+randn(1000,2)*0.01]\n",
    "YPY = Y'Y\n",
    "eig(YPY)"
   ]
  },
  {
   "cell_type": "code",
   "execution_count": 38,
   "metadata": {
    "collapsed": false
   },
   "outputs": [
    {
     "data": {
      "text/plain": [
       "([2.22643e-13,1.0291e-12,1908.01,2015.14],\n",
       "4x4 Array{Float64,2}:\n",
       "  0.70503    -0.0541556  -0.641761  -0.29689 \n",
       " -0.0541556  -0.70503    -0.29689    0.641761\n",
       " -0.70503     0.0541556  -0.641761  -0.29689 \n",
       "  0.0541556   0.70503    -0.29689    0.641761)"
      ]
     },
     "execution_count": 38,
     "metadata": {},
     "output_type": "execute_result"
    }
   ],
   "source": [
    "Y = [X X+randn(1000,2)*0.00]\n",
    "YPY = Y'Y\n",
    "eig(YPY)"
   ]
  },
  {
   "cell_type": "code",
   "execution_count": 37,
   "metadata": {
    "collapsed": false
   },
   "outputs": [
    {
     "data": {
      "text/plain": [
       "([0.000496732,0.000574683,1036.29,1058.63,1912.52,2028.59],\n",
       "6x6 Array{Float64,2}:\n",
       "  0.518996     0.480276     0.00266365   0.0775284  -0.622393   -0.326477 \n",
       "  0.480268    -0.518991    -0.0360387   -0.0461698  -0.331958    0.621582 \n",
       " -0.518989    -0.480238     0.00271082   0.0775105  -0.622432   -0.326474 \n",
       " -0.480245     0.518995    -0.0360498   -0.0461985  -0.331946    0.621601 \n",
       "  2.9837e-5    1.21308e-5   0.532836    -0.840859   -0.0670735  -0.0673979\n",
       "  4.76096e-6   2.60706e-5   0.844673     0.525995    0.0179411   0.0976427)"
      ]
     },
     "execution_count": 37,
     "metadata": {},
     "output_type": "execute_result"
    }
   ],
   "source": [
    "Y = [X X+randn(1000,2)*0.001 randn(1000,2)]\n",
    "YPY = Y'Y\n",
    "eig(YPY)"
   ]
  },
  {
   "cell_type": "code",
   "execution_count": 56,
   "metadata": {
    "collapsed": false
   },
   "outputs": [
    {
     "data": {
      "text/plain": [
       "([756.717,5081.05],\n",
       "2x2 Array{Float64,2}:\n",
       " -0.975804  0.218647\n",
       "  0.218647  0.975804)"
      ]
     },
     "execution_count": 56,
     "metadata": {},
     "output_type": "execute_result"
    }
   ],
   "source": [
    "Y = [X[:,1] (X[:,1]+2*X[:,2])]\n",
    "YPY = Y'Y\n",
    "eig(YPY)"
   ]
  },
  {
   "cell_type": "code",
   "execution_count": 57,
   "metadata": {
    "collapsed": false
   },
   "outputs": [
    {
     "data": {
      "text/plain": [
       "([963.027,99813.2],\n",
       "2x2 Array{Float64,2}:\n",
       " -0.999998   -0.0020649\n",
       " -0.0020649   0.999998 )"
      ]
     },
     "execution_count": 57,
     "metadata": {},
     "output_type": "execute_result"
    }
   ],
   "source": [
    "Y = [X[:,1] X[:,2]*10]\n",
    "YPY = Y'Y\n",
    "eig(YPY)"
   ]
  },
  {
   "cell_type": "code",
   "execution_count": 53,
   "metadata": {
    "collapsed": false
   },
   "outputs": [
    {
     "data": {
      "text/plain": [
       "([0.0728293,985.709,5850.32],\n",
       "3x3 Array{Float64,2}:\n",
       " -0.816533   0.442255   0.371058\n",
       " -0.408119  -0.89681    0.170797\n",
       "  0.408304  -0.0119742  0.912768)"
      ]
     },
     "execution_count": 53,
     "metadata": {},
     "output_type": "execute_result"
    }
   ],
   "source": [
    "Y = [X[:,2]+randn(1000,1)*0.01 X[:,1] (X[:,1]+2*X[:,2])]\n",
    "YPY = Y'Y\n",
    "eig(YPY)"
   ]
  },
  {
   "cell_type": "code",
   "execution_count": null,
   "metadata": {
    "collapsed": true
   },
   "outputs": [],
   "source": []
  }
 ],
 "metadata": {
  "kernelspec": {
   "display_name": "Julia 0.3.7",
   "language": "julia",
   "name": "julia 0.3"
  },
  "language_info": {
   "name": "julia",
   "version": "0.3.7"
  }
 },
 "nbformat": 4,
 "nbformat_minor": 0
}
