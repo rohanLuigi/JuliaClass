{
 "cells": [
  {
   "cell_type": "markdown",
   "metadata": {},
   "source": [
    "## Pedigree Package \n"
   ]
  },
  {
   "cell_type": "markdown",
   "metadata": {},
   "source": [
    "### Install PedModule\n",
    "\n",
    "Do this only once"
   ]
  },
  {
   "cell_type": "code",
   "execution_count": 1,
   "metadata": {
    "collapsed": false
   },
   "outputs": [
    {
     "name": "stderr",
     "output_type": "stream",
     "text": [
      "INFO: Cloning PedModule from https://github.com/reworkhow/PedModule.jl.git\n",
      "INFO: Computing changes...\n"
     ]
    }
   ],
   "source": [
    "#Pkg.clone(\"https://github.com/reworkhow/PedModule.jl.git\")"
   ]
  },
  {
   "cell_type": "code",
   "execution_count": 2,
   "metadata": {
    "collapsed": false
   },
   "outputs": [],
   "source": [
    "using PedModule"
   ]
  },
  {
   "cell_type": "markdown",
   "metadata": {},
   "source": [
    "### Pedigree file"
   ]
  },
  {
   "cell_type": "code",
   "execution_count": 3,
   "metadata": {
    "collapsed": false
   },
   "outputs": [
    {
     "name": "stdout",
     "output_type": "stream",
     "text": [
      "AA93 A1 AA92\n",
      "A1   C2 223G\n",
      "FFG1 C2 C99\n",
      "AA92 A1 FFG1"
     ]
    }
   ],
   "source": [
    ";cat ex1.ped"
   ]
  },
  {
   "cell_type": "markdown",
   "metadata": {},
   "source": [
    "### Assign sequential IDs and compute inbreeding"
   ]
  },
  {
   "cell_type": "code",
   "execution_count": 4,
   "metadata": {
    "collapsed": false
   },
   "outputs": [
    {
     "data": {
      "text/plain": [
       "Dict{Any,Any} with 7 entries:\n",
       "  \"FFG1\" => PedNode(3,\"C2\",\"C99\",0.0)\n",
       "  \"C2\"   => PedNode(1,\"0\",\"0\",0.0)\n",
       "  \"AA92\" => PedNode(6,\"A1\",\"FFG1\",0.125)\n",
       "  \"C99\"  => PedNode(2,\"0\",\"0\",0.0)\n",
       "  \"AA93\" => PedNode(7,\"A1\",\"AA92\",0.3125)\n",
       "  \"A1\"   => PedNode(5,\"C2\",\"223G\",0.0)\n",
       "  \"223G\" => PedNode(4,\"0\",\"0\",0.0)"
      ]
     },
     "execution_count": 4,
     "metadata": {},
     "output_type": "execute_result"
    }
   ],
   "source": [
    "ped = PedModule.mkPed(\"ex1.ped\")\n",
    "ped.idMap"
   ]
  },
  {
   "cell_type": "markdown",
   "metadata": {},
   "source": [
    "### Get inverse of additive relationship matrix"
   ]
  },
  {
   "cell_type": "code",
   "execution_count": 34,
   "metadata": {
    "collapsed": false
   },
   "outputs": [
    {
     "data": {
      "text/plain": [
       "7x7 sparse matrix with 29 Float64 entries:\n",
       "\t[1, 1]  =  2.0\n",
       "\t[2, 1]  =  0.5\n",
       "\t[3, 1]  =  -1.0\n",
       "\t[4, 1]  =  0.5\n",
       "\t[5, 1]  =  -1.0\n",
       "\t[1, 2]  =  0.5\n",
       "\t[2, 2]  =  1.5\n",
       "\t[3, 2]  =  -1.0\n",
       "\t[1, 3]  =  -1.0\n",
       "\t[2, 3]  =  -1.0\n",
       "\t⋮\n",
       "\t[4, 5]  =  -1.0\n",
       "\t[5, 5]  =  3.03333\n",
       "\t[6, 5]  =  -0.466667\n",
       "\t[7, 5]  =  -1.06667\n",
       "\t[3, 6]  =  -1.0\n",
       "\t[5, 6]  =  -0.466667\n",
       "\t[6, 6]  =  2.53333\n",
       "\t[7, 6]  =  -1.06667\n",
       "\t[5, 7]  =  -1.06667\n",
       "\t[6, 7]  =  -1.06667\n",
       "\t[7, 7]  =  2.13333"
      ]
     },
     "execution_count": 34,
     "metadata": {},
     "output_type": "execute_result"
    }
   ],
   "source": [
    "Ai = PedModule.AInverse(ped)"
   ]
  },
  {
   "cell_type": "code",
   "execution_count": 35,
   "metadata": {
    "collapsed": false
   },
   "outputs": [
    {
     "data": {
      "text/plain": [
       "7x7 Array{Float64,2}:\n",
       "  2.0   0.5  -1.0   0.5  -1.0        0.0        0.0    \n",
       "  0.5   1.5  -1.0   0.0   0.0        0.0        0.0    \n",
       " -1.0  -1.0   2.5   0.0   0.5       -1.0        0.0    \n",
       "  0.5   0.0   0.0   1.5  -1.0        0.0        0.0    \n",
       " -1.0   0.0   0.5  -1.0   3.03333   -0.466667  -1.06667\n",
       "  0.0   0.0  -1.0   0.0  -0.466667   2.53333   -1.06667\n",
       "  0.0   0.0   0.0   0.0  -1.06667   -1.06667    2.13333"
      ]
     },
     "execution_count": 35,
     "metadata": {},
     "output_type": "execute_result"
    }
   ],
   "source": [
    "full(Ai)"
   ]
  },
  {
   "cell_type": "markdown",
   "metadata": {},
   "source": [
    "### Additive relationship matrix"
   ]
  },
  {
   "cell_type": "code",
   "execution_count": 36,
   "metadata": {
    "collapsed": false,
    "scrolled": true
   },
   "outputs": [
    {
     "data": {
      "text/plain": [
       "7x7 Array{Float64,2}:\n",
       "  1.0  -0.0    0.5    0.0    0.5    0.5    0.5  \n",
       " -0.0   1.0    0.5    0.0    0.0    0.25   0.125\n",
       "  0.5   0.5    1.0    0.0    0.25   0.625  0.438\n",
       "  0.0  -0.0    0.0    1.0    0.5    0.25   0.375\n",
       "  0.5   0.0    0.25   0.5    1.0    0.625  0.813\n",
       "  0.5   0.25   0.625  0.25   0.625  1.125  0.875\n",
       "  0.5   0.125  0.438  0.375  0.813  0.875  1.313"
      ]
     },
     "execution_count": 36,
     "metadata": {},
     "output_type": "execute_result"
    }
   ],
   "source": [
    "A = round(inv(full(Ai)),3)"
   ]
  },
  {
   "cell_type": "code",
   "execution_count": 22,
   "metadata": {
    "collapsed": false
   },
   "outputs": [],
   "source": [
    "n = length(ped.idMap)\n",
    "a = Array(Int64,n,3);\n",
    "f = Array(Float64,n);"
   ]
  },
  {
   "cell_type": "code",
   "execution_count": 24,
   "metadata": {
    "collapsed": false
   },
   "outputs": [],
   "source": [
    "for i in keys(ped.idMap)\n",
    "    indSeqID  = ped.idMap[i].seqID\n",
    "    sire      = ped.idMap[i].sire\n",
    "    if   sire!= \"0\"\n",
    "        sireSeqID = ped.idMap[sire].seqID\n",
    "    else\n",
    "        sireSeqID = 0\n",
    "    end\n",
    "    dam       = ped.idMap[i].dam\n",
    "    if dam   != \"0\"\n",
    "        damSeqID = ped.idMap[dam].seqID\n",
    "    else\n",
    "        damSeqID = 0\n",
    "    end\n",
    "    a[indSeqID,1] = indSeqID\n",
    "    a[indSeqID,2] = sireSeqID\n",
    "    a[indSeqID,3] = damSeqID\n",
    "    f[indSeqID]   = ped.idMap[i].f\n",
    "end"
   ]
  },
  {
   "cell_type": "code",
   "execution_count": 31,
   "metadata": {
    "collapsed": false,
    "scrolled": true
   },
   "outputs": [
    {
     "name": "stdout",
     "output_type": "stream",
     "text": [
      "  1   0   0  0.000 \n",
      "  2   0   0  0.000 \n",
      "  3   1   2  0.000 \n",
      "  4   0   0  0.000 \n",
      "  5   1   4  0.000 \n",
      "  6   5   3  0.125 \n",
      "  7   5   6  0.313 \n"
     ]
    }
   ],
   "source": [
    "for i=1:7\n",
    "    @printf(\"%3d %3d %3d %6.3f \\n\", a[i,1], a[i,2], a[i,3], f[i])\n",
    "end"
   ]
  },
  {
   "cell_type": "code",
   "execution_count": 37,
   "metadata": {
    "collapsed": false
   },
   "outputs": [
    {
     "data": {
      "text/plain": [
       "KeyIterator for a Dict{Any,Any} with 7 entries. Keys:\n",
       "  \"FFG1\"\n",
       "  \"C2\"\n",
       "  \"AA92\"\n",
       "  \"C99\"\n",
       "  \"AA93\"\n",
       "  \"A1\"\n",
       "  \"223G\""
      ]
     },
     "execution_count": 37,
     "metadata": {},
     "output_type": "execute_result"
    }
   ],
   "source": [
    "keys(ped.idMap)"
   ]
  }
 ],
 "metadata": {
  "kernelspec": {
   "display_name": "Julia 0.3.7",
   "language": "julia",
   "name": "julia 0.3"
  },
  "language_info": {
   "name": "julia",
   "version": "0.3.7"
  }
 },
 "nbformat": 4,
 "nbformat_minor": 0
}
