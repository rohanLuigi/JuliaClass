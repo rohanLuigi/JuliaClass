{
 "cells": [
  {
   "cell_type": "markdown",
   "metadata": {},
   "source": [
    "## Tools for building Henderson's Mixed Model Equations\n",
    "\n",
    "Here we will see how the mixed model equations (HMME) can be built given a data set and a model string. \n"
   ]
  },
  {
   "cell_type": "code",
   "execution_count": 1,
   "metadata": {
    "collapsed": false
   },
   "outputs": [],
   "source": [
    "include (\"../../PedModule.jl/src/PedModule.jl\")"
   ]
  },
  {
   "cell_type": "code",
   "execution_count": 2,
   "metadata": {
    "collapsed": false
   },
   "outputs": [
    {
     "name": "stdout",
     "output_type": "stream",
     "text": [
      "S1 0 0\n",
      "D1 0 0\n",
      "O1 S1 D1\n",
      "O2 S1 D1\n",
      "O3 S1 D1"
     ]
    }
   ],
   "source": [
    ";cat small.ped"
   ]
  },
  {
   "cell_type": "code",
   "execution_count": 3,
   "metadata": {
    "collapsed": false
   },
   "outputs": [],
   "source": [
    "ped = PedModule.mkPed(\"small.ped\");"
   ]
  },
  {
   "cell_type": "code",
   "execution_count": 4,
   "metadata": {
    "collapsed": false
   },
   "outputs": [
    {
     "data": {
      "text/plain": [
       "PedNode(0,\"0\",\"0\",-1.0)"
      ]
     },
     "execution_count": 4,
     "metadata": {},
     "output_type": "execute_result"
    }
   ],
   "source": [
    "PedModule.PedNode(0,\"0\",\"0\",-1.0)"
   ]
  },
  {
   "cell_type": "code",
   "execution_count": 5,
   "metadata": {
    "collapsed": false
   },
   "outputs": [
    {
     "data": {
      "text/plain": [
       "Dict{Any,Any} with 5 entries:\n",
       "  \"O1\" => PedNode(3,\"S1\",\"D1\",0.0)\n",
       "  \"S1\" => PedNode(1,\"0\",\"0\",0.0)\n",
       "  \"O3\" => PedNode(4,\"S1\",\"D1\",0.0)\n",
       "  \"D1\" => PedNode(2,\"0\",\"0\",0.0)\n",
       "  \"O2\" => PedNode(5,\"S1\",\"D1\",0.0)"
      ]
     },
     "execution_count": 5,
     "metadata": {},
     "output_type": "execute_result"
    }
   ],
   "source": [
    "ped.idMap"
   ]
  },
  {
   "cell_type": "code",
   "execution_count": 6,
   "metadata": {
    "collapsed": false
   },
   "outputs": [],
   "source": [
    "ii,jj,vv = PedModule.HAi(ped);"
   ]
  },
  {
   "cell_type": "code",
   "execution_count": 7,
   "metadata": {
    "collapsed": false
   },
   "outputs": [
    {
     "ename": "LoadError",
     "evalue": "HAi not defined\nwhile loading In[7], in expression starting on line 1",
     "output_type": "error",
     "traceback": [
      "HAi not defined\nwhile loading In[7], in expression starting on line 1",
      ""
     ]
    }
   ],
   "source": [
    "full(HAi)"
   ]
  },
  {
   "cell_type": "code",
   "execution_count": 8,
   "metadata": {
    "collapsed": false
   },
   "outputs": [
    {
     "ename": "LoadError",
     "evalue": "HAi not defined\nwhile loading In[8], in expression starting on line 1",
     "output_type": "error",
     "traceback": [
      "HAi not defined\nwhile loading In[8], in expression starting on line 1",
      ""
     ]
    }
   ],
   "source": [
    "Ai = HAi'HAi"
   ]
  },
  {
   "cell_type": "code",
   "execution_count": 9,
   "metadata": {
    "collapsed": false
   },
   "outputs": [
    {
     "ename": "LoadError",
     "evalue": "Ai not defined\nwhile loading In[9], in expression starting on line 1",
     "output_type": "error",
     "traceback": [
      "Ai not defined\nwhile loading In[9], in expression starting on line 1",
      ""
     ]
    }
   ],
   "source": [
    "full(Ai)"
   ]
  },
  {
   "cell_type": "markdown",
   "metadata": {},
   "source": [
    "### A small data set to test the tools"
   ]
  },
  {
   "cell_type": "code",
   "execution_count": 10,
   "metadata": {
    "collapsed": false
   },
   "outputs": [
    {
     "data": {
      "text/plain": [
       "4-element Array{Float64,1}:\n",
       " 100.0\n",
       "  50.0\n",
       " 150.0\n",
       "  40.0"
      ]
     },
     "execution_count": 10,
     "metadata": {},
     "output_type": "execute_result"
    }
   ],
   "source": [
    "A = [1,1,1,1]\n",
    "B = [\"S1\",\"D1\",\"O1\",\"O3\"]\n",
    "y = [100.0, 50.0, 150.0, 40.0]"
   ]
  },
  {
   "cell_type": "code",
   "execution_count": 11,
   "metadata": {
    "collapsed": true
   },
   "outputs": [],
   "source": [
    "using DataFrames"
   ]
  },
  {
   "cell_type": "code",
   "execution_count": 12,
   "metadata": {
    "collapsed": false,
    "scrolled": true
   },
   "outputs": [
    {
     "data": {
      "text/html": [
       "<table class=\"data-frame\"><tr><th></th><th>intercept</th><th>Animal</th><th>y</th></tr><tr><th>1</th><td>1</td><td>S1</td><td>100.0</td></tr><tr><th>2</th><td>1</td><td>D1</td><td>50.0</td></tr><tr><th>3</th><td>1</td><td>O1</td><td>150.0</td></tr><tr><th>4</th><td>1</td><td>O3</td><td>40.0</td></tr></table>"
      ],
      "text/plain": [
       "4x3 DataFrame\n",
       "| Row | intercept | Animal | y     |\n",
       "|-----|-----------|--------|-------|\n",
       "| 1   | 1         | \"S1\"   | 100.0 |\n",
       "| 2   | 1         | \"D1\"   | 50.0  |\n",
       "| 3   | 1         | \"O1\"   | 150.0 |\n",
       "| 4   | 1         | \"O3\"   | 40.0  |"
      ]
     },
     "execution_count": 12,
     "metadata": {},
     "output_type": "execute_result"
    }
   ],
   "source": [
    "df1 = DataFrame(intercept=A,Animal=B,y=y)"
   ]
  },
  {
   "cell_type": "code",
   "execution_count": 28,
   "metadata": {
    "collapsed": false
   },
   "outputs": [
    {
     "data": {
      "text/html": [
       "<table class=\"data-frame\"><tr><th></th><th>intercept</th><th>Animal</th><th>y</th><th>mat</th></tr><tr><th>1</th><td>1</td><td>O1</td><td>150.0</td><td>D1</td></tr><tr><th>2</th><td>1</td><td>O3</td><td>40.0</td><td>D1</td></tr></table>"
      ],
      "text/plain": [
       "2x4 DataFrame\n",
       "| Row | intercept | Animal | y     | mat  |\n",
       "|-----|-----------|--------|-------|------|\n",
       "| 1   | 1         | \"O1\"   | 150.0 | \"D1\" |\n",
       "| 2   | 1         | \"O3\"   | 40.0  | \"D1\" |"
      ]
     },
     "execution_count": 28,
     "metadata": {},
     "output_type": "execute_result"
    }
   ],
   "source": [
    "df3 = [df1[3:4,:]  DataFrame(mat = [\"D1\",\"D1\"])]"
   ]
  },
  {
   "cell_type": "markdown",
   "metadata": {},
   "source": [
    "### Data with repeated measures"
   ]
  },
  {
   "cell_type": "code",
   "execution_count": 13,
   "metadata": {
    "collapsed": false
   },
   "outputs": [
    {
     "data": {
      "text/html": [
       "<table class=\"data-frame\"><tr><th></th><th>Animal</th><th>Age</th><th>y</th></tr><tr><th>1</th><td>S1</td><td>1</td><td>1.3397719182899197</td></tr><tr><th>2</th><td>S1</td><td>2</td><td>-1.070404761838825</td></tr><tr><th>3</th><td>S1</td><td>3</td><td>-1.6339526198053924</td></tr><tr><th>4</th><td>D1</td><td>1</td><td>-0.022487203640099897</td></tr><tr><th>5</th><td>D1</td><td>2</td><td>1.264557840818519</td></tr><tr><th>6</th><td>D1</td><td>3</td><td>-1.4092274450757705</td></tr><tr><th>7</th><td>O1</td><td>1</td><td>-3.10797802222563</td></tr><tr><th>8</th><td>O1</td><td>2</td><td>1.153875008796903</td></tr><tr><th>9</th><td>O1</td><td>3</td><td>0.8378312359774857</td></tr><tr><th>10</th><td>O3</td><td>1</td><td>-0.17617133428443243</td></tr><tr><th>11</th><td>O3</td><td>2</td><td>-0.6235944679502836</td></tr><tr><th>12</th><td>O3</td><td>3</td><td>0.9252732364037349</td></tr></table>"
      ],
      "text/plain": [
       "12x3 DataFrame\n",
       "| Row | Animal | Age | y          |\n",
       "|-----|--------|-----|------------|\n",
       "| 1   | \"S1\"   | 1   | 1.33977    |\n",
       "| 2   | \"S1\"   | 2   | -1.0704    |\n",
       "| 3   | \"S1\"   | 3   | -1.63395   |\n",
       "| 4   | \"D1\"   | 1   | -0.0224872 |\n",
       "| 5   | \"D1\"   | 2   | 1.26456    |\n",
       "| 6   | \"D1\"   | 3   | -1.40923   |\n",
       "| 7   | \"O1\"   | 1   | -3.10798   |\n",
       "| 8   | \"O1\"   | 2   | 1.15388    |\n",
       "| 9   | \"O1\"   | 3   | 0.837831   |\n",
       "| 10  | \"O3\"   | 1   | -0.176171  |\n",
       "| 11  | \"O3\"   | 2   | -0.623594  |\n",
       "| 12  | \"O3\"   | 3   | 0.925273   |"
      ]
     },
     "execution_count": 13,
     "metadata": {},
     "output_type": "execute_result"
    }
   ],
   "source": [
    "Animal = repeat(B,inner=[3])\n",
    "Age = repmat([1,2,3],4)\n",
    "intercept = ones(12,1)\n",
    "df2 = DataFrame(Animal=Animal,Age=Age,y=randn(12))"
   ]
  },
  {
   "cell_type": "code",
   "execution_count": 20,
   "metadata": {
    "collapsed": false
   },
   "outputs": [
    {
     "data": {
      "text/plain": [
       "addA (generic function with 1 method)"
      ]
     },
     "execution_count": 20,
     "metadata": {},
     "output_type": "execute_result"
    }
   ],
   "source": [
    "function GaussSeidel(A,x,b;tol=0.000001)\n",
    "    n = size(x,1)\n",
    "    for i=1:n\n",
    "        x[i] = ((b[i] - A[i,:]*x)/A[i,i])[1,1] + x[i]\n",
    "    end\n",
    "    diff = sum((A*x-b).^2)\n",
    "    iter = 0\n",
    "    while ((diff/n > tol) & (iter<1000))\n",
    "        iter += 1\n",
    "        for i=1:n\n",
    "            x[i] = ((b[i] - A[i,:]*x)/A[i,i])[1,1] + x[i]\n",
    "        end\n",
    "        diff = sum((A*x-b).^2)\n",
    "        println(iter,\" \",diff/n)\n",
    "    end\n",
    "    return x\n",
    "end\n",
    "\n",
    "function Jacobi(A,x,b,p;tol=0.000001)\n",
    "    D       = diag(A)\n",
    "    res     = A*x\n",
    "    resid   = b-res\n",
    "    tempSol = resid./D\n",
    "    diff    = sum(resid.^2)\n",
    "    n    = size(A,1)\n",
    "    iter = 0\n",
    "    while ((diff/n > tol) & (iter<1000))\n",
    "        iter += 1\n",
    "        x = p*tempSol + (1-p)*x\n",
    "        res     = A*x\n",
    "        resid   = b-res\n",
    "        tempSol = resid./D + x\n",
    "        diff    = sum(resid.^2)\n",
    "        println(iter,\" \",diff/n)\n",
    "    end\n",
    "    return x\n",
    "end\n",
    "\n",
    "\n",
    "type TermStrVal\n",
    "    str::String\n",
    "    value::Float64\n",
    "end\n",
    "\n",
    "type TermLvlVal\n",
    "    level::String\n",
    "    value::Float64\n",
    "end\n",
    "\n",
    "type ModelTerm \n",
    "    trmStr::String\n",
    "    nFactors::Int64\n",
    "    factors::Array{Symbol,1}\n",
    "    str::Array{String,1}                    # used to store the data for this term as strings\n",
    "    val::Array{Float64,1}\n",
    "    startPos::Int64                         # start pos in HMME\n",
    "    nLevels::Int64                           \n",
    "    X::SparseMatrixCSC{Float64,Int64}\n",
    "    names::Array{Any,1}\n",
    "end\n",
    "\n",
    "type MME\n",
    "    modelEquation::String\n",
    "    modelTerms::Array{ModelTerm,1}\n",
    "    modelTermDict::Dict{String,ModelTerm}\n",
    "    lhs::Symbol\n",
    "    covVec::Array{Symbol,1}\n",
    "    pedTrmVec::Array{String,1}\n",
    "    mmeLhs\n",
    "    mmeRhs\n",
    "    ped\n",
    "    Gi::Array{Float64,2}\n",
    "    Ai\n",
    "    mmePos::Int64\n",
    "end\n",
    "\n",
    "function mkDict(a)\n",
    "    aUnique = unique(a)\n",
    "    d = Dict()\n",
    "    names = Array(Any,size(aUnique,1))\n",
    "    for (i,s) in enumerate(aUnique)\n",
    "        names[i] = s\n",
    "        d[s] = i\n",
    "    end\n",
    "    return d,names\n",
    "end\n",
    "\n",
    "function getTerm(trmStr)\n",
    "    trm = ModelTerm(trmStr,0,[],[],[],0,0,spzeros(0,0),[])\n",
    "    factorVec = split(trmStr,\"*\")\n",
    "    trm.nFactors = length(factorVec)\n",
    "    trm.factors = [symbol(strip(f)) for f in factorVec]\n",
    "    return trm\n",
    "end\n",
    "\n",
    "function initMME(modelEquation::String)\n",
    "    # returns an MME object for muilding the mme corresponding \n",
    "    # to the input string\n",
    "    if modelEquation==\"\"\n",
    "        println(\"modelEquation is empty\\n\")\n",
    "        return\n",
    "    end\n",
    "    lhsRhs = split(modelEquation,\"=\")\n",
    "    lhs = symbol(strip(lhsRhs[1]))\n",
    "    rhs = strip(lhsRhs[2])\n",
    "    rhsVec = split(rhs,\"+\")    \n",
    "    dict = Dict{String,ModelTerm}()\n",
    "    modelTerms = [getTerm(strip(trmStr)) for trmStr in rhsVec]\n",
    "    for (i,trm) = enumerate(modelTerms)\n",
    "        dict[trm.trmStr] = modelTerms[i]\n",
    "    end    \n",
    "    return MME(modelEquation,modelTerms,dict,lhs,[],[],0,0,0,Array(Float64,1,1),0,1)\n",
    "end \n",
    "\n",
    "function getData(trm::ModelTerm,df::DataFrame,mme::MME)\n",
    "    nObs = size(df,1)\n",
    "    trm.str = Array(String,nObs)\n",
    "    trm.val = Array(Float64,nObs)\n",
    "    if(trm.factors[1] == :intercept)                     # from Melanie's HW\n",
    "        str = fill(string(trm.factors[1]),nObs)\n",
    "        val = fill(1.0,nObs)\n",
    "    else\n",
    "        myDf = df[trm.factors]\n",
    "        if trm.factors[1] in mme.covVec\n",
    "            str = fill(string(trm.factors[1]),nObs)\n",
    "            val = df[trm.factors[1]]\n",
    "        else\n",
    "            str = [string(i) for i in df[trm.factors[1]]]\n",
    "            val = fill(1.0,nObs)\n",
    "        end\n",
    "        for i=2:trm.nFactors\n",
    "            if trm.factors[i] in mme.covVec\n",
    "                str = str .* fill(\"*\"*string(trm.factors[i]),nObs)\n",
    "                val = val .* df[trm.factors[i]]\n",
    "            else\n",
    "                str = str .* fill(\"*\",nObs) .* [string(j) for j in df[trm.factors[i]]]\n",
    "                val = val .* fill(1.0,nObs)\n",
    "            end\n",
    "        end\n",
    "    end\n",
    "    trm.str = str\n",
    "    trm.val = val\n",
    "end\n",
    "\n",
    "getFactor1(str) = [strip(i) for i in split(str,\"*\")][1]\n",
    "\n",
    "function getX(trm,mme::MME)\n",
    "    pedSize = 0\n",
    "    nObs  = size(trm.str,1)\n",
    "    if trm.trmStr in mme.pedTrmVec\n",
    "        trm.names   = PedModule.getIDs(mme.ped)\n",
    "        trm.nLevels = length(mme.ped.idMap)\n",
    "        xj = int([mme.ped.idMap[getFactor1(i)].seqID for i in trm.str])\n",
    "    else\n",
    "        dict,trm.names  = mkDict(trm.str)\n",
    "        trm.nLevels     = length(dict)\n",
    "        xj    = int([dict[i] for i in trm.str])\n",
    "    end\n",
    "    xi    = 1:nObs\n",
    "    xv    = trm.val\n",
    "    if mme.ped!=0\n",
    "        pedSize = length(mme.ped.idMap)\n",
    "        if trm.trmStr in mme.pedTrmVec\n",
    "            # This is to ensure the X matrix for \n",
    "            # additive effect has the correct number of columns\n",
    "            ii = 1         # adding a zero to\n",
    "            jj = pedSize   # the last column in row 1\n",
    "            vv = [0.0]\n",
    "            xi = [xi,ii]\n",
    "            xj = [xj,jj]\n",
    "            xv = [xv,vv]\n",
    "        end\n",
    "    end  \n",
    "    trm.X = sparse(xi,xj,xv)\n",
    "    trm.startPos = mme.mmePos\n",
    "    mme.mmePos  += trm.nLevels\n",
    "end\n",
    "\n",
    "function getMME(mme::MME, df::DataFrame)\n",
    "    for trm in mme.modelTerms\n",
    "        getData(trm,df,mme)\n",
    "        getX(trm,mme)\n",
    "    end\n",
    "    n   = size(mme.modelTerms,1)\n",
    "    trm = mme.modelTerms[1]\n",
    "    X   = trm.X\n",
    "    for i=2:n\n",
    "        trm = mme.modelTerms[i]\n",
    "        X = [X trm.X]\n",
    "    end\n",
    "    y    = df[mme.lhs]\n",
    "    nObs = size(y,1)\n",
    "    ii = 1:nObs\n",
    "    jj = fill(1,nObs)\n",
    "    vv = y\n",
    "    nRowsX = size(X,1)\n",
    "    if nRowsX > nObs\n",
    "        ii = [ii,nRowsX]\n",
    "        jj = [jj,1]\n",
    "        vv = [vv,0.0]\n",
    "    end\n",
    "    ySparse = sparse(ii,jj,vv)\n",
    "    mme.mmeLhs = X'X\n",
    "    mme.mmeRhs = X'ySparse\n",
    "    if mme.ped != 0\n",
    "        ii,jj,vv = PedModule.HAi(mme.ped)\n",
    "        HAi = sparse(ii,jj,vv)\n",
    "        mme.Ai = HAi'HAi\n",
    "        addA(mme::MME)\n",
    "    end\n",
    "end\n",
    "\n",
    "function getNames(mme)\n",
    "    names = Array(String,0)\n",
    "    for trm in mme.modelTerms\n",
    "        for name in trm.names\n",
    "            push!(names,trm.trmStr*\": \"*name)\n",
    "        end\n",
    "    end\n",
    "    return names\n",
    "end  \n",
    "\n",
    "function covList(mme::MME, covStr::String)\n",
    "    covVec = split(covStr,\" \",false) \n",
    "    mme.covVec = [symbol(i) for i in covVec]\n",
    "    nothing\n",
    "end\n",
    "\n",
    "function getSolJ(mme::MME, df::DataFrame)\n",
    "    if size(mme.mmeRhs)==() \n",
    "        getMME(mme,df)\n",
    "    end\n",
    "    p = size(mme.mmeRhs,1)\n",
    "    return [getNames(mme) Jacobi(mme.mmeLhs,fill(0.0,p),mme.mmeRhs,0.3,tol=0.000001)]\n",
    "end\n",
    "\n",
    "function getSolG(mme::MME, df::DataFrame)\n",
    "    if size(mme.mmeRhs)==() \n",
    "        getMME(mme,df)\n",
    "    end\n",
    "    p = size(mme.mmeRhs,1)\n",
    "    return [getNames(mme) GaussSeidel(mme.mmeLhs,fill(0.0,p),mme.mmeRhs,tol=0.000001)]\n",
    "end\n",
    "\n",
    "function setAsRandom(mme::MME,randomStr::String,ped::PedModule.Pedigree, G::Array{Float64,2})\n",
    "    mme.pedTrmVec = split(randomStr,\" \",false)\n",
    "    mme.ped = ped\n",
    "    mme.Gi = inv(G)\n",
    "    nothing\n",
    "end\n",
    "\n",
    "function addA(mme::MME)\n",
    "    pedTrmVec = mme.pedTrmVec\n",
    "    #pedTrm = mme.modelTermDict[mme.pedTrmVec[1]]\n",
    "    for (i,trmi) = enumerate(pedTrmVec)\n",
    "        pedTrmi  = mme.modelTermDict[trmi]\n",
    "        startPosi  = pedTrmi.startPos\n",
    "        endPosi    = startPosi + pedTrmi.nLevels - 1\n",
    "        for (j,trmj) = enumerate(pedTrmVec)\n",
    "            pedTrmj  = mme.modelTermDict[trmj]\n",
    "            startPosj  = pedTrmj.startPos\n",
    "            endPosj    = startPosj + pedTrmj.nLevels - 1       \n",
    "            mme.mmeLhs[startPosi:endPosi,startPosj:endPosj] = \n",
    "            mme.mmeLhs[startPosi:endPosi,startPosj:endPosj] + mme.Ai*mme.Gi[i,j] \n",
    "        end\n",
    "    end\n",
    "end"
   ]
  },
  {
   "cell_type": "code",
   "execution_count": 15,
   "metadata": {
    "collapsed": false
   },
   "outputs": [],
   "source": [
    "mme = initMME(\"y = intercept + Age + Animal + Animal*Age\")\n",
    "covList(mme,\"Age\")\n",
    "nothing"
   ]
  },
  {
   "cell_type": "code",
   "execution_count": 16,
   "metadata": {
    "collapsed": false,
    "scrolled": false
   },
   "outputs": [
    {
     "name": "stdout",
     "output_type": "stream",
     "text": [
      "1 0.3744555851752687\n",
      "2 0.27427312819569577\n",
      "3 0.20105494360109538\n",
      "4 0.14746994172878522\n",
      "5 0.10821361519572097\n",
      "6 0.07943282017822632\n",
      "7 0.05832045004166405\n",
      "8 0.04282697363353543\n",
      "9 0.03145353984707388\n",
      "10 0.02310269090960419\n",
      "11 0.016970149511521374\n",
      "12 0.01246610740999943\n",
      "13 0.009157824116191099\n",
      "14 0.006727685238810084\n",
      "15 0.004942512751848092\n",
      "16 0.003631084662939596\n",
      "17 0.002667655138683081\n",
      "18 0.0019598664286142606\n",
      "19 0.0014398784023325303\n",
      "20 0.0010578571815511657\n",
      "21 0.000777194358324855\n",
      "22 0.0005709962466724781\n",
      "23 0.0004195054547345931\n",
      "24 0.0003082070140685843\n",
      "25 0.00022643722592920597\n",
      "26 0.00016636173029471878\n",
      "27 0.0001222247756244086\n",
      "28 8.979770307009481e-5\n",
      "29 6.597377340050956e-5\n",
      "30 4.847050080523514e-5\n",
      "31 3.561096583023608e-5\n",
      "32 2.6163150821664033e-5\n",
      "33 1.922190254421005e-5\n",
      "34 1.4122211856825131e-5\n",
      "35 1.0375501370263748e-5\n",
      "36 7.622816675574396e-6\n",
      "37 5.6004363862394e-6\n",
      "38 4.114606132966877e-6\n",
      "39 3.022975830993839e-6\n",
      "40 2.220961779186564e-6\n",
      "41 1.63172699130705e-6\n",
      "42 1.1988198140804486e-6\n",
      "43 8.807655689127292e-7\n"
     ]
    },
    {
     "data": {
      "text/plain": [
       "10x2 Array{Any,2}:\n",
       " \"intercept: intercept\"  -0.289454 \n",
       " \"Age: Age\"               0.0462261\n",
       " \"Animal: S1\"             2.80416  \n",
       " \"Animal: D1\"             1.61841  \n",
       " \"Animal: O1\"            -4.02346  \n",
       " \"Animal: O3\"            -0.768926 \n",
       " \"Animal*Age: S1*Age\"    -1.53131  \n",
       " \"Animal*Age: D1*Age\"    -0.738713 \n",
       " \"Animal*Age: O1*Age\"     1.92454  \n",
       " \"Animal*Age: O3*Age\"     0.503969 "
      ]
     },
     "execution_count": 16,
     "metadata": {},
     "output_type": "execute_result"
    }
   ],
   "source": [
    "resG = getSolG(mme,df2)"
   ]
  },
  {
   "cell_type": "code",
   "execution_count": 17,
   "metadata": {
    "collapsed": false,
    "scrolled": true
   },
   "outputs": [
    {
     "data": {
      "text/plain": [
       "10x10 Array{Float64,2}:\n",
       " 12.0  24.0  3.0  3.0  3.0  3.0   6.0   6.0   6.0   6.0\n",
       " 24.0  56.0  6.0  6.0  6.0  6.0  14.0  14.0  14.0  14.0\n",
       "  3.0   6.0  3.0  0.0  0.0  0.0   6.0   0.0   0.0   0.0\n",
       "  3.0   6.0  0.0  3.0  0.0  0.0   0.0   6.0   0.0   0.0\n",
       "  3.0   6.0  0.0  0.0  3.0  0.0   0.0   0.0   6.0   0.0\n",
       "  3.0   6.0  0.0  0.0  0.0  3.0   0.0   0.0   0.0   6.0\n",
       "  6.0  14.0  6.0  0.0  0.0  0.0  14.0   0.0   0.0   0.0\n",
       "  6.0  14.0  0.0  6.0  0.0  0.0   0.0  14.0   0.0   0.0\n",
       "  6.0  14.0  0.0  0.0  6.0  0.0   0.0   0.0  14.0   0.0\n",
       "  6.0  14.0  0.0  0.0  0.0  6.0   0.0   0.0   0.0  14.0"
      ]
     },
     "execution_count": 17,
     "metadata": {},
     "output_type": "execute_result"
    }
   ],
   "source": [
    "full(mme.mmeLhs)"
   ]
  },
  {
   "cell_type": "code",
   "execution_count": 31,
   "metadata": {
    "collapsed": false,
    "scrolled": false
   },
   "outputs": [
    {
     "name": "stdout",
     "output_type": "stream",
     "text": [
      "1 0.034698746180040076\n",
      "2 0.019329121590071604\n",
      "3 0.01238946296161013\n",
      "4 0.008625394088437668\n",
      "5 0.006530677579087718\n",
      "6 0.005305827204967425\n",
      "7 0.004540930959975607\n",
      "8 0.004025605048918291\n",
      "9 0.003650303296983886\n",
      "10 0.0033569061325273947\n",
      "11 0.003113895008425256\n",
      "12 0.002903739608620177\n",
      "13 0.00271640504353738\n",
      "14 0.002545958716582788\n",
      "15 0.0023887659004200863\n",
      "16 0.002242510929058275\n",
      "17 0.0021056544826768063\n",
      "18 0.0019771256014389257\n",
      "19 0.0018561427459463833\n",
      "20 0.001742107442399668\n",
      "21 0.0016345397278487302\n",
      "22 0.0015330382319871407\n",
      "23 0.0014372550987170136\n",
      "24 0.0013468800220195738\n",
      "25 0.001261629973446668\n",
      "26 0.0011812425323165924\n",
      "27 0.0011054715203685389\n",
      "28 0.0010340841216167657\n",
      "29 0.0009668589640071568\n",
      "30 0.0009035848252951236\n",
      "31 0.0008440597438965665\n",
      "32 0.0007880903916577892\n",
      "33 0.0007354916149800093\n",
      "34 0.0006860860830893571\n",
      "35 0.0006397040034882743\n",
      "36 0.0005961828786264877\n",
      "37 0.0005553672870616428\n",
      "38 0.0005171086784763165\n",
      "39 0.00048126517593441074\n",
      "40 0.000447701381396048\n",
      "41 0.00041628818223542874\n",
      "42 0.0003869025576195648\n",
      "43 0.0003594273843197848\n",
      "44 0.0003337512419697688\n",
      "45 0.0003097682180546767\n",
      "46 0.00028737771306402683\n",
      "47 0.0002664842463182031\n",
      "48 0.0002469972630024765\n",
      "49 0.00022883094293810625\n",
      "50 0.00021190401159337528\n",
      "51 0.00019613955380193965\n",
      "52 0.00018146483061189014\n",
      "53 0.0001678110996435195\n",
      "54 0.00015511343928743148\n",
      "55 0.0001433105770284781\n",
      "56 0.00013234472213762808\n",
      "57 0.00012216140293323132\n",
      "58 0.00011270930877231508\n",
      "59 0.00010394013689941494\n",
      "60 9.580844424471079e-5\n",
      "61 8.827150423535758e-5\n",
      "62 8.128916865443733e-5\n",
      "63 7.482373455874025e-5\n",
      "64 6.883981624327537e-5\n",
      "65 6.330422222091413e-5\n",
      "66 5.8185837167962726e-5\n",
      "67 5.345550877045033e-5\n",
      "68 4.908593939303128e-5\n",
      "69 4.505158247981447e-5\n",
      "70 4.132854358688073e-5\n",
      "71 3.7894485937309346e-5\n",
      "72 3.472854038263415e-5\n",
      "73 3.181121964857635e-5\n",
      "74 2.9124336738445438e-5\n",
      "75 2.6650927363644854e-5\n",
      "76 2.4375176268617134e-5\n",
      "77 2.2282347315272236e-5\n",
      "78 2.03587171914183e-5\n",
      "79 1.859151260726871e-5\n",
      "80 1.696885084450055e-5\n",
      "81 1.547968352345283e-5\n",
      "82 1.4113743455027993e-5\n",
      "83 1.286149444663137e-5\n",
      "84 1.171408393257458e-5\n",
      "85 1.0663298302916258e-5\n",
      "86 9.701520806964328e-6\n",
      "87 8.821691911022691e-6\n",
      "88 8.017271993007838e-6\n",
      "89 7.2822062601224324e-6\n",
      "90 6.610891779214465e-6\n",
      "91 5.998146513091544e-6\n",
      "92 5.4391802596602554e-6\n",
      "93 4.929567394587271e-6\n",
      "94 4.465221321736797e-6\n",
      "95 4.042370539563495e-6\n",
      "96 3.6575362351169396e-6\n",
      "97 3.307511321147805e-6\n",
      "98 2.989340835335019e-6\n",
      "99 2.700303624239283e-6\n",
      "100 2.437895238048645e-6\n",
      "101 2.1998119656512745e-6\n",
      "102 1.9839359427818177e-6\n",
      "103 1.7883212694226468e-6\n",
      "104 1.6111810755284463e-6\n",
      "105 1.4508754774253757e-6\n",
      "106 1.3059003700383076e-6\n",
      "107 1.1748770029909857e-6\n",
      "108 1.0565422913941506e-6\n",
      "109 9.497398146933573e-7\n"
     ]
    },
    {
     "data": {
      "text/plain": [
       "12x2 Array{Any,2}:\n",
       " \"intercept: intercept\"  -0.258577   \n",
       " \"Age: Age\"              -0.0973098  \n",
       " \"Animal: S1\"             0.110911   \n",
       " \"Animal: D1\"            -0.106148   \n",
       " \"Animal: O1\"            -0.487683   \n",
       " \"Animal: O3\"            -0.0179881  \n",
       " \"Animal: O2\"             0.00238147 \n",
       " \"Animal*Age: S1\"        -0.176201   \n",
       " \"Animal*Age: D1\"         0.174373   \n",
       " \"Animal*Age: O1\"         0.465182   \n",
       " \"Animal*Age: O3\"         0.27267    \n",
       " \"Animal*Age: O2\"        -0.000913857"
      ]
     },
     "execution_count": 31,
     "metadata": {},
     "output_type": "execute_result"
    }
   ],
   "source": [
    "mme = initMME(\"y = intercept + Age + Animal + Animal*Age\")\n",
    "covList(mme,\"Age\")\n",
    "G = [1 0.1; 0.1 1.0]\n",
    "setAsRandom(mme,\"Animal Animal*Age\",ped,G)\n",
    "resG = getSolG(mme,df2)"
   ]
  },
  {
   "cell_type": "code",
   "execution_count": 34,
   "metadata": {
    "collapsed": false,
    "scrolled": false
   },
   "outputs": [
    {
     "data": {
      "text/plain": [
       "12x12 Array{Float64,2}:\n",
       " 12.0  24.0   3.0   3.0   3.0   3.0   0.0   6.0   6.0   6.0   6.0   0.0\n",
       " 24.0  56.0   6.0   6.0   6.0   6.0   0.0  14.0  14.0  14.0  14.0   0.0\n",
       "  3.0   6.0   5.5   1.5  -1.0  -1.0  -1.0   5.7  -0.2   0.1   0.1   0.1\n",
       "  3.0   6.0   1.5   5.5  -1.0  -1.0  -1.0  -0.2   5.7   0.1   0.1   0.1\n",
       "  3.0   6.0  -1.0  -1.0   5.0   0.0   0.0   0.1   0.1   5.8   0.0   0.0\n",
       "  3.0   6.0  -1.0  -1.0   0.0   5.0   0.0   0.1   0.1   0.0   5.8   0.0\n",
       "  0.0   0.0  -1.0  -1.0   0.0   0.0   2.0   0.1   0.1   0.0   0.0  -0.2\n",
       "  6.0  14.0   5.7  -0.2   0.1   0.1   0.1  16.5   1.5  -1.0  -1.0  -1.0\n",
       "  6.0  14.0  -0.2   5.7   0.1   0.1   0.1   1.5  16.5  -1.0  -1.0  -1.0\n",
       "  6.0  14.0   0.1   0.1   5.8   0.0   0.0  -1.0  -1.0  16.0   0.0   0.0\n",
       "  6.0  14.0   0.1   0.1   0.0   5.8   0.0  -1.0  -1.0   0.0  16.0   0.0\n",
       "  0.0   0.0   0.1   0.1   0.0   0.0  -0.2  -1.0  -1.0   0.0   0.0   2.0"
      ]
     },
     "execution_count": 34,
     "metadata": {},
     "output_type": "execute_result"
    }
   ],
   "source": [
    "round(full(mme.mmeLhs),1)"
   ]
  },
  {
   "cell_type": "code",
   "execution_count": 35,
   "metadata": {
    "collapsed": false,
    "scrolled": true
   },
   "outputs": [
    {
     "name": "stdout",
     "output_type": "stream",
     "text": [
      "1 1.1010268725756595e-6\n",
      "2 4.926239632627142e-11\n"
     ]
    },
    {
     "data": {
      "text/plain": [
       "11x2 Array{Any,2}:\n",
       " \"intercept: intercept\"   95.0        \n",
       " \"Animal: S1\"              0.0        \n",
       " \"Animal: D1\"              0.0        \n",
       " \"Animal: O1\"             18.3333     \n",
       " \"Animal: O3\"            -18.3333     \n",
       " \"Animal: O2\"              0.0        \n",
       " \"mat: S1\"                 1.75859e-16\n",
       " \"mat: D1\"                 0.0        \n",
       " \"mat: O1\"                 1.83333    \n",
       " \"mat: O3\"                -1.83333    \n",
       " \"mat: O2\"                 8.79297e-17"
      ]
     },
     "execution_count": 35,
     "metadata": {},
     "output_type": "execute_result"
    }
   ],
   "source": [
    "mme = initMME(\"y = intercept + Animal + mat\")\n",
    "G = [1 0.1; 0.1 1.0]\n",
    "setAsRandom(mme,\"Animal mat\",ped,G)\n",
    "resG = getSolG(mme,df3)"
   ]
  },
  {
   "cell_type": "code",
   "execution_count": 36,
   "metadata": {
    "collapsed": false
   },
   "outputs": [
    {
     "data": {
      "text/plain": [
       "11x11 Array{Float64,2}:\n",
       " 2.0   0.0   0.0   1.0   1.0   0.0   0.0   2.0   0.0   0.0   0.0\n",
       " 0.0   2.5   1.5  -1.0  -1.0  -1.0  -0.3  -0.2   0.1   0.1   0.1\n",
       " 0.0   1.5   2.5  -1.0  -1.0  -1.0  -0.2  -0.3   0.1   0.1   0.1\n",
       " 1.0  -1.0  -1.0   3.0   0.0   0.0   0.1   1.1  -0.2   0.0   0.0\n",
       " 1.0  -1.0  -1.0   0.0   3.0   0.0   0.1   1.1   0.0  -0.2   0.0\n",
       " 0.0  -1.0  -1.0   0.0   0.0   2.0   0.1   0.1   0.0   0.0  -0.2\n",
       " 0.0  -0.3  -0.2   0.1   0.1   0.1   2.5   1.5  -1.0  -1.0  -1.0\n",
       " 2.0  -0.2  -0.3   1.1   1.1   0.1   1.5   4.5  -1.0  -1.0  -1.0\n",
       " 0.0   0.1   0.1  -0.2   0.0   0.0  -1.0  -1.0   2.0   0.0   0.0\n",
       " 0.0   0.1   0.1   0.0  -0.2   0.0  -1.0  -1.0   0.0   2.0   0.0\n",
       " 0.0   0.1   0.1   0.0   0.0  -0.2  -1.0  -1.0   0.0   0.0   2.0"
      ]
     },
     "execution_count": 36,
     "metadata": {},
     "output_type": "execute_result"
    }
   ],
   "source": [
    "round(full(mme.mmeLhs),1)"
   ]
  }
 ],
 "metadata": {
  "kernelspec": {
   "display_name": "Julia 0.3.7",
   "language": "julia",
   "name": "julia 0.3"
  },
  "language_info": {
   "name": "julia",
   "version": "0.3.7"
  }
 },
 "nbformat": 4,
 "nbformat_minor": 0
}
