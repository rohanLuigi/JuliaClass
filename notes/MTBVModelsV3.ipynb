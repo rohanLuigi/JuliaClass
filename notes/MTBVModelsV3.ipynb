{
 "cells": [
  {
   "cell_type": "markdown",
   "metadata": {},
   "source": [
    "## Tools for building Henderson's Mixed Model Equations\n",
    "\n",
    "Here we will see how the mixed model equations (HMME) can be built given a data set and a model string. \n"
   ]
  },
  {
   "cell_type": "code",
   "execution_count": 1,
   "metadata": {
    "collapsed": false
   },
   "outputs": [],
   "source": [
    "include (\"../../PedModule.jl/src/PedModule.jl\")\n",
    "using DataFrames"
   ]
  },
  {
   "cell_type": "code",
   "execution_count": 2,
   "metadata": {
    "collapsed": false
   },
   "outputs": [
    {
     "data": {
      "text/html": [
       "<table class=\"data-frame\"><tr><th></th><th>y1</th><th>y2</th><th>y3</th><th>trt</th></tr><tr><th>1</th><td>1.0</td><td>2.0</td><td>1.2</td><td>1</td></tr><tr><th>2</th><td>1.1</td><td>NA</td><td>3.1</td><td>1</td></tr><tr><th>3</th><td>0.9</td><td>1.9</td><td>NA</td><td>2</td></tr><tr><th>4</th><td>1.2</td><td>1.7</td><td>1.9</td><td>2</td></tr></table>"
      ],
      "text/plain": [
       "4x4 DataFrame\n",
       "| Row | y1  | y2  | y3  | trt |\n",
       "|-----|-----|-----|-----|-----|\n",
       "| 1   | 1.0 | 2.0 | 1.2 | 1   |\n",
       "| 2   | 1.1 | NA  | 3.1 | 1   |\n",
       "| 3   | 0.9 | 1.9 | NA  | 2   |\n",
       "| 4   | 1.2 | 1.7 | 1.9 | 2   |"
      ]
     },
     "execution_count": 2,
     "metadata": {},
     "output_type": "execute_result"
    }
   ],
   "source": [
    "df = readtable(\"MTData\", separator = ' ')"
   ]
  },
  {
   "cell_type": "code",
   "execution_count": 3,
   "metadata": {
    "collapsed": false
   },
   "outputs": [
    {
     "data": {
      "text/plain": [
       "4x3 BitArray{2}:\n",
       " true   true   true\n",
       " true  false   true\n",
       " true   true  false\n",
       " true   true   true"
      ]
     },
     "execution_count": 3,
     "metadata": {},
     "output_type": "execute_result"
    }
   ],
   "source": [
    "tstMsng = [!isna(df[:y1]) !isna(df[:y2]) !isna(df[:y3])]"
   ]
  },
  {
   "cell_type": "code",
   "execution_count": 4,
   "metadata": {
    "collapsed": false
   },
   "outputs": [
    {
     "data": {
      "text/plain": [
       "4-element Array{Float64,1}:\n",
       " 1.0\n",
       " 1.1\n",
       " 0.9\n",
       " 1.2"
      ]
     },
     "execution_count": 4,
     "metadata": {},
     "output_type": "execute_result"
    }
   ],
   "source": [
    "convert(Array, df[:y1], 0)"
   ]
  },
  {
   "cell_type": "code",
   "execution_count": 5,
   "metadata": {
    "collapsed": false
   },
   "outputs": [
    {
     "data": {
      "text/plain": [
       "4x2 Array{Int64,2}:\n",
       " 1  0\n",
       " 1  0\n",
       " 0  1\n",
       " 0  1"
      ]
     },
     "execution_count": 5,
     "metadata": {},
     "output_type": "execute_result"
    }
   ],
   "source": [
    "X1 = [\n",
    "    1 0\n",
    "    1 0\n",
    "    0 1\n",
    "    0 1\n",
    "]"
   ]
  },
  {
   "cell_type": "code",
   "execution_count": 6,
   "metadata": {
    "collapsed": false
   },
   "outputs": [
    {
     "data": {
      "text/plain": [
       "3x2 Array{Int64,2}:\n",
       " 1  0\n",
       " 0  1\n",
       " 0  1"
      ]
     },
     "execution_count": 6,
     "metadata": {},
     "output_type": "execute_result"
    }
   ],
   "source": [
    "X2 = [\n",
    "    1 0\n",
    "    0 1\n",
    "    0 1\n",
    "]"
   ]
  },
  {
   "cell_type": "code",
   "execution_count": 7,
   "metadata": {
    "collapsed": false,
    "scrolled": true
   },
   "outputs": [
    {
     "data": {
      "text/plain": [
       "7x4 Array{Float64,2}:\n",
       " 1.0  0.0  0.0  0.0\n",
       " 1.0  0.0  0.0  0.0\n",
       " 0.0  1.0  0.0  0.0\n",
       " 0.0  1.0  0.0  0.0\n",
       " 0.0  0.0  1.0  0.0\n",
       " 0.0  0.0  0.0  1.0\n",
       " 0.0  0.0  0.0  1.0"
      ]
     },
     "execution_count": 7,
     "metadata": {},
     "output_type": "execute_result"
    }
   ],
   "source": [
    "X = [\n",
    "    X1 zeros(4,2)\n",
    "    zeros(3,2) X2\n",
    "]"
   ]
  },
  {
   "cell_type": "code",
   "execution_count": 8,
   "metadata": {
    "collapsed": false
   },
   "outputs": [
    {
     "data": {
      "text/plain": [
       "8-element BitArray{1}:\n",
       "  true\n",
       "  true\n",
       "  true\n",
       "  true\n",
       "  true\n",
       " false\n",
       "  true\n",
       "  true"
      ]
     },
     "execution_count": 8,
     "metadata": {},
     "output_type": "execute_result"
    }
   ],
   "source": [
    "sel = [!isna(df[:y1]),  !isna(df[:y2])]"
   ]
  },
  {
   "cell_type": "code",
   "execution_count": 9,
   "metadata": {
    "collapsed": false
   },
   "outputs": [
    {
     "data": {
      "text/plain": [
       "8x8 Array{Float64,2}:\n",
       " 1.0  0.0  0.0  0.0  0.5  0.0  0.0  0.0\n",
       " 0.0  1.0  0.0  0.0  0.0  0.5  0.0  0.0\n",
       " 0.0  0.0  1.0  0.0  0.0  0.0  0.5  0.0\n",
       " 0.0  0.0  0.0  1.0  0.0  0.0  0.0  0.5\n",
       " 0.5  0.0  0.0  0.0  2.0  0.0  0.0  0.0\n",
       " 0.0  0.5  0.0  0.0  0.0  2.0  0.0  0.0\n",
       " 0.0  0.0  0.5  0.0  0.0  0.0  2.0  0.0\n",
       " 0.0  0.0  0.0  0.5  0.0  0.0  0.0  2.0"
      ]
     },
     "execution_count": 9,
     "metadata": {},
     "output_type": "execute_result"
    }
   ],
   "source": [
    "R0 = [1 0.5\n",
    "      0.5 2.0]\n",
    "R  = kron(R0,eye(4))"
   ]
  },
  {
   "cell_type": "code",
   "execution_count": 10,
   "metadata": {
    "collapsed": false,
    "scrolled": true
   },
   "outputs": [
    {
     "data": {
      "text/plain": [
       "8x8 Array{Float64,2}:\n",
       "  1.143   0.0     0.0     0.0    -0.286   0.0     0.0    -0.0  \n",
       "  0.0     1.143   0.0     0.0     0.0    -0.286   0.0    -0.0  \n",
       "  0.0     0.0     1.143   0.0     0.0     0.0    -0.286  -0.0  \n",
       "  0.0     0.0     0.0     1.143   0.0     0.0     0.0    -0.286\n",
       " -0.286   0.0     0.0     0.0     0.571   0.0     0.0    -0.0  \n",
       "  0.0    -0.286   0.0     0.0     0.0     0.571   0.0    -0.0  \n",
       "  0.0     0.0    -0.286   0.0     0.0     0.0     0.571  -0.0  \n",
       "  0.0     0.0     0.0    -0.286   0.0     0.0     0.0     0.571"
      ]
     },
     "execution_count": 10,
     "metadata": {},
     "output_type": "execute_result"
    }
   ],
   "source": [
    "Ri = inv(R)\n",
    "round(Ri,3)"
   ]
  },
  {
   "cell_type": "code",
   "execution_count": 11,
   "metadata": {
    "collapsed": false
   },
   "outputs": [
    {
     "data": {
      "text/plain": [
       "8x8 Array{Float64,2}:\n",
       "  1.143   0.0     0.0     0.0    -0.286  -0.0    -0.0    -0.0  \n",
       "  0.0     1.143   0.0     0.0    -0.0    -0.286  -0.0    -0.0  \n",
       "  0.0     0.0     1.143   0.0    -0.0    -0.0    -0.286  -0.0  \n",
       "  0.0     0.0     0.0     1.143  -0.0    -0.0    -0.0    -0.286\n",
       " -0.286  -0.0    -0.0    -0.0     0.571   0.0     0.0     0.0  \n",
       " -0.0    -0.286  -0.0    -0.0     0.0     0.571   0.0     0.0  \n",
       " -0.0    -0.0    -0.286  -0.0     0.0     0.0     0.571   0.0  \n",
       " -0.0    -0.0    -0.0    -0.286   0.0     0.0     0.0     0.571"
      ]
     },
     "execution_count": 11,
     "metadata": {},
     "output_type": "execute_result"
    }
   ],
   "source": [
    "round(kron(inv(R0),eye(4)),3)"
   ]
  },
  {
   "cell_type": "code",
   "execution_count": 12,
   "metadata": {
    "collapsed": false
   },
   "outputs": [
    {
     "data": {
      "text/plain": [
       "8-element BitArray{1}:\n",
       "  true\n",
       "  true\n",
       "  true\n",
       "  true\n",
       "  true\n",
       " false\n",
       "  true\n",
       "  true"
      ]
     },
     "execution_count": 12,
     "metadata": {},
     "output_type": "execute_result"
    }
   ],
   "source": [
    "sel"
   ]
  },
  {
   "cell_type": "code",
   "execution_count": 13,
   "metadata": {
    "collapsed": false
   },
   "outputs": [
    {
     "data": {
      "text/plain": [
       "7x7 Array{Float64,2}:\n",
       " 1.0  0.0  0.0  0.0  0.5  0.0  0.0\n",
       " 0.0  1.0  0.0  0.0  0.0  0.0  0.0\n",
       " 0.0  0.0  1.0  0.0  0.0  0.5  0.0\n",
       " 0.0  0.0  0.0  1.0  0.0  0.0  0.5\n",
       " 0.5  0.0  0.0  0.0  2.0  0.0  0.0\n",
       " 0.0  0.0  0.5  0.0  0.0  2.0  0.0\n",
       " 0.0  0.0  0.0  0.5  0.0  0.0  2.0"
      ]
     },
     "execution_count": 13,
     "metadata": {},
     "output_type": "execute_result"
    }
   ],
   "source": [
    "R = R[sel,sel]"
   ]
  },
  {
   "cell_type": "code",
   "execution_count": 14,
   "metadata": {
    "collapsed": false,
    "scrolled": true
   },
   "outputs": [
    {
     "data": {
      "text/plain": [
       "7x7 Array{Float64,2}:\n",
       "  1.143  0.0   0.0     0.0    -0.286   0.0    -0.0  \n",
       "  0.0    1.0   0.0     0.0     0.0     0.0    -0.0  \n",
       "  0.0    0.0   1.143   0.0     0.0    -0.286  -0.0  \n",
       "  0.0    0.0   0.0     1.143   0.0     0.0    -0.286\n",
       " -0.286  0.0   0.0     0.0     0.571   0.0    -0.0  \n",
       "  0.0    0.0  -0.286   0.0     0.0     0.571  -0.0  \n",
       "  0.0    0.0   0.0    -0.286   0.0     0.0     0.571"
      ]
     },
     "execution_count": 14,
     "metadata": {},
     "output_type": "execute_result"
    }
   ],
   "source": [
    "Ri = inv(R)\n",
    "round(Ri,3)"
   ]
  },
  {
   "cell_type": "code",
   "execution_count": 15,
   "metadata": {
    "collapsed": false,
    "scrolled": true
   },
   "outputs": [
    {
     "data": {
      "text/plain": [
       "4x4 Array{Float64,2}:\n",
       "  2.143   0.0    -0.286   0.0  \n",
       "  0.0     2.286   0.0    -0.571\n",
       " -0.286   0.0     0.571   0.0  \n",
       "  0.0    -0.571   0.0     1.143"
      ]
     },
     "execution_count": 15,
     "metadata": {},
     "output_type": "execute_result"
    }
   ],
   "source": [
    "round(X'Ri*X,3)"
   ]
  },
  {
   "cell_type": "code",
   "execution_count": 16,
   "metadata": {
    "collapsed": false
   },
   "outputs": [
    {
     "data": {
      "text/plain": [
       "8x4 Array{Float64,2}:\n",
       " 1.0  0.0  0.0  0.0\n",
       " 1.0  0.0  0.0  0.0\n",
       " 0.0  1.0  0.0  0.0\n",
       " 0.0  1.0  0.0  0.0\n",
       " 0.0  0.0  1.0  0.0\n",
       " 0.0  0.0  1.0  0.0\n",
       " 0.0  0.0  0.0  1.0\n",
       " 0.0  0.0  0.0  1.0"
      ]
     },
     "execution_count": 16,
     "metadata": {},
     "output_type": "execute_result"
    }
   ],
   "source": [
    "X = [\n",
    "    X1          zeros(4,2)\n",
    "    zeros(4,2)  X1\n",
    "    ]    "
   ]
  },
  {
   "cell_type": "code",
   "execution_count": 17,
   "metadata": {
    "collapsed": false
   },
   "outputs": [
    {
     "data": {
      "text/plain": [
       "8x8 Array{Float64,2}:\n",
       "  1.143  0.0   0.0     0.0    -0.286  -0.0  -0.0    -0.0  \n",
       "  0.0    1.0   0.0     0.0     0.0     0.0   0.0     0.0  \n",
       "  0.0    0.0   1.143   0.0    -0.0    -0.0  -0.286  -0.0  \n",
       "  0.0    0.0   0.0     1.143  -0.0    -0.0  -0.0    -0.286\n",
       " -0.286  0.0  -0.0    -0.0     0.571   0.0   0.0     0.0  \n",
       " -0.0    0.0  -0.0    -0.0     0.0     0.0   0.0     0.0  \n",
       " -0.0    0.0  -0.286  -0.0     0.0     0.0   0.571   0.0  \n",
       " -0.0    0.0  -0.0    -0.286   0.0     0.0   0.0     0.571"
      ]
     },
     "execution_count": 17,
     "metadata": {},
     "output_type": "execute_result"
    }
   ],
   "source": [
    "Ri = round(kron(inv(R0),eye(4)),3)\n",
    "Ri[2,:] = 0\n",
    "Ri[:,2] = 0\n",
    "Ri[2,2] = 1.0\n",
    "Ri[6,6] = 0\n",
    "round(Ri,3)"
   ]
  },
  {
   "cell_type": "code",
   "execution_count": 18,
   "metadata": {
    "collapsed": false
   },
   "outputs": [
    {
     "data": {
      "text/plain": [
       "4x4 Array{Float64,2}:\n",
       "  2.143   0.0    -0.286   0.0  \n",
       "  0.0     2.286   0.0    -0.572\n",
       " -0.286   0.0     0.571   0.0  \n",
       "  0.0    -0.572   0.0     1.142"
      ]
     },
     "execution_count": 18,
     "metadata": {},
     "output_type": "execute_result"
    }
   ],
   "source": [
    "X'Ri*X"
   ]
  },
  {
   "cell_type": "code",
   "execution_count": 19,
   "metadata": {
    "collapsed": false
   },
   "outputs": [
    {
     "data": {
      "text/plain": [
       "3x3 Array{Float64,2}:\n",
       " 1.0  0.5  0.5\n",
       " 0.5  2.0  0.5\n",
       " 0.5  0.5  4.0"
      ]
     },
     "execution_count": 19,
     "metadata": {},
     "output_type": "execute_result"
    }
   ],
   "source": [
    "R0=[\n",
    "    1.0 0.5 0.5\n",
    "    0.5 2.0 0.5\n",
    "    0.5 0.5 4.0\n",
    "]"
   ]
  },
  {
   "cell_type": "code",
   "execution_count": 20,
   "metadata": {
    "collapsed": false
   },
   "outputs": [
    {
     "data": {
      "text/plain": [
       "3x3 Array{Float64,2}:\n",
       "  1.19231   -0.269231   -0.115385 \n",
       " -0.269231   0.576923   -0.0384615\n",
       " -0.115385  -0.0384615   0.269231 "
      ]
     },
     "execution_count": 20,
     "metadata": {},
     "output_type": "execute_result"
    }
   ],
   "source": [
    "sel = bool([1,1,1])\n",
    "RZ = zeros(3,3)\n",
    "RZ[sel,sel]=inv(R0[sel,sel])\n",
    "RZ"
   ]
  },
  {
   "cell_type": "code",
   "execution_count": 21,
   "metadata": {
    "collapsed": false
   },
   "outputs": [
    {
     "data": {
      "text/plain": [
       "3x3 Array{Float64,2}:\n",
       "  1.14286   -0.285714  0.0\n",
       " -0.285714   0.571429  0.0\n",
       "  0.0        0.0       0.0"
      ]
     },
     "execution_count": 21,
     "metadata": {},
     "output_type": "execute_result"
    }
   ],
   "source": [
    "sel = bool([1,1,0])\n",
    "RZ = zeros(3,3)\n",
    "RZ[sel,sel]=inv(R0[sel,sel])\n",
    "RZ"
   ]
  },
  {
   "cell_type": "code",
   "execution_count": 22,
   "metadata": {
    "collapsed": false
   },
   "outputs": [
    {
     "data": {
      "text/plain": [
       "3x3 Array{Float64,2}:\n",
       " 0.0   0.0         0.0      \n",
       " 0.0   0.516129   -0.0645161\n",
       " 0.0  -0.0645161   0.258065 "
      ]
     },
     "execution_count": 22,
     "metadata": {},
     "output_type": "execute_result"
    }
   ],
   "source": [
    "sel = bool([0,1,1])\n",
    "RZ = zeros(3,3)\n",
    "RZ[sel,sel]=inv(R0[sel,sel])\n",
    "RZ"
   ]
  },
  {
   "cell_type": "code",
   "execution_count": 23,
   "metadata": {
    "collapsed": false
   },
   "outputs": [
    {
     "data": {
      "text/plain": [
       "3x3 Array{Float64,2}:\n",
       " 0.0   0.0         0.0      \n",
       " 0.0   0.516129   -0.0645161\n",
       " 0.0  -0.0645161   0.258065 "
      ]
     },
     "execution_count": 23,
     "metadata": {},
     "output_type": "execute_result"
    }
   ],
   "source": [
    "sel = bool([0,1,1])\n",
    "RZ = zeros(3,3)\n",
    "RZ[sel,sel]=inv(R0[sel,sel])\n",
    "RZ"
   ]
  },
  {
   "cell_type": "code",
   "execution_count": 24,
   "metadata": {
    "collapsed": false
   },
   "outputs": [
    {
     "data": {
      "text/plain": [
       "3x3 Array{Float64,2}:\n",
       "  1.06667   0.0  -0.133333\n",
       "  0.0       0.0   0.0     \n",
       " -0.133333  0.0   0.266667"
      ]
     },
     "execution_count": 24,
     "metadata": {},
     "output_type": "execute_result"
    }
   ],
   "source": [
    "sel = bool([1,0,1])\n",
    "RZ = zeros(3,3)\n",
    "RZ[sel,sel]=inv(R0[sel,sel])\n",
    "RZ"
   ]
  },
  {
   "cell_type": "code",
   "execution_count": 25,
   "metadata": {
    "collapsed": false
   },
   "outputs": [],
   "source": [
    "type ResVar\n",
    "    R0::Array{Float64,2}\n",
    "    RiDict::Dict{BitArray{1},Array{Float64,2}}\n",
    "end    "
   ]
  },
  {
   "cell_type": "code",
   "execution_count": 26,
   "metadata": {
    "collapsed": false
   },
   "outputs": [
    {
     "data": {
      "text/plain": [
       "ResVar(3x3 Array{Float64,2}:\n",
       " 1.0  0.5  0.5\n",
       " 0.5  2.0  0.5\n",
       " 0.5  0.5  4.0,Dict{BitArray{1},Array{Float64,2}}())"
      ]
     },
     "execution_count": 26,
     "metadata": {},
     "output_type": "execute_result"
    }
   ],
   "source": [
    "resVar = ResVar(R0,Dict())"
   ]
  },
  {
   "cell_type": "code",
   "execution_count": 43,
   "metadata": {
    "collapsed": false
   },
   "outputs": [
    {
     "data": {
      "text/plain": [
       "getRi (generic function with 1 method)"
      ]
     },
     "execution_count": 43,
     "metadata": {},
     "output_type": "execute_result"
    }
   ],
   "source": [
    "function getRi(resVar::ResVar,sel::BitArray{1})\n",
    "    if haskey(resVar.RiDict,sel)\n",
    "        return resVar.RiDict[sel]\n",
    "    end\n",
    "    n = size(resVar.R0,1)\n",
    "    RZ = zeros(n,n)\n",
    "    RZ[sel,sel] = inv(resVar.R0[sel,sel])\n",
    "    resVar.RiDict[sel] = RZ\n",
    "    return RZ\n",
    "end"
   ]
  },
  {
   "cell_type": "code",
   "execution_count": 28,
   "metadata": {
    "collapsed": false
   },
   "outputs": [
    {
     "data": {
      "text/plain": [
       "4x3 BitArray{2}:\n",
       " true   true   true\n",
       " true  false   true\n",
       " true   true  false\n",
       " true   true   true"
      ]
     },
     "execution_count": 28,
     "metadata": {},
     "output_type": "execute_result"
    }
   ],
   "source": [
    "tstMsng"
   ]
  },
  {
   "cell_type": "code",
   "execution_count": 29,
   "metadata": {
    "collapsed": false
   },
   "outputs": [
    {
     "data": {
      "text/plain": [
       "3-element BitArray{1}:\n",
       " true\n",
       " true\n",
       " true"
      ]
     },
     "execution_count": 29,
     "metadata": {},
     "output_type": "execute_result"
    }
   ],
   "source": [
    "reshape(tstMsng[1,:],3)"
   ]
  },
  {
   "cell_type": "code",
   "execution_count": 30,
   "metadata": {
    "collapsed": false
   },
   "outputs": [
    {
     "data": {
      "text/plain": [
       "3x3 Array{Float64,2}:\n",
       "  1.19231   -0.269231   -0.115385 \n",
       " -0.269231   0.576923   -0.0384615\n",
       " -0.115385  -0.0384615   0.269231 "
      ]
     },
     "execution_count": 30,
     "metadata": {},
     "output_type": "execute_result"
    }
   ],
   "source": [
    "sel = reshape(tstMsng[1,:],3)\n",
    "getRi(resVar,sel)"
   ]
  },
  {
   "cell_type": "code",
   "execution_count": 31,
   "metadata": {
    "collapsed": false
   },
   "outputs": [
    {
     "data": {
      "text/plain": [
       "BitArray{1} (constructor with 1 method)"
      ]
     },
     "execution_count": 31,
     "metadata": {},
     "output_type": "execute_result"
    }
   ],
   "source": [
    "typeof(sel)"
   ]
  },
  {
   "cell_type": "code",
   "execution_count": 32,
   "metadata": {
    "collapsed": false
   },
   "outputs": [
    {
     "data": {
      "text/plain": [
       "3x3 Array{Float64,2}:\n",
       "  1.06667   0.0  -0.133333\n",
       "  0.0       0.0   0.0     \n",
       " -0.133333  0.0   0.266667"
      ]
     },
     "execution_count": 32,
     "metadata": {},
     "output_type": "execute_result"
    }
   ],
   "source": [
    "sel = reshape(tstMsng[2,:],3)\n",
    "getRi(resVar,sel)"
   ]
  },
  {
   "cell_type": "code",
   "execution_count": 33,
   "metadata": {
    "collapsed": false
   },
   "outputs": [
    {
     "data": {
      "text/plain": [
       "3x3 Array{Float64,2}:\n",
       "  1.14286   -0.285714  0.0\n",
       " -0.285714   0.571429  0.0\n",
       "  0.0        0.0       0.0"
      ]
     },
     "execution_count": 33,
     "metadata": {},
     "output_type": "execute_result"
    }
   ],
   "source": [
    "sel = reshape(tstMsng[3,:],3)\n",
    "getRi(resVar,sel)"
   ]
  },
  {
   "cell_type": "code",
   "execution_count": 34,
   "metadata": {
    "collapsed": false
   },
   "outputs": [
    {
     "data": {
      "text/plain": [
       "3x3 Array{Float64,2}:\n",
       "  1.19231   -0.269231   -0.115385 \n",
       " -0.269231   0.576923   -0.0384615\n",
       " -0.115385  -0.0384615   0.269231 "
      ]
     },
     "execution_count": 34,
     "metadata": {},
     "output_type": "execute_result"
    }
   ],
   "source": [
    "sel = reshape(tstMsng[4,:],3)\n",
    "getRi(resVar,sel)"
   ]
  },
  {
   "cell_type": "code",
   "execution_count": 35,
   "metadata": {
    "collapsed": false
   },
   "outputs": [
    {
     "data": {
      "text/plain": [
       "ResVar(3x3 Array{Float64,2}:\n",
       " 1.0  0.5  0.5\n",
       " 0.5  2.0  0.5\n",
       " 0.5  0.5  4.0,[Bool[true,false,true]=>3x3 Array{Float64,2}:\n",
       "  1.06667   0.0  -0.133333\n",
       "  0.0       0.0   0.0     \n",
       " -0.133333  0.0   0.266667,Bool[true,true,false]=>3x3 Array{Float64,2}:\n",
       "  1.14286   -0.285714  0.0\n",
       " -0.285714   0.571429  0.0\n",
       "  0.0        0.0       0.0,Bool[true,true,true]=>3x3 Array{Float64,2}:\n",
       "  1.19231   -0.269231   -0.115385 \n",
       " -0.269231   0.576923   -0.0384615\n",
       " -0.115385  -0.0384615   0.269231 ])"
      ]
     },
     "execution_count": 35,
     "metadata": {},
     "output_type": "execute_result"
    }
   ],
   "source": [
    "resVar"
   ]
  },
  {
   "cell_type": "code",
   "execution_count": 36,
   "metadata": {
    "collapsed": false
   },
   "outputs": [
    {
     "data": {
      "text/plain": [
       "addA (generic function with 1 method)"
      ]
     },
     "execution_count": 36,
     "metadata": {},
     "output_type": "execute_result"
    }
   ],
   "source": [
    "function GaussSeidel(A,x,b;tol=0.000001)\n",
    "    n = size(x,1)\n",
    "    for i=1:n\n",
    "        x[i] = ((b[i] - A[i,:]*x)/A[i,i])[1,1] + x[i]\n",
    "    end\n",
    "    diff = sum((A*x-b).^2)\n",
    "    iter = 0\n",
    "    while ((diff/n > tol) & (iter<1000))\n",
    "        iter += 1\n",
    "        for i=1:n\n",
    "            x[i] = ((b[i] - A[i,:]*x)/A[i,i])[1,1] + x[i]\n",
    "        end\n",
    "        diff = sum((A*x-b).^2)\n",
    "        println(iter,\" \",diff/n)\n",
    "    end\n",
    "    return x\n",
    "end\n",
    "\n",
    "function Jacobi(A,x,b,p;tol=0.000001)\n",
    "    D       = diag(A)\n",
    "    res     = A*x\n",
    "    resid   = b-res\n",
    "    tempSol = resid./D\n",
    "    diff    = sum(resid.^2)\n",
    "    n    = size(A,1)\n",
    "    iter = 0\n",
    "    while ((diff/n > tol) & (iter<1000))\n",
    "        iter += 1\n",
    "        x = p*tempSol + (1-p)*x\n",
    "        res     = A*x\n",
    "        resid   = b-res\n",
    "        tempSol = resid./D + x\n",
    "        diff    = sum(resid.^2)\n",
    "        println(iter,\" \",diff/n)\n",
    "    end\n",
    "    return x\n",
    "end\n",
    "\n",
    "\n",
    "type TermStrVal\n",
    "    str::String\n",
    "    value::Float64\n",
    "end\n",
    "\n",
    "type TermLvlVal\n",
    "    level::String\n",
    "    value::Float64\n",
    "end\n",
    "\n",
    "type ModelTerm \n",
    "    iModel::Int64\n",
    "    trmStr::String\n",
    "    nFactors::Int64\n",
    "    factors::Array{Symbol,1}\n",
    "    str::Array{String,1}                    # used to store the data for this term as strings\n",
    "    val::Array{Float64,1}\n",
    "    startPos::Int64                         # start pos in HMME\n",
    "    nLevels::Int64                           \n",
    "    X::SparseMatrixCSC{Float64,Int64}\n",
    "    names::Array{Any,1}\n",
    "end\n",
    "type MME\n",
    "    modelVec::Array{String,1}\n",
    "    modelTerms::Array{ModelTerm,1}\n",
    "    modelTermDict::Dict{String,ModelTerm}\n",
    "    lhsVec::Array{Symbol,1}\n",
    "    covVec::Array{Symbol,1}\n",
    "    pedTrmVec::Array{String,1}\n",
    "    mmeLhs\n",
    "    mmeRhs\n",
    "    ped\n",
    "    Gi::Array{Float64,2}\n",
    "    R::Array{Float64,2}\n",
    "    Ai\n",
    "    mmePos::Int64\n",
    "end\n",
    "\n",
    "function mkDict(a)\n",
    "    aUnique = unique(a)\n",
    "    d = Dict()\n",
    "    names = Array(Any,size(aUnique,1))\n",
    "    for (i,s) in enumerate(aUnique)\n",
    "        names[i] = s\n",
    "        d[s] = i\n",
    "    end\n",
    "    return d,names\n",
    "end\n",
    "\n",
    "function getTerm(trmStr,m)\n",
    "    trm = ModelTerm(m,string(m)*\":\"*trmStr,0,[],[],[],0,0,spzeros(0,0),[])\n",
    "    factorVec = split(trmStr,\"*\")\n",
    "    trm.nFactors = length(factorVec)\n",
    "    trm.factors = [symbol(strip(f)) for f in factorVec]\n",
    "    return trm\n",
    "end\n",
    "\n",
    "function initMME(models::String,R::Array{Float64,2})\n",
    "    # returns an MME object for muilding the mme corresponding \n",
    "    # to the input string\n",
    "    if models==\"\"\n",
    "        println(\"modelEquation is empty\\n\")\n",
    "        return\n",
    "    end\n",
    "    modelVec = split(models,[';','\\n'],false)\n",
    "    nModels  = size(modelVec,1)\n",
    "    lhsVec   = Symbol[]\n",
    "    modelTerms = ModelTerm[]\n",
    "    dict = Dict{String,ModelTerm}()\n",
    "    for (m,model) = enumerate(modelVec)\n",
    "        lhsRhs = split(model,\"=\")\n",
    "        lhsVec = [lhsVec,symbol(strip(lhsRhs[1]))]\n",
    "        rhs = strip(lhsRhs[2])\n",
    "        rhsVec = split(rhs,\"+\")    \n",
    "        mTrms = [getTerm(strip(trmStr),m) for trmStr in rhsVec]\n",
    "        modelTerms = [modelTerms, mTrms]\n",
    "        for (i,trm) = enumerate(modelTerms) \n",
    "            dict[trm.trmStr] = modelTerms[i]\n",
    "        end \n",
    "    end\n",
    "    return MME(modelVec,modelTerms,dict,lhsVec,[],[],0,0,0,Array(Float64,1,1),R,0,1)\n",
    "end \n",
    "\n",
    "function getData(trm::ModelTerm,df::DataFrame,mme::MME)\n",
    "    nObs = size(df,1)\n",
    "    trm.str = Array(String,nObs)\n",
    "    trm.val = Array(Float64,nObs)\n",
    "    if(trm.factors[1] == :intercept)                     # from Melanie's HW\n",
    "        str = fill(string(trm.factors[1]),nObs)\n",
    "        val = fill(1.0,nObs)\n",
    "    else\n",
    "        myDf = df[trm.factors]\n",
    "        if trm.factors[1] in mme.covVec\n",
    "            str = fill(string(trm.factors[1]),nObs)\n",
    "            val = df[trm.factors[1]]\n",
    "        else\n",
    "            str = [string(i) for i in df[trm.factors[1]]]\n",
    "            val = fill(1.0,nObs)\n",
    "        end\n",
    "        for i=2:trm.nFactors\n",
    "            if trm.factors[i] in mme.covVec\n",
    "                str = str .* fill(\"*\"*string(trm.factors[i]),nObs)\n",
    "                val = val .* df[trm.factors[i]]\n",
    "            else\n",
    "                str = str .* fill(\"*\",nObs) .* [string(j) for j in df[trm.factors[i]]]\n",
    "                val = val .* fill(1.0,nObs)\n",
    "            end\n",
    "        end\n",
    "    end\n",
    "    trm.str = str\n",
    "    trm.val = val\n",
    "end\n",
    "\n",
    "getFactor1(str) = [strip(i) for i in split(str,\"*\")][1]\n",
    "\n",
    "function getX(trm,mme::MME)\n",
    "    pedSize = 0\n",
    "    nObs  = size(trm.str,1)\n",
    "    if trm.trmStr in mme.pedTrmVec\n",
    "        trm.names   = PedModule.getIDs(mme.ped)\n",
    "        trm.nLevels = length(mme.ped.idMap)\n",
    "        xj = int([mme.ped.idMap[getFactor1(i)].seqID for i in trm.str])\n",
    "    else\n",
    "        dict,trm.names  = mkDict(trm.str)\n",
    "        trm.nLevels     = length(dict)\n",
    "        xj    = int([dict[i] for i in trm.str])\n",
    "    end\n",
    "    xi    = (trm.iModel-1)*nObs + [1:nObs]\n",
    "    xv    = trm.val\n",
    "    if mme.ped!=0\n",
    "        pedSize = length(mme.ped.idMap)\n",
    "        if trm.trmStr in mme.pedTrmVec\n",
    "            # This is to ensure the X matrix for \n",
    "            # additive effect has the correct number of columns\n",
    "            ii = 1         # adding a zero to\n",
    "            jj = pedSize   # the last column in row 1\n",
    "            vv = [0.0]\n",
    "            xi = [xi,ii]\n",
    "            xj = [xj,jj]\n",
    "            xv = [xv,vv]\n",
    "        end\n",
    "    end \n",
    "    #make sure X has nObs*nModels rows\n",
    "    nModels = size(mme.lhsVec,1)\n",
    "    xi = [xi,1,nObs*nModels]\n",
    "    xj = [xj,1,1]\n",
    "    xv = [xv,0,0]\n",
    "    trm.X = sparse(xi,xj,xv)\n",
    "    trm.startPos = mme.mmePos\n",
    "    mme.mmePos  += trm.nLevels\n",
    "end\n",
    "\n",
    "function mkRi(mme::MME,df::DataFrame)\n",
    "    resVar = ResVar(mme.R,Dict())\n",
    "    tstMsng = !isna(df[mme.lhsVec[1]])\n",
    "    for i=2:size(mme.lhsVec,1)\n",
    "        tstMsng = [tstMsng !isna(df[mme.lhsVec[i]])]\n",
    "    end\n",
    "    n    = size(tstMsng,2)\n",
    "    nObs = size(tstMsng,1)\n",
    "    ii = Array(Int64,nObs*n^2)\n",
    "    jj = Array(Int64,nObs*n^2)\n",
    "    vv = Array(Float64,nObs*n^2)\n",
    "    pos = 1\n",
    "    for i=1:size(tstMsng,1)\n",
    "        sel = reshape(tstMsng[i,:],n)\n",
    "        Ri  = getRi(resVar,sel)\n",
    "        for ti=1:n\n",
    "            tii = (ti-1)*nObs + i\n",
    "            for tj=1:n\n",
    "                tjj = (tj-1)*nObs + i\n",
    "                ii[pos] = tii\n",
    "                jj[pos] = tjj\n",
    "                vv[pos] = Ri[ti,tj]\n",
    "                pos += 1\n",
    "            end\n",
    "        end         \n",
    "    end\n",
    "    return sparse(ii,jj,vv)\n",
    "end\n",
    "\n",
    "function getMME(mme::MME, df::DataFrame)\n",
    "    mme.mmePos = 1\n",
    "    for trm in mme.modelTerms\n",
    "        getData(trm,df,mme)\n",
    "        getX(trm,mme)\n",
    "    end\n",
    "    n   = size(mme.modelTerms,1)\n",
    "    trm = mme.modelTerms[1]\n",
    "    X   = trm.X\n",
    "    for i=2:n\n",
    "        trm = mme.modelTerms[i]\n",
    "        X = [X trm.X]\n",
    "    end\n",
    "    y = convert(Array,df[mme.lhsVec[1]],0.0)\n",
    "    for i=2:size(mme.lhsVec,1)\n",
    "        y    = [y, convert(Array,df[mme.lhsVec[i]],0.0)] \n",
    "    end\n",
    "    N  = size(y,1)\n",
    "    ii = 1:N\n",
    "    jj = fill(1,N)\n",
    "    vv = y\n",
    "    ySparse = sparse(ii,jj,vv)\n",
    "    nObs = size(df,1)\n",
    "    Ri = mkRi(mme,df)\n",
    "    mme.mmeLhs = X'Ri*X\n",
    "    mme.mmeRhs = X'Ri*ySparse\n",
    "    if mme.ped != 0\n",
    "        ii,jj,vv = PedModule.HAi(mme.ped)\n",
    "        HAi = sparse(ii,jj,vv)\n",
    "        mme.Ai = HAi'HAi\n",
    "        addA(mme::MME)\n",
    "    end   \n",
    "end\n",
    "\n",
    "function getNames(mme)\n",
    "    names = Array(String,0)\n",
    "    for trm in mme.modelTerms\n",
    "        for name in trm.names\n",
    "            push!(names,trm.trmStr*\": \"*name)\n",
    "        end\n",
    "    end\n",
    "    return names\n",
    "end  \n",
    "\n",
    "function covList(mme::MME, covStr::String)\n",
    "    covVec = split(covStr,\" \",false) \n",
    "    mme.covVec = [symbol(i) for i in covVec]\n",
    "    nothing\n",
    "end\n",
    "\n",
    "function getSolJ(mme::MME, df::DataFrame)\n",
    "    if size(mme.mmeRhs)==() \n",
    "        getMME(mme,df)\n",
    "    end\n",
    "    p = size(mme.mmeRhs,1)\n",
    "    return [getNames(mme) Jacobi(mme.mmeLhs,fill(0.0,p),mme.mmeRhs,0.3,tol=0.000001)]\n",
    "end\n",
    "\n",
    "function getSolG(mme::MME, df::DataFrame)\n",
    "    if size(mme.mmeRhs)==() \n",
    "        getMME(mme,df)\n",
    "    end\n",
    "    p = size(mme.mmeRhs,1)\n",
    "    return [getNames(mme) GaussSeidel(mme.mmeLhs,fill(0.0,p),mme.mmeRhs,tol=0.000001)]\n",
    "end\n",
    "\n",
    "function setAsRandom(mme::MME,randomStr::String,ped::PedModule.Pedigree, G::Array{Float64,2})\n",
    "    pedTrmVec = split(randomStr,\" \",false)\n",
    "    res = []\n",
    "    for trm in pedTrmVec\n",
    "        for (m,model) = enumerate(mme.modelVec)\n",
    "            strVec  = split(model,['=','+'])\n",
    "            strpVec = [strip(i) for i in strVec]\n",
    "            if trm in strpVec\n",
    "                res = [res,string(m)*\":\"*trm]\n",
    "            end\n",
    "        end\n",
    "    end\n",
    "    mme.pedTrmVec = res\n",
    "    mme.ped = ped\n",
    "    mme.Gi = inv(G)\n",
    "    nothing\n",
    "end\n",
    "\n",
    "function addA(mme::MME)\n",
    "    pedTrmVec = mme.pedTrmVec\n",
    "    for (i,trmi) = enumerate(pedTrmVec)\n",
    "        pedTrmi  = mme.modelTermDict[trmi]\n",
    "        startPosi  = pedTrmi.startPos\n",
    "        endPosi    = startPosi + pedTrmi.nLevels - 1\n",
    "        for (j,trmj) = enumerate(pedTrmVec)\n",
    "            pedTrmj  = mme.modelTermDict[trmj]\n",
    "            startPosj  = pedTrmj.startPos\n",
    "            endPosj    = startPosj + pedTrmj.nLevels - 1  \n",
    "            mme.mmeLhs[startPosi:endPosi,startPosj:endPosj] = \n",
    "            mme.mmeLhs[startPosi:endPosi,startPosj:endPosj] + mme.Ai*mme.Gi[i,j] \n",
    "        end\n",
    "    end\n",
    "end"
   ]
  },
  {
   "cell_type": "markdown",
   "metadata": {},
   "source": [
    "### Multiple Trait Animal Model "
   ]
  },
  {
   "cell_type": "code",
   "execution_count": 37,
   "metadata": {
    "collapsed": false
   },
   "outputs": [],
   "source": [
    "models = \"y1 = intercept + trt;\n",
    "          y2 = intercept + trt;\n",
    "          y3 = intercept + trt\"\n",
    "mme = initMME(models,R0);"
   ]
  },
  {
   "cell_type": "code",
   "execution_count": 38,
   "metadata": {
    "collapsed": false,
    "scrolled": true
   },
   "outputs": [
    {
     "data": {
      "text/html": [
       "<table class=\"data-frame\"><tr><th></th><th>y1</th><th>y2</th><th>y3</th></tr><tr><th>1</th><td>1.0</td><td>2.0</td><td>1.2</td></tr><tr><th>2</th><td>1.1</td><td>NA</td><td>3.1</td></tr><tr><th>3</th><td>0.9</td><td>1.9</td><td>NA</td></tr><tr><th>4</th><td>1.2</td><td>1.7</td><td>1.9</td></tr></table>"
      ],
      "text/plain": [
       "4x3 DataFrame\n",
       "| Row | y1  | y2  | y3  |\n",
       "|-----|-----|-----|-----|\n",
       "| 1   | 1.0 | 2.0 | 1.2 |\n",
       "| 2   | 1.1 | NA  | 3.1 |\n",
       "| 3   | 0.9 | 1.9 | NA  |\n",
       "| 4   | 1.2 | 1.7 | 1.9 |"
      ]
     },
     "execution_count": 38,
     "metadata": {},
     "output_type": "execute_result"
    }
   ],
   "source": [
    "df[mme.lhsVec]"
   ]
  },
  {
   "cell_type": "code",
   "execution_count": 39,
   "metadata": {
    "collapsed": false
   },
   "outputs": [],
   "source": [
    "getMME(mme,df);"
   ]
  },
  {
   "cell_type": "code",
   "execution_count": 40,
   "metadata": {
    "collapsed": false,
    "scrolled": false
   },
   "outputs": [
    {
     "data": {
      "text/plain": [
       "9x9 Array{Float64,2}:\n",
       "  4.59414    2.25897    2.33516   …  -0.364103   -0.248718   -0.115385 \n",
       "  2.25897    2.25897    0.0          -0.248718   -0.248718    0.0      \n",
       "  2.33516    0.0        2.33516      -0.115385    0.0        -0.115385 \n",
       " -0.824176  -0.269231  -0.554945     -0.0769231  -0.0384615  -0.0384615\n",
       " -0.269231  -0.269231   0.0          -0.0384615  -0.0384615   0.0      \n",
       " -0.554945   0.0       -0.554945  …  -0.0384615   0.0        -0.0384615\n",
       " -0.364103  -0.248718  -0.115385      0.805128    0.535897    0.269231 \n",
       " -0.248718  -0.248718   0.0           0.535897    0.535897    0.0      \n",
       " -0.115385   0.0       -0.115385      0.269231    0.0         0.269231 "
      ]
     },
     "execution_count": 40,
     "metadata": {},
     "output_type": "execute_result"
    }
   ],
   "source": [
    "full(mme.mmeLhs)"
   ]
  },
  {
   "cell_type": "code",
   "execution_count": 49,
   "metadata": {
    "collapsed": false,
    "scrolled": true
   },
   "outputs": [],
   "source": [
    "sel = [true, true, false]\n",
    "\n",
    "models = \"y1 =  trt;\n",
    "          y2 =  trt;\"\n",
    "mme = initMME(models,R0[sel,sel]);"
   ]
  },
  {
   "cell_type": "code",
   "execution_count": 50,
   "metadata": {
    "collapsed": false
   },
   "outputs": [],
   "source": [
    "getMME(mme,df)"
   ]
  },
  {
   "cell_type": "code",
   "execution_count": 52,
   "metadata": {
    "collapsed": false,
    "scrolled": true
   },
   "outputs": [
    {
     "data": {
      "text/plain": [
       "4x4 Array{Float64,2}:\n",
       "  2.143   0.0    -0.286   0.0  \n",
       "  0.0     2.286   0.0    -0.571\n",
       " -0.286   0.0     0.571   0.0  \n",
       "  0.0    -0.571   0.0     1.143"
      ]
     },
     "execution_count": 52,
     "metadata": {},
     "output_type": "execute_result"
    }
   ],
   "source": [
    "round(full(mme.mmeLhs),3)"
   ]
  },
  {
   "cell_type": "raw",
   "metadata": {},
   "source": [
    "4x4 Array{Float64,2}:\n",
    "  2.143   0.0    -0.286   0.0  \n",
    "  0.0     2.286   0.0    -0.571\n",
    " -0.286   0.0     0.571   0.0  \n",
    "  0.0    -0.571   0.0     1.143"
   ]
  }
 ],
 "metadata": {
  "kernelspec": {
   "display_name": "Julia 0.3.7",
   "language": "julia",
   "name": "julia 0.3"
  },
  "language_info": {
   "name": "julia",
   "version": "0.3.7"
  }
 },
 "nbformat": 4,
 "nbformat_minor": 0
}
