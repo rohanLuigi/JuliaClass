{
 "cells": [
  {
   "cell_type": "markdown",
   "metadata": {},
   "source": [
    "## Henderson's Algorithm to Invert the Additive Relationship Matrix"
   ]
  },
  {
   "cell_type": "markdown",
   "metadata": {},
   "source": [
    "### Tabular Method to Construct A\n",
    "\n",
    "$$\n",
    "\\mathbf{A}_{i} = \n",
    "\\begin{bmatrix}\n",
    "\\mathbf{A}_{i - 1}                & \\mathbf{A}_{i - 1}\\mathbf{q}_{i}\\\\\n",
    "\\mathbf{q}'_{i}\\mathbf{A}_{i - 1} & 1 + f_i\n",
    "\\end{bmatrix}, \n",
    "$$\n",
    "\n",
    "* $\\mathbf{A}_{i}$ is the relationship matrix expanded up to individual $i$,\n",
    "* $\\mathbf{q}_i$ has only at most 2 non-zero elements equal to 1/2\n",
    "corresponding to the parents of $i$. \n",
    "* If only one parent is known, $\\mathbf{q}_i$ will have only one element equal to 1/2 corresponding to that parent. \n",
    "* If both parents are unknown, $\\mathbf{q}_i$ is the null vector."
   ]
  },
  {
   "cell_type": "markdown",
   "metadata": {},
   "source": [
    "### Henderson's Algorithm to invert additive relationship matrix \n",
    "\n",
    "It is easy to verify that the inverse of $\\mathbf{A}_i$ can be computed as\n",
    "\n",
    "$$\n",
    "\\mathbf{A}^{-1}_i = \n",
    "\\begin{bmatrix}\n",
    "\\mathbf{A}^{-1}_{i - 1} & 0 \\\\ 0 & 0\n",
    "\\end{bmatrix} \n",
    "+ \n",
    "\\begin{bmatrix}\n",
    "- \\mathbf{q}_{i} \\\\ 1\n",
    "\\end{bmatrix}\n",
    "a^{ii}\n",
    "\\begin{bmatrix}\n",
    "- \\mathbf{q}'_{i} & 1\n",
    "\\end{bmatrix}, \n",
    "$$"
   ]
  },
  {
   "cell_type": "markdown",
   "metadata": {},
   "source": [
    "where\n",
    "\n",
    "$$\n",
    "a^{ii} = (a_{ii} - \\mathbf{q}'\\mathbf{A}_{i-1}\\mathbf{q})^{-1}\n",
    "$$\n",
    "When both parents are known, it follows that\n",
    "\n",
    "$$\n",
    "\\begin{align*}\n",
    "a^{ii} &= [1 + f_i - (\\frac{1+f_{s_i}}{4} + \\frac{1+f_{d_i}}{4} +  f_i) ]^{-1}  \\\\\n",
    "         &= [\\frac{1}{2} - \\frac{f_{s_i}}{4} - \\frac{d_i}{4}]^{-1} \\\\\n",
    "         &= \\frac{4}{2 - f_{s_i} - f_{d_i}},\n",
    "\\end{align*}\n",
    "$$"
   ]
  },
  {
   "cell_type": "markdown",
   "metadata": {},
   "source": [
    "and the contributions from animal $i$ to the inverse of $\\mathbf{A}$ are:\n",
    "\n",
    "* $\\frac{  a^{ii}}{4}\\quad \\text{to}\\quad (s_i,s_i), (s_i,d_i), (d_i,s_i),\\, \\text{and}\\, (d_i,d_i) $\n",
    "* $\\frac{-a^{ii}}{2}\\quad \\text{to}\\quad (i,s_i), (i,d_i), (s_i,i),\\, \\text{and}\\, (d_i,i) $\n",
    "* $ a^{ii}               \\quad \\text{to}\\quad (i,i) $."
   ]
  },
  {
   "cell_type": "markdown",
   "metadata": {},
   "source": [
    "When only one parent is known, say the sire, \n",
    "\n",
    "$\n",
    "\\begin{align*}\n",
    "a^{ii} &= [1  - \\frac{1+f_{s_i}}{4}]^{-1}   \\\\\n",
    "         &= [\\frac{3}{4} - \\frac{f_{s_i}}{4}]^{-1} \\\\\n",
    "         &= \\frac{4}{3 - f_{s_i} },\n",
    "\\end{align*}\n",
    "$\n",
    "\n",
    "and the contributions from animal $i$ to the inverse of $\\mathbf{A}$ are:\n",
    "\n",
    "* $\\frac{  a^{ii}}{4}\\quad \\text{to}\\quad (s_i,s_i)  $\n",
    "* $\\frac{-a^{ii}}{2}\\quad \\text{to}\\quad (i,s_i), \\text{and}\\, (s_i,i) $\n",
    "* $ a^{ii}               \\quad \\text{to}\\quad (i,i) $.\n",
    "\n",
    "When both parents are unknown,\n",
    "$$\n",
    "a^{ii} = 1 \n",
    "$$\n",
    "and the only contribution the inverse of $\\mathbf{A}$ is 1 to ($i$,$i$). Thus, starting with a null matrix, the inverse of $\\mathbf{A}$ can be obtained by adding the contributions of each animal to this matrix. \n",
    "\n",
    "The number of computations to invert $\\mathbf{A}$ by this [algorithm](http://www.jstor.org/stable/2529339?&seq=1#page_scan_tab_contents), which was first derived by [Henderson](http://en.wikipedia.org/wiki/Charles_Roy_Henderson), is proportional to $n$ the order of the $\\mathbf{A}$; the number of computations to invert a general matrix is proportional to $n^3$. The efficiency in the above algorithm comes from 2 properties of the $\\mathbf{A}$ matrix:\n",
    "\n",
    "* $\\mathbf{q}_i$  can be easily constructed from the pedigree,\n",
    "* $\\mathbf{q}_i$  has at most two non-zero elements."
   ]
  }
 ],
 "metadata": {
  "kernelspec": {
   "display_name": "Julia 0.3.7",
   "language": "julia",
   "name": "julia 0.3"
  },
  "language_info": {
   "name": "julia",
   "version": "0.3.7"
  }
 },
 "nbformat": 4,
 "nbformat_minor": 0
}
