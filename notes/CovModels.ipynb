{
 "cells": [
  {
   "cell_type": "markdown",
   "metadata": {},
   "source": [
    "## Continuation of Tools for building Henderson's Mixed Model Equations\n",
    "\n",
    "Here we will see how the mixed model equations (HMME) can be built given a data set and a model string. \n",
    "\n",
    "We will start by building the \"OLS\" part of the equations. "
   ]
  },
  {
   "cell_type": "markdown",
   "metadata": {},
   "source": [
    "### Adding code for covariance models."
   ]
  },
  {
   "cell_type": "code",
   "execution_count": 1,
   "metadata": {
    "collapsed": true
   },
   "outputs": [],
   "source": [
    "using DataFrames"
   ]
  },
  {
   "cell_type": "markdown",
   "metadata": {},
   "source": [
    "### A small data set to test the tools"
   ]
  },
  {
   "cell_type": "code",
   "execution_count": 2,
   "metadata": {
    "collapsed": false
   },
   "outputs": [],
   "source": [
    "inter = fill(1,10)\n",
    "A = [1,1,1,1,1,2,2,2,2,2]\n",
    "B = [1,1,2,2,2,1,1,1,2,2]\n",
    "C = [1,2,1,2,2,1,2,2,1,2];"
   ]
  },
  {
   "cell_type": "code",
   "execution_count": 19,
   "metadata": {
    "collapsed": false
   },
   "outputs": [
    {
     "data": {
      "text/html": [
       "<table class=\"data-frame\"><tr><th></th><th>intercept</th><th>A</th><th>B</th><th>X</th><th>W</th><th>y</th></tr><tr><th>1</th><td>1</td><td>1</td><td>1</td><td>0.7189426021040723</td><td>-0.08336839924718473</td><td>-0.9909367209555009</td></tr><tr><th>2</th><td>1</td><td>1</td><td>1</td><td>-1.5861267731463162</td><td>0.7203198283160005</td><td>0.5550645574551433</td></tr><tr><th>3</th><td>1</td><td>1</td><td>2</td><td>-0.3333275147150664</td><td>-0.3278045958269871</td><td>1.6493156428673463</td></tr><tr><th>4</th><td>1</td><td>1</td><td>2</td><td>0.27284511133464673</td><td>0.6201457739646946</td><td>-0.6028398192493416</td></tr><tr><th>5</th><td>1</td><td>1</td><td>2</td><td>-0.5973884875071214</td><td>-0.6775460473339241</td><td>-0.04366928656565753</td></tr><tr><th>6</th><td>1</td><td>2</td><td>1</td><td>0.43367740529521676</td><td>1.0783861739656544</td><td>0.17394528183773916</td></tr><tr><th>7</th><td>1</td><td>2</td><td>1</td><td>-0.7370558238853403</td><td>1.1234927496113367</td><td>-1.2117031075813884</td></tr><tr><th>8</th><td>1</td><td>2</td><td>1</td><td>-0.37455592444936436</td><td>-0.6866300829840629</td><td>0.6019501570207837</td></tr><tr><th>9</th><td>1</td><td>2</td><td>2</td><td>0.3444360114324716</td><td>-0.3348760699486519</td><td>-0.23334097889128713</td></tr><tr><th>10</th><td>1</td><td>2</td><td>2</td><td>-0.20985368986418199</td><td>-0.12431574739358871</td><td>-0.9801875371062198</td></tr></table>"
      ],
      "text/plain": [
       "10x6 DataFrame\n",
       "| Row | intercept | A | B | X         | W          | y          |\n",
       "|-----|-----------|---|---|-----------|------------|------------|\n",
       "| 1   | 1         | 1 | 1 | 0.718943  | -0.0833684 | -0.990937  |\n",
       "| 2   | 1         | 1 | 1 | -1.58613  | 0.72032    | 0.555065   |\n",
       "| 3   | 1         | 1 | 2 | -0.333328 | -0.327805  | 1.64932    |\n",
       "| 4   | 1         | 1 | 2 | 0.272845  | 0.620146   | -0.60284   |\n",
       "| 5   | 1         | 1 | 2 | -0.597388 | -0.677546  | -0.0436693 |\n",
       "| 6   | 1         | 2 | 1 | 0.433677  | 1.07839    | 0.173945   |\n",
       "| 7   | 1         | 2 | 1 | -0.737056 | 1.12349    | -1.2117    |\n",
       "| 8   | 1         | 2 | 1 | -0.374556 | -0.68663   | 0.60195    |\n",
       "| 9   | 1         | 2 | 2 | 0.344436  | -0.334876  | -0.233341  |\n",
       "| 10  | 1         | 2 | 2 | -0.209854 | -0.124316  | -0.980188  |"
      ]
     },
     "execution_count": 19,
     "metadata": {},
     "output_type": "execute_result"
    }
   ],
   "source": [
    "df1 = DataFrame(intercept=inter,A=A,B=B,X=randn(10),W=randn(10),y=randn(10))"
   ]
  },
  {
   "cell_type": "code",
   "execution_count": 4,
   "metadata": {
    "collapsed": false
   },
   "outputs": [
    {
     "data": {
      "text/plain": [
       "getSolG (generic function with 1 method)"
      ]
     },
     "execution_count": 4,
     "metadata": {},
     "output_type": "execute_result"
    }
   ],
   "source": [
    "function GaussSeidel(A,x,b;tol=0.000001)\n",
    "    n = size(x,1)\n",
    "    iter = 0\n",
    "    diff = 1.0\n",
    "    while ((diff/n > tol) & (iter<1000))\n",
    "        iter += 1\n",
    "        for i=1:n\n",
    "            x[i] = ((b[i] - A[i,:]*x)/A[i,i])[1,1] + x[i]\n",
    "        end\n",
    "        diff = sum((A*x-b).^2)\n",
    "        println(iter,\" \",diff/n)\n",
    "    end\n",
    "    return x\n",
    "end\n",
    "\n",
    "function Jacobi(A,x,b,p;tol=0.000001)\n",
    "    D       = diag(A)\n",
    "    res     = A*x\n",
    "    resid   = b-res\n",
    "    tempSol = resid./D\n",
    "    diff    = sum(resid.^2)\n",
    "    n    = size(A,1)\n",
    "    iter = 0\n",
    "    while ((diff/n > tol) & (iter<1000))\n",
    "        iter += 1\n",
    "        x = p*tempSol + (1-p)*x\n",
    "        res     = A*x\n",
    "        resid   = b-res\n",
    "        tempSol = resid./D + x\n",
    "        diff    = sum(resid.^2)\n",
    "        println(iter,\" \",diff/n)\n",
    "    end\n",
    "    return x\n",
    "end\n",
    "\n",
    "type ModelTerm \n",
    "    trmStr::String\n",
    "    nFactors::Int64\n",
    "    factors::Array{Symbol,1}\n",
    "    str::Array{String,1}\n",
    "    val::Array{Float64,1}\n",
    "    X::SparseMatrixCSC{Float64,Int64}\n",
    "    names::Array{Any,1}\n",
    "end\n",
    "\n",
    "type MME\n",
    "    modelEquation::String\n",
    "    modelTerms::Array{ModelTerm,1}\n",
    "    lhs::Symbol\n",
    "    covVec::Array{Symbol,1}\n",
    "    mmeLhs\n",
    "    mmeRhs\n",
    "    X\n",
    "end\n",
    "\n",
    "function mkDict(a)\n",
    "    aUnique = unique(a)\n",
    "    d = Dict()\n",
    "    names = Array(Any,size(aUnique,1))\n",
    "    for (i,s) in enumerate(aUnique)\n",
    "        names[i] = s\n",
    "        d[s] = i\n",
    "    end\n",
    "    return d,names\n",
    "end\n",
    "\n",
    "function getTerm(trmStr)\n",
    "    trm = ModelTerm(trmStr,0,[],[],[],spzeros(0,0),[])\n",
    "    if length(trmStr)==1\n",
    "        trm.nFactors = 1\n",
    "        trm.factors  = [symbol(strip(trmStr))]\n",
    "    else\n",
    "        factorVec = split(trmStr,\"*\")\n",
    "        trm.nFactors = length(factorVec)\n",
    "        trm.factors = [symbol(strip(f)) for f in factorVec]\n",
    "    end\n",
    "    return trm\n",
    "end\n",
    "\n",
    "function initMME(modelEquation::String)\n",
    "    # returns an MME object for muilding the mme corresponding \n",
    "    # to the input string\n",
    "    if modelEquation==\"\"\n",
    "        println(\"modelEquation is empty\\n\")\n",
    "        return\n",
    "    end\n",
    "    lhsRhs = split(modelEquation,\"=\")\n",
    "    lhs = symbol(strip(lhsRhs[1]))\n",
    "    rhs = strip(lhsRhs[2])\n",
    "    rhsVec = split(rhs,\"+\")    \n",
    "    modelTerms = [getTerm(strip(trmStr)) for trmStr in rhsVec]\n",
    "    return MME(modelEquation,modelTerms,lhs,[],0,0,0)\n",
    "end \n",
    "\n",
    "function getData(trm::ModelTerm,df::DataFrame,mme::MME)\n",
    "    nObs = size(df,1)\n",
    "    trm.str = Array(String,nObs)\n",
    "    trm.val = Array(Float64,nObs)\n",
    "    myDf = df[trm.factors]\n",
    "    if trm.factors[1] in mme.covVec\n",
    "        str = fill(string(trm.factors[1]),nObs)\n",
    "        val = df[trm.factors[1]]\n",
    "    else\n",
    "        str = [string(i) for i in df[trm.factors[1]]]\n",
    "        val = fill(1.0,nObs)\n",
    "    end\n",
    "    for i=2:trm.nFactors\n",
    "        if trm.factors[i] in mme.covVec\n",
    "            str = str .* fill(\"x\"*string(trm.factors[i]),nObs)\n",
    "            val = val .* df[trm.factors[i]]\n",
    "        else\n",
    "            str = str .* fill(\"x\",nObs) .* [string(j) for j in df[trm.factors[i]]]\n",
    "            val = val .* fill(1.0,nObs)\n",
    "        end\n",
    "    end\n",
    "    trm.str = str\n",
    "    trm.val = val\n",
    "end\n",
    "\n",
    "function getX(trm)\n",
    "    dict,trm.names  = mkDict(trm.str)\n",
    "    xj    = int([dict[i] for i in trm.str])\n",
    "    xi    = 1:size(trm.str,1)\n",
    "    trm.X = sparse(xi,xj,trm.val)  \n",
    "end\n",
    "\n",
    "function getMME(mme::MME, df::DataFrame)\n",
    "    for trm in mme.modelTerms\n",
    "        getData(trm,df,mme)\n",
    "        getX(trm)\n",
    "    end\n",
    "    n   = size(mme.modelTerms,1)\n",
    "    trm = mme.modelTerms[1]\n",
    "    X   = trm.X\n",
    "    for i=2:n\n",
    "        trm = mme.modelTerms[i]\n",
    "        X = [X trm.X]\n",
    "    end\n",
    "    y      = df[mme.lhs]\n",
    "    mme.mmeLhs = X'X\n",
    "    mme.mmeRhs = X'y\n",
    "    mme.X = X\n",
    "end\n",
    "\n",
    "function getNames(mme)\n",
    "    names = Array(String,0)\n",
    "    for trm in mme.modelTerms\n",
    "        for name in trm.names\n",
    "            push!(names,trm.trmStr*\": \"*name)\n",
    "        end\n",
    "    end\n",
    "    return names\n",
    "end  \n",
    "\n",
    "function covList(mme::MME, covStr::String)\n",
    "    covVec = split(covStr,\" \",false) \n",
    "    mme.covVec = [symbol(i) for i in covVec]\n",
    "    nothing\n",
    "end\n",
    "\n",
    "function getSolJ(mme::MME, df::DataFrame)\n",
    "    if size(mme.mmeRhs)==() \n",
    "        getMME(mme,df)\n",
    "    end\n",
    "    p = size(mme.mmeRhs,1)\n",
    "    return [getNames(mme) Jacobi(mme.mmeLhs,fill(0.0,p),mme.mmeRhs,0.3,tol=0.000001)]\n",
    "end\n",
    "\n",
    "function getSolG(mme::MME, df::DataFrame)\n",
    "    if size(mme.mmeRhs)==() \n",
    "        getMME(mme,df)\n",
    "    end\n",
    "    p = size(mme.mmeRhs,1)\n",
    "    return [getNames(mme) GaussSeidel(mme.mmeLhs,fill(0.0,p),mme.mmeRhs,tol=0.000001)]\n",
    "end"
   ]
  },
  {
   "cell_type": "code",
   "execution_count": 34,
   "metadata": {
    "collapsed": false
   },
   "outputs": [],
   "source": [
    "mme = initMME(\"y = intercept + A + A*X + W + A*X*W\")\n",
    "covList(mme,\"X W\")\n",
    "nothing"
   ]
  },
  {
   "cell_type": "code",
   "execution_count": 35,
   "metadata": {
    "collapsed": false,
    "scrolled": true
   },
   "outputs": [
    {
     "name": "stdout",
     "output_type": "stream",
     "text": [
      "1 0.21454965983221413\n",
      "2 0.032588650559486815\n",
      "3 0.011963209295140997\n",
      "4 0.004253631832754928\n",
      "5 0.0015122530666900474\n",
      "6 0.0005377790294499956\n",
      "7 0.0001910252123092954\n",
      "8 6.774654625370356e-5\n",
      "9 2.3988749803011822e-5\n",
      "10 8.48271383034087e-6\n",
      "11 2.996156913449167e-6\n",
      "12 1.057272192574704e-6\n",
      "13 3.728034892696454e-7\n"
     ]
    },
    {
     "data": {
      "text/plain": [
       "8x2 Array{Any,2}:\n",
       " \"intercept: 1\"  -0.176094 \n",
       " \"A: 1\"           0.0728728\n",
       " \"A: 2\"          -0.0728728\n",
       " \"A*X: 1xX\"      -0.869703 \n",
       " \"A*X: 2xX\"      -0.0684133\n",
       " \"W: W\"          -0.210396 \n",
       " \"A*X*W: 1xXxW\"   0.365859 \n",
       " \"A*X*W: 2xXxW\"   1.13714  "
      ]
     },
     "execution_count": 35,
     "metadata": {},
     "output_type": "execute_result"
    }
   ],
   "source": [
    "resG = getSolG(mme,df1)"
   ]
  },
  {
   "cell_type": "code",
   "execution_count": 36,
   "metadata": {
    "collapsed": false
   },
   "outputs": [
    {
     "data": {
      "text/plain": [
       "10x8 Array{Float64,2}:\n",
       " 1.0  1.0  0.0   0.72   0.0   -0.08  -0.06   0.0 \n",
       " 1.0  1.0  0.0  -1.59   0.0    0.72  -1.14   0.0 \n",
       " 1.0  1.0  0.0  -0.33   0.0   -0.33   0.11   0.0 \n",
       " 1.0  1.0  0.0   0.27   0.0    0.62   0.17   0.0 \n",
       " 1.0  1.0  0.0  -0.6    0.0   -0.68   0.4    0.0 \n",
       " 1.0  0.0  1.0   0.0    0.43   1.08   0.0    0.47\n",
       " 1.0  0.0  1.0   0.0   -0.74   1.12   0.0   -0.83\n",
       " 1.0  0.0  1.0   0.0   -0.37  -0.69   0.0    0.26\n",
       " 1.0  0.0  1.0   0.0    0.34  -0.33   0.0   -0.12\n",
       " 1.0  0.0  1.0   0.0   -0.21  -0.12   0.0    0.03"
      ]
     },
     "execution_count": 36,
     "metadata": {},
     "output_type": "execute_result"
    }
   ],
   "source": [
    "round(full(mme.X),2)"
   ]
  },
  {
   "cell_type": "code",
   "execution_count": 32,
   "metadata": {
    "collapsed": false,
    "scrolled": true
   },
   "outputs": [
    {
     "data": {
      "text/plain": [
       "7x7 Array{Float64,2}:\n",
       " 10.0    5.0    5.0   -1.53  -0.54   1.31  -0.71\n",
       "  5.0    5.0    0.0   -1.53   0.0    0.25  -0.52\n",
       "  5.0    0.0    5.0    0.0   -0.54   1.06  -0.19\n",
       " -1.53  -1.53   0.0    3.58   0.0   -0.52   1.54\n",
       " -0.54   0.0   -0.54   0.0    1.03  -0.19   0.67\n",
       "  1.31   0.25   1.06  -0.52  -0.19   4.5   -1.59\n",
       " -0.71  -0.52  -0.19   1.54   0.67  -1.59   2.5 "
      ]
     },
     "execution_count": 32,
     "metadata": {},
     "output_type": "execute_result"
    }
   ],
   "source": [
    "round(full(mme.mmeLhs),2)"
   ]
  },
  {
   "cell_type": "code",
   "execution_count": 8,
   "metadata": {
    "collapsed": true
   },
   "outputs": [],
   "source": [
    "mme = initMME(\"y = intercept + A + A*C\")\n",
    "covList(mme,\"C\")\n",
    "nothing"
   ]
  },
  {
   "cell_type": "code",
   "execution_count": 37,
   "metadata": {
    "collapsed": false,
    "scrolled": false
   },
   "outputs": [
    {
     "name": "stdout",
     "output_type": "stream",
     "text": [
      "1 0.21454965983221413\n",
      "2 0.032588650559486815\n",
      "3 0.011963209295140997\n",
      "4 0.004253631832754928\n",
      "5 0.0015122530666900474\n",
      "6 0.0005377790294499956\n",
      "7 0.0001910252123092954\n",
      "8 6.774654625370356e-5\n",
      "9 2.3988749803011822e-5\n",
      "10 8.48271383034087e-6\n",
      "11 2.996156913449167e-6\n",
      "12 1.057272192574704e-6\n",
      "13 3.728034892696454e-7\n"
     ]
    },
    {
     "data": {
      "text/plain": [
       "8x2 Array{Any,2}:\n",
       " \"intercept: 1\"  -0.176094 \n",
       " \"A: 1\"           0.0728728\n",
       " \"A: 2\"          -0.0728728\n",
       " \"A*X: 1xX\"      -0.869703 \n",
       " \"A*X: 2xX\"      -0.0684133\n",
       " \"W: W\"          -0.210396 \n",
       " \"A*X*W: 1xXxW\"   0.365859 \n",
       " \"A*X*W: 2xXxW\"   1.13714  "
      ]
     },
     "execution_count": 37,
     "metadata": {},
     "output_type": "execute_result"
    }
   ],
   "source": [
    "@profile resG = getSolG(mme,df1)"
   ]
  },
  {
   "cell_type": "code",
   "execution_count": 38,
   "metadata": {
    "collapsed": false
   },
   "outputs": [
    {
     "name": "stdout",
     "output_type": "stream",
     "text": [
      "4 task.jl; anonymous; line: 340\n",
      " 4 ...3/IJulia/src/IJulia.jl; eventloop; line: 123\n",
      "  4 ...src/execute_request.jl; execute_request_0x535c5df2; line: 157\n",
      "   4 loading.jl; include_string; line: 97\n",
      "    4 profile.jl; anonymous; line: 14\n",
      "     3 In[4]; getSolG; line: 170\n",
      "      1 ...a/lib/julia/sys.dylib; typeinf_ext; (unknown line)\n",
      "       1 ...a/lib/julia/sys.dylib; typeinf; (unknown line)\n",
      "        1 .../lib/julia/sys.dylib; inlining_pass; (unknown line)\n",
      "         1 .../lib/julia/sys.dylib; inlining_pass; (unknown line)\n",
      "          1 ...lib/julia/sys.dylib; inlining_pass; (unknown line)\n",
      "           1 ...lib/julia/sys.dylib; inlining_pass; (unknown line)\n",
      "            1 ...lib/julia/sys.dylib; inlining_pass; (unknown line)\n",
      "             1 ...ib/julia/sys.dylib; inlineable; (unknown line)\n",
      "              1 ...ib/julia/sys.dylib; effect_free; (unknown line)\n",
      "               1 ...b/julia/sys.dylib; effect_free; (unknown line)\n",
      "                1 ...b/julia/sys.dylib; effect_free; (unknown line)\n",
      "                 1 ...b/julia/sys.dylib; effect_free; (unknown line)\n",
      "                  1 .../julia/sys.dylib; effect_free; (unknown line)\n",
      "     1 In[4]; getSolG; line: 174\n",
      "      1 In[4]; GaussSeidel; line: 11\n",
      "       1 string.jl; println; line: 5\n",
      "        1 string.jl; print; line: 4\n",
      "         1 ascii.jl; print; line: 93\n",
      "          1 stream.jl; write; line: 732\n"
     ]
    }
   ],
   "source": [
    "Profile.print()"
   ]
  },
  {
   "cell_type": "code",
   "execution_count": 18,
   "metadata": {
    "collapsed": false
   },
   "outputs": [
    {
     "data": {
      "text/plain": [
       "10x5 Array{Float64,2}:\n",
       " 1.0  1.0  0.0   0.72    0.0  \n",
       " 1.0  1.0  0.0  -1.03    0.0  \n",
       " 1.0  1.0  0.0   1.148   0.0  \n",
       " 1.0  1.0  0.0   2.996   0.0  \n",
       " 1.0  1.0  0.0   0.75    0.0  \n",
       " 1.0  0.0  1.0   0.0    -1.395\n",
       " 1.0  0.0  1.0   0.0     0.923\n",
       " 1.0  0.0  1.0   0.0    -0.695\n",
       " 1.0  0.0  1.0   0.0     0.29 \n",
       " 1.0  0.0  1.0   0.0    -2.72 "
      ]
     },
     "execution_count": 18,
     "metadata": {},
     "output_type": "execute_result"
    }
   ],
   "source": [
    "round(full(mme.X),3)"
   ]
  },
  {
   "cell_type": "code",
   "execution_count": 10,
   "metadata": {
    "collapsed": false,
    "scrolled": false
   },
   "outputs": [
    {
     "data": {
      "text/plain": [
       "5x5 Array{Float64,2}:\n",
       " 10.0   5.0    5.0   4.58  -3.6 \n",
       "  5.0   5.0    0.0   4.58   0.0 \n",
       "  5.0   0.0    5.0   0.0   -3.6 \n",
       "  4.58  4.58   0.0  12.43   0.0 \n",
       " -3.6   0.0   -3.6   0.0   10.76"
      ]
     },
     "execution_count": 10,
     "metadata": {},
     "output_type": "execute_result"
    }
   ],
   "source": [
    "round(full(mme.mmeLhs),2)"
   ]
  }
 ],
 "metadata": {
  "kernelspec": {
   "display_name": "Julia 0.3.7",
   "language": "julia",
   "name": "julia 0.3"
  },
  "language_info": {
   "name": "julia",
   "version": "0.3.7"
  }
 },
 "nbformat": 4,
 "nbformat_minor": 0
}
