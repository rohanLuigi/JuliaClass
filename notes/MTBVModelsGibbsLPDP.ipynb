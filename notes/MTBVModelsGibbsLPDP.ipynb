{
 "cells": [
  {
   "cell_type": "markdown",
   "metadata": {},
   "source": [
    "## Tools for building Henderson's Mixed Model Equations\n",
    "\n",
    "Use of Gibbs sampler to compute posterior mean of effects \n"
   ]
  },
  {
   "cell_type": "code",
   "execution_count": 26,
   "metadata": {
    "collapsed": false
   },
   "outputs": [],
   "source": [
    "include(\"../../PedModule.jl/src/PedModule.jl\")\n",
    "using DataFrames"
   ]
  },
  {
   "cell_type": "code",
   "execution_count": 27,
   "metadata": {
    "collapsed": false
   },
   "outputs": [
    {
     "data": {
      "text/html": [
       "<table class=\"data-frame\"><tr><th></th><th>y1</th><th>y2</th><th>y3</th><th>trt</th></tr><tr><th>1</th><td>1.0</td><td>2.0</td><td>1.2</td><td>1</td></tr><tr><th>2</th><td>1.1</td><td>NA</td><td>3.1</td><td>1</td></tr><tr><th>3</th><td>0.9</td><td>1.9</td><td>NA</td><td>2</td></tr><tr><th>4</th><td>1.2</td><td>1.7</td><td>1.9</td><td>2</td></tr></table>"
      ],
      "text/plain": [
       "4x4 DataFrames.DataFrame\n",
       "| Row | y1  | y2  | y3  | trt |\n",
       "|-----|-----|-----|-----|-----|\n",
       "| 1   | 1.0 | 2.0 | 1.2 | 1   |\n",
       "| 2   | 1.1 | NA  | 3.1 | 1   |\n",
       "| 3   | 0.9 | 1.9 | NA  | 2   |\n",
       "| 4   | 1.2 | 1.7 | 1.9 | 2   |"
      ]
     },
     "execution_count": 27,
     "metadata": {},
     "output_type": "execute_result"
    }
   ],
   "source": [
    "df = readtable(\"MTData\", separator = ' ')"
   ]
  },
  {
   "cell_type": "code",
   "execution_count": 142,
   "metadata": {
    "collapsed": false
   },
   "outputs": [
    {
     "data": {
      "text/plain": [
       "addA (generic function with 1 method)"
      ]
     },
     "execution_count": 142,
     "metadata": {},
     "output_type": "execute_result"
    }
   ],
   "source": [
    "function Gibbs(A,x,b,nIter;outFreq=100)\n",
    "    n = size(x,1)\n",
    "    xMean = zeros(n)\n",
    "    for iter = 1:nIter\n",
    "        if iter%outFreq==0\n",
    "            println(\"at sample: \",iter)\n",
    "        end\n",
    "        for i=1:n\n",
    "            cVarInv = 1.0/A[i,i]\n",
    "            cMean   = cVarInv*(b[i] - A[:,i]'x)[1,1] + x[i]\n",
    "            x[i]    = randn()*sqrt(cVarInv) + cMean \n",
    "        end\n",
    "        xMean += (x - xMean)/iter\n",
    "    end\n",
    "    return xMean\n",
    "end\n",
    "\n",
    "function Gibbs(A,x,b)\n",
    "    n = size(x,1)\n",
    "    for i=1:n\n",
    "        cVarInv = 1.0/A[i,i]\n",
    "        cMean   = cVarInv*(b[i] - A[:,i]'x)[1,1] + x[i]\n",
    "        x[i]    = randn()*sqrt(cVarInv) + cMean \n",
    "    end\n",
    "end\n",
    "\n",
    "function GaussSeidel(A,x,b;tol=0.000001)\n",
    "    n = size(x,1)\n",
    "    for i=1:n\n",
    "        x[i] = ((b[i] - A[:,i]'x)/A[i,i])[1,1] + x[i]\n",
    "    end\n",
    "    diff = sum((A*x-b).^2)\n",
    "    iter = 0\n",
    "    while ((diff/n > tol) & (iter<1000))\n",
    "        iter += 1\n",
    "        for i=1:n\n",
    "            x[i] = ((b[i] - A[:,i]'x)/A[i,i])[1,1] + x[i]\n",
    "        end\n",
    "        diff = sum((A*x-b).^2)\n",
    "        println(iter,\" \",diff/n)\n",
    "    end\n",
    "    return x\n",
    "end\n",
    "\n",
    "function Jacobi(A,x,b,p;tol=0.000001)\n",
    "    D       = diag(A)\n",
    "    res     = A*x\n",
    "    resid   = b-res\n",
    "    tempSol = resid./D\n",
    "    diff    = sum(resid.^2)\n",
    "    n    = size(A,1)\n",
    "    iter = 0\n",
    "    while ((diff/n > tol) & (iter<1000))\n",
    "        iter += 1\n",
    "        x = p*tempSol + (1-p)*x\n",
    "        res     = A*x\n",
    "        resid   = b-res\n",
    "        tempSol = resid./D + x\n",
    "        diff    = sum(resid.^2)\n",
    "        println(iter,\" \",diff/n)\n",
    "    end\n",
    "    return x\n",
    "end\n",
    "\n",
    "\n",
    "type TermStrVal\n",
    "    str::AbstractString\n",
    "    value::Float64\n",
    "end\n",
    "\n",
    "type TermLvlVal\n",
    "    level::AbstractString\n",
    "    value::Float64\n",
    "end\n",
    "\n",
    "type ModelTerm \n",
    "    iModel::Int64\n",
    "    trmStr::AbstractString\n",
    "    nFactors::Int64\n",
    "    factors::Array{Symbol,1}\n",
    "    str::Array{AbstractString,1}                    # used to store the data for this term as strings\n",
    "    val::Array{Float64,1}\n",
    "    startPos::Int64                         # start pos in HMME\n",
    "    nLevels::Int64                           \n",
    "    X::SparseMatrixCSC{Float64,Int64}\n",
    "    names::Array{Any,1}\n",
    "end\n",
    "type MME\n",
    "    modelVec::Array{AbstractString,1}\n",
    "    modelTerms::Array{ModelTerm,1}\n",
    "    modelTermDict::Dict{AbstractString,ModelTerm}\n",
    "    lhsVec::Array{Symbol,1}\n",
    "    covVec::Array{Symbol,1}\n",
    "    pedTrmVec::Array{AbstractString,1}\n",
    "    mmeLhs\n",
    "    mmeRhs\n",
    "    ped\n",
    "    Gi::Array{Float64,2}\n",
    "    R::Array{Float64,2}\n",
    "    Ai\n",
    "    mmePos::Int64\n",
    "end\n",
    "\n",
    "type ResVar\n",
    "    R0::Array{Float64,2}\n",
    "    RiDict::Dict{BitArray{1},Array{Float64,2}}\n",
    "end   \n",
    "\n",
    "function mkDict(a)\n",
    "    aUnique = unique(a)\n",
    "    d = Dict()\n",
    "    names = Array(Any,size(aUnique,1))\n",
    "    for (i,s) in enumerate(aUnique)\n",
    "        names[i] = s\n",
    "        d[s] = i\n",
    "    end\n",
    "    return d,names\n",
    "end\n",
    "\n",
    "function getRi(resVar::ResVar,sel::BitArray{1})\n",
    "    if haskey(resVar.RiDict,sel)\n",
    "        return resVar.RiDict[sel]\n",
    "    end\n",
    "    n = size(resVar.R0,1)\n",
    "    RZ = zeros(n,n)\n",
    "    RZ[sel,sel] = inv(resVar.R0[sel,sel])\n",
    "    resVar.RiDict[sel] = RZ\n",
    "    return RZ\n",
    "end\n",
    "\n",
    "function getTerm(trmStr,m)\n",
    "    trm = ModelTerm(m,string(m)*\":\"*trmStr,0,[],[],[],0,0,spzeros(0,0),[])\n",
    "    factorVec = split(trmStr,\"*\")\n",
    "    trm.nFactors = length(factorVec)\n",
    "    trm.factors = [symbol(strip(f)) for f in factorVec]\n",
    "    return trm\n",
    "end\n",
    "\n",
    "function initMME(models::AbstractString,R::Array{Float64,2})\n",
    "    # returns an MME object for muilding the mme corresponding \n",
    "    # to the input string\n",
    "    if models==\"\"\n",
    "        println(\"modelEquation is empty\\n\")\n",
    "        return\n",
    "    end\n",
    "    modelVec = split(models,[';','\\n'],keep=false)\n",
    "    nModels  = size(modelVec,1)\n",
    "    lhsVec   = Symbol[]\n",
    "    modelTerms = ModelTerm[]\n",
    "    dict = Dict{AbstractString,ModelTerm}()\n",
    "    for (m,model) = enumerate(modelVec)\n",
    "        lhsRhs = split(model,\"=\")\n",
    "        lhsVec = [lhsVec;symbol(strip(lhsRhs[1]))]\n",
    "        rhs = strip(lhsRhs[2])\n",
    "        rhsVec = split(rhs,\"+\")    \n",
    "        mTrms = [getTerm(strip(trmStr),m) for trmStr in rhsVec]\n",
    "        modelTerms = [modelTerms; mTrms]\n",
    "        for (i,trm) = enumerate(modelTerms) \n",
    "            dict[trm.trmStr] = modelTerms[i]\n",
    "        end \n",
    "    end\n",
    "    return MME(modelVec,modelTerms,dict,lhsVec,[],[],0,0,0,Array(Float64,1,1),R,0,1)\n",
    "end \n",
    "\n",
    "function getData(trm::ModelTerm,df::DataFrame,mme::MME)\n",
    "    nObs = size(df,1)\n",
    "    trm.str = Array(AbstractString,nObs)\n",
    "    trm.val = Array(Float64,nObs)\n",
    "    if(trm.factors[1] == :intercept)                     # from Melanie's HW\n",
    "        str = fill(string(trm.factors[1]),nObs)\n",
    "        val = fill(1.0,nObs)\n",
    "    else\n",
    "        myDf = df[trm.factors]\n",
    "        if trm.factors[1] in mme.covVec\n",
    "            str = fill(string(trm.factors[1]),nObs)\n",
    "            val = df[trm.factors[1]]\n",
    "        else\n",
    "            str = [string(i) for i in df[trm.factors[1]]]\n",
    "            val = fill(1.0,nObs)\n",
    "        end\n",
    "        for i=2:trm.nFactors\n",
    "            if trm.factors[i] in mme.covVec\n",
    "                str = str .* fill(\"*\"*string(trm.factors[i]),nObs)\n",
    "                val = val .* df[trm.factors[i]]\n",
    "            else\n",
    "                str = str .* fill(\"*\",nObs) .* [string(j) for j in df[trm.factors[i]]]\n",
    "                val = val .* fill(1.0,nObs)\n",
    "            end\n",
    "        end\n",
    "    end\n",
    "    trm.str = str\n",
    "    trm.val = val\n",
    "end\n",
    "\n",
    "getFactor1(str) = [strip(i) for i in split(str,\"*\")][1]\n",
    "\n",
    "function getX(trm,mme::MME)\n",
    "    pedSize = 0\n",
    "    nObs  = size(trm.str,1)\n",
    "    if trm.trmStr in mme.pedTrmVec\n",
    "        trm.names   = PedModule.getIDs(mme.ped)\n",
    "        trm.nLevels = length(mme.ped.idMap)\n",
    "        xj = round(Int64,[mme.ped.idMap[getFactor1(i)].seqID for i in trm.str])\n",
    "    else\n",
    "        dict,trm.names  = mkDict(trm.str)\n",
    "        trm.nLevels     = length(dict)\n",
    "        xj    = round(Int64,[dict[i] for i in trm.str]) \n",
    "    end\n",
    "    xi    = (trm.iModel-1)*nObs + collect(1:nObs)\n",
    "    xv    = trm.val\n",
    "    if mme.ped!=0\n",
    "        pedSize = length(mme.ped.idMap)\n",
    "        if trm.trmStr in mme.pedTrmVec\n",
    "            # This is to ensure the X matrix for \n",
    "            # additive effect has the correct number of columns\n",
    "            ii = 1         # adding a zero to\n",
    "            jj = pedSize   # the last column in row 1\n",
    "            vv = [0.0]\n",
    "            xi = [xi;ii]\n",
    "            xj = [xj;jj]\n",
    "            xv = [xv;vv]\n",
    "        end\n",
    "    end \n",
    "    #make sure X has nObs*nModels rows\n",
    "    nModels = size(mme.lhsVec,1)\n",
    "    xi = [xi;1;nObs*nModels]\n",
    "    xj = [xj;1;1]\n",
    "    xv = [xv;0;0]\n",
    "    trm.X = sparse(xi,xj,xv)\n",
    "    trm.startPos = mme.mmePos\n",
    "    mme.mmePos  += trm.nLevels\n",
    "end\n",
    "\n",
    "function mkRi(mme::MME,df::DataFrame)\n",
    "    resVar = ResVar(mme.R,Dict())\n",
    "    tstMsng = !isna(df[mme.lhsVec[1]])\n",
    "    for i=2:size(mme.lhsVec,1)\n",
    "        tstMsng = [tstMsng !isna(df[mme.lhsVec[i]])]\n",
    "    end\n",
    "    n    = size(tstMsng,2)\n",
    "    nObs = size(tstMsng,1)\n",
    "    ii = Array(Int64,nObs*n^2)\n",
    "    jj = Array(Int64,nObs*n^2)\n",
    "    vv = Array(Float64,nObs*n^2)\n",
    "    pos = 1\n",
    "    for i=1:size(tstMsng,1)\n",
    "        sel = reshape(tstMsng[i,:],n)\n",
    "        Ri  = getRi(resVar,sel)\n",
    "        for ti=1:n\n",
    "            tii = (ti-1)*nObs + i\n",
    "            for tj=1:n\n",
    "                tjj = (tj-1)*nObs + i\n",
    "                ii[pos] = tii\n",
    "                jj[pos] = tjj\n",
    "                vv[pos] = Ri[ti,tj]\n",
    "                pos += 1\n",
    "            end\n",
    "        end         \n",
    "    end\n",
    "    return sparse(ii,jj,vv)\n",
    "end\n",
    "\n",
    "function getMME(mme::MME, df::DataFrame)\n",
    "    mme.mmePos = 1\n",
    "    for trm in mme.modelTerms\n",
    "        getData(trm,df,mme)\n",
    "        getX(trm,mme)\n",
    "    end\n",
    "    n   = size(mme.modelTerms,1)\n",
    "    trm = mme.modelTerms[1]\n",
    "    X   = trm.X\n",
    "    for i=2:n\n",
    "        trm = mme.modelTerms[i]\n",
    "        X = [X trm.X]\n",
    "    end\n",
    "    y = convert(Array,df[mme.lhsVec[1]],0.0)\n",
    "    for i=2:size(mme.lhsVec,1)\n",
    "        y    = [y; convert(Array,df[mme.lhsVec[i]],0.0)] \n",
    "    end\n",
    "    N  = size(y,1)\n",
    "    ii = 1:N\n",
    "    jj = fill(1,N)\n",
    "    vv = y\n",
    "    ySparse = sparse(ii,jj,vv)\n",
    "    nObs = size(df,1)\n",
    "    Ri = mkRi(mme,df)\n",
    "    mme.mmeLhs = X'Ri*X\n",
    "    mme.mmeRhs = X'Ri*ySparse\n",
    "    if mme.ped != 0\n",
    "        ii,jj,vv = PedModule.HAi(mme.ped)\n",
    "        HAi = sparse(ii,jj,vv)\n",
    "        mme.Ai = HAi'HAi\n",
    "        addA(mme::MME)\n",
    "    end   \n",
    "end\n",
    "\n",
    "function getNames(mme)\n",
    "    names = Array(String,0)\n",
    "    for trm in mme.modelTerms\n",
    "        for name in trm.names\n",
    "            push!(names,trm.trmStr*\": \"*name)\n",
    "        end\n",
    "    end\n",
    "    return names\n",
    "end  \n",
    "\n",
    "function covList(mme::MME, covStr::AbstractString)\n",
    "    covVec = split(covStr,\" \",false) \n",
    "    mme.covVec = [symbol(i) for i in covVec]\n",
    "    nothing\n",
    "end\n",
    "\n",
    "function getSolJ(mme::MME, df::DataFrame)\n",
    "    if size(mme.mmeRhs)==() \n",
    "        getMME(mme,df)\n",
    "    end\n",
    "    p = size(mme.mmeRhs,1)\n",
    "    return [getNames(mme) Jacobi(mme.mmeLhs,fill(0.0,p),mme.mmeRhs,0.3,tol=0.000001)]\n",
    "end\n",
    "\n",
    "function getSolG(mme::MME, df::DataFrame)\n",
    "    if size(mme.mmeRhs)==() \n",
    "        getMME(mme,df)\n",
    "    end\n",
    "    p = size(mme.mmeRhs,1)\n",
    "    return [getNames(mme) GaussSeidel(mme.mmeLhs,fill(0.0,p),mme.mmeRhs,tol=0.000001)]\n",
    "end\n",
    "\n",
    "function setAsRandom(mme::MME,randomStr::AbstractString,ped::PedModule.Pedigree, G::Array{Float64,2})\n",
    "    pedTrmVec = split(randomStr,\" \",keep=false)\n",
    "    res = []\n",
    "    for trm in pedTrmVec\n",
    "        for (m,model) = enumerate(mme.modelVec)\n",
    "            strVec  = split(model,['=','+'])\n",
    "            strpVec = [strip(i) for i in strVec]\n",
    "            if trm in strpVec\n",
    "                res = [res;string(m)*\":\"*trm]\n",
    "            end\n",
    "        end\n",
    "    end\n",
    "    mme.pedTrmVec = res\n",
    "    mme.ped = ped\n",
    "    mme.Gi = inv(G)\n",
    "    nothing\n",
    "end\n",
    "\n",
    "function addA(mme::MME)\n",
    "    pedTrmVec = mme.pedTrmVec\n",
    "    for (i,trmi) = enumerate(pedTrmVec)\n",
    "        pedTrmi  = mme.modelTermDict[trmi]\n",
    "        startPosi  = pedTrmi.startPos\n",
    "        endPosi    = startPosi + pedTrmi.nLevels - 1\n",
    "        for (j,trmj) = enumerate(pedTrmVec)\n",
    "            pedTrmj  = mme.modelTermDict[trmj]\n",
    "            startPosj  = pedTrmj.startPos\n",
    "            endPosj    = startPosj + pedTrmj.nLevels - 1  \n",
    "            mme.mmeLhs[startPosi:endPosi,startPosj:endPosj] = \n",
    "            mme.mmeLhs[startPosi:endPosi,startPosj:endPosj] + mme.Ai*mme.Gi[i,j] \n",
    "        end\n",
    "    end\n",
    "end"
   ]
  },
  {
   "cell_type": "code",
   "execution_count": 36,
   "metadata": {
    "collapsed": false
   },
   "outputs": [],
   "source": [
    "ped = PedModule.mkPed(\"sim.ped\");"
   ]
  },
  {
   "cell_type": "code",
   "execution_count": 71,
   "metadata": {
    "collapsed": true
   },
   "outputs": [],
   "source": [
    "dfGen = readtable(\"sim.gen\", separator = ' ');"
   ]
  },
  {
   "cell_type": "code",
   "execution_count": 186,
   "metadata": {
    "collapsed": false
   },
   "outputs": [],
   "source": [
    "Q = convert(Array{Float64,2},dfGen[:,[2:end]]);\n",
    "α1 = randn(200)\n",
    "α2 = randn(200)\n",
    "a1 = Q*α1\n",
    "a2 = Q*α2;"
   ]
  },
  {
   "cell_type": "code",
   "execution_count": 187,
   "metadata": {
    "collapsed": false
   },
   "outputs": [
    {
     "data": {
      "text/plain": [
       "2x2 Array{Float64,2}:\n",
       " 7.76017  0.0    \n",
       " 0.0      7.87793"
      ]
     },
     "execution_count": 187,
     "metadata": {},
     "output_type": "execute_result"
    }
   ],
   "source": [
    "D = diagm(vec(sqrt(var([a1 a2],1))'))"
   ]
  },
  {
   "cell_type": "code",
   "execution_count": 188,
   "metadata": {
    "collapsed": false
   },
   "outputs": [
    {
     "data": {
      "text/plain": [
       "2x2 Array{Float64,2}:\n",
       " 1.0       0.127179\n",
       " 0.127179  1.0     "
      ]
     },
     "execution_count": 188,
     "metadata": {},
     "output_type": "execute_result"
    }
   ],
   "source": [
    "R = cor([a1 a2])"
   ]
  },
  {
   "cell_type": "code",
   "execution_count": 189,
   "metadata": {
    "collapsed": false
   },
   "outputs": [
    {
     "data": {
      "text/plain": [
       "2x2 Array{Float64,2}:\n",
       " 60.2203    7.77497\n",
       "  7.77497  62.0617 "
      ]
     },
     "execution_count": 189,
     "metadata": {},
     "output_type": "execute_result"
    }
   ],
   "source": [
    "G0 = D*R*D"
   ]
  },
  {
   "cell_type": "code",
   "execution_count": 190,
   "metadata": {
    "collapsed": false
   },
   "outputs": [
    {
     "data": {
      "text/plain": [
       "4099x2 Array{Float64,2}:\n",
       " 12.3434   -14.4162  \n",
       " 10.6911    -8.29442 \n",
       "  4.9231   -11.1404  \n",
       " 29.1223     0.781507\n",
       " 27.8371    -8.36294 \n",
       " 45.4527   -15.0233  \n",
       " 35.2718   -17.8208  \n",
       " 15.4855    -1.32301 \n",
       " 28.6585    17.1242  \n",
       " 13.1969   -13.1547  \n",
       " 13.1458     1.65684 \n",
       "  8.93899    5.93475 \n",
       "  2.92263   -9.28481 \n",
       "  ⋮                  \n",
       " 30.2266    12.9229  \n",
       "  8.58454    6.3041  \n",
       " 11.1911    14.9137  \n",
       " 15.9977    -2.12932 \n",
       " 18.3902     8.44056 \n",
       " 19.0763    12.3756  \n",
       " 15.0206     8.82024 \n",
       " 16.5486   -16.7435  \n",
       " 15.3818   -11.1776  \n",
       " 29.7432    13.4817  \n",
       " 17.5011     1.3889  \n",
       " 25.4999    -4.37301 "
      ]
     },
     "execution_count": 190,
     "metadata": {},
     "output_type": "execute_result"
    }
   ],
   "source": [
    "R0 = diagm(vec(var([a1 a2],1)))\n",
    "L  = chol(R0)\n",
    "e  = L*randn(2,size(Q,1))\n",
    "y = [a1 a2] + e'"
   ]
  },
  {
   "cell_type": "code",
   "execution_count": 191,
   "metadata": {
    "collapsed": false
   },
   "outputs": [
    {
     "data": {
      "text/html": [
       "<table class=\"data-frame\"><tr><th></th><th>Animal</th><th>y1</th><th>y2</th></tr><tr><th>1</th><td>10102</td><td>12.343394637329277</td><td>-14.416170871641544</td></tr><tr><th>2</th><td>10103</td><td>10.691093256615286</td><td>-8.29442494362765</td></tr><tr><th>3</th><td>10104</td><td>4.923097924426148</td><td>-11.140381653915187</td></tr><tr><th>4</th><td>10105</td><td>29.122318576146988</td><td>0.7815072050102758</td></tr><tr><th>5</th><td>10106</td><td>27.837082855051662</td><td>-8.362936636431938</td></tr><tr><th>6</th><td>10107</td><td>45.452685240927224</td><td>-15.023310107533716</td></tr><tr><th>7</th><td>10108</td><td>35.271827363069846</td><td>-17.82079754523759</td></tr><tr><th>8</th><td>10109</td><td>15.485540228159124</td><td>-1.3230145580163193</td></tr><tr><th>9</th><td>10110</td><td>28.658486788152132</td><td>17.12422470746872</td></tr><tr><th>10</th><td>10111</td><td>13.196916403376257</td><td>-13.154675664946197</td></tr><tr><th>11</th><td>10112</td><td>13.145765981099952</td><td>1.6568364504984903</td></tr><tr><th>12</th><td>10113</td><td>8.938994983381718</td><td>5.934751159678822</td></tr><tr><th>13</th><td>10114</td><td>2.9226287462652896</td><td>-9.284811742904845</td></tr><tr><th>14</th><td>10115</td><td>5.187340851238991</td><td>-9.121007397676017</td></tr><tr><th>15</th><td>10116</td><td>20.91783100286594</td><td>12.26723903387905</td></tr><tr><th>16</th><td>10117</td><td>39.18142815073679</td><td>4.83012981112161</td></tr><tr><th>17</th><td>10118</td><td>19.667309673533737</td><td>3.7150841522800597</td></tr><tr><th>18</th><td>10119</td><td>49.12384668702126</td><td>-6.552583157423084</td></tr><tr><th>19</th><td>10120</td><td>18.202698543396167</td><td>19.492095709255093</td></tr><tr><th>20</th><td>10121</td><td>26.073959980390114</td><td>-12.57772761555691</td></tr><tr><th>21</th><td>15101</td><td>13.049153195511783</td><td>-9.060196508317542</td></tr><tr><th>22</th><td>15102</td><td>20.533364527648356</td><td>-10.838062096493353</td></tr><tr><th>23</th><td>15103</td><td>35.34352006377739</td><td>-14.873005111360396</td></tr><tr><th>24</th><td>15104</td><td>36.24052740665227</td><td>17.420438257999518</td></tr><tr><th>25</th><td>15105</td><td>25.985117879545413</td><td>7.805507555542439</td></tr><tr><th>26</th><td>15106</td><td>37.240443434431654</td><td>-17.928053170426043</td></tr><tr><th>27</th><td>15107</td><td>36.34026384745188</td><td>8.05724153721745</td></tr><tr><th>28</th><td>15108</td><td>25.53924046177663</td><td>-5.468734698533631</td></tr><tr><th>29</th><td>15109</td><td>24.521742209585735</td><td>-12.805662148312258</td></tr><tr><th>30</th><td>15110</td><td>20.076804899626698</td><td>1.947486326881533</td></tr><tr><th>&vellip;</th><td>&vellip;</td><td>&vellip;</td><td>&vellip;</td></tr></table>"
      ],
      "text/plain": [
       "4099x3 DataFrames.DataFrame\n",
       "| Row  | Animal | y1      | y2       |\n",
       "|------|--------|---------|----------|\n",
       "| 1    | 10102  | 12.3434 | -14.4162 |\n",
       "| 2    | 10103  | 10.6911 | -8.29442 |\n",
       "| 3    | 10104  | 4.9231  | -11.1404 |\n",
       "| 4    | 10105  | 29.1223 | 0.781507 |\n",
       "| 5    | 10106  | 27.8371 | -8.36294 |\n",
       "| 6    | 10107  | 45.4527 | -15.0233 |\n",
       "| 7    | 10108  | 35.2718 | -17.8208 |\n",
       "| 8    | 10109  | 15.4855 | -1.32301 |\n",
       "| 9    | 10110  | 28.6585 | 17.1242  |\n",
       "| 10   | 10111  | 13.1969 | -13.1547 |\n",
       "| 11   | 10112  | 13.1458 | 1.65684  |\n",
       "⋮\n",
       "| 4088 | 17089  | 30.2266 | 12.9229  |\n",
       "| 4089 | 17090  | 8.58454 | 6.3041   |\n",
       "| 4090 | 17091  | 11.1911 | 14.9137  |\n",
       "| 4091 | 17092  | 15.9977 | -2.12932 |\n",
       "| 4092 | 17093  | 18.3902 | 8.44056  |\n",
       "| 4093 | 17094  | 19.0763 | 12.3756  |\n",
       "| 4094 | 17095  | 15.0206 | 8.82024  |\n",
       "| 4095 | 17096  | 16.5486 | -16.7435 |\n",
       "| 4096 | 17097  | 15.3818 | -11.1776 |\n",
       "| 4097 | 17098  | 29.7432 | 13.4817  |\n",
       "| 4098 | 17099  | 17.5011 | 1.3889   |\n",
       "| 4099 | 17100  | 25.4999 | -4.37301 |"
      ]
     },
     "execution_count": 191,
     "metadata": {},
     "output_type": "execute_result"
    }
   ],
   "source": [
    "df2 = DataFrame(Animal = dfGen[:,1], y1=y[:,1],y2=y[:,2])"
   ]
  },
  {
   "cell_type": "code",
   "execution_count": 192,
   "metadata": {
    "collapsed": true
   },
   "outputs": [],
   "source": [
    "models = \"y1 = intercept + Animal;\n",
    "          y2 = intercept + Animal\"\n",
    "R = R0\n",
    "mme = initMME(models,R)\n",
    "setAsRandom(mme,\"Animal\", ped,G0)"
   ]
  },
  {
   "cell_type": "code",
   "execution_count": 193,
   "metadata": {
    "collapsed": false,
    "scrolled": true
   },
   "outputs": [
    {
     "data": {
      "text/plain": [
       "8402"
      ]
     },
     "execution_count": 193,
     "metadata": {},
     "output_type": "execute_result"
    }
   ],
   "source": [
    "getMME(mme,df2)\n",
    "p = size(mme.mmeLhs,1)"
   ]
  },
  {
   "cell_type": "code",
   "execution_count": 194,
   "metadata": {
    "collapsed": false
   },
   "outputs": [
    {
     "name": "stdout",
     "output_type": "stream",
     "text": [
      "1 0.004268438342663815\n",
      "2 0.0014803809208043964\n",
      "3 0.0005665458979031832\n",
      "4 0.00023025007397443114\n",
      "5 9.755349747812393e-5\n",
      "6 4.267614868376887e-5\n",
      "7 1.9349097362797807e-5\n",
      "8 9.273725500377144e-6\n",
      "9 4.876099532847077e-6\n",
      "10 2.9380720386259348e-6\n",
      "11 2.072297845395653e-6\n",
      "12 1.6758345069713013e-6\n",
      "13 1.4853901571982385e-6\n",
      "14 1.3856457054018197e-6\n",
      "15 1.3259991987490805e-6\n",
      "16 1.2842300841377733e-6\n",
      "17 1.2505875504399187e-6\n",
      "18 1.2208042188732654e-6\n",
      "19 1.1930222168967048e-6\n",
      "20 1.166438863927645e-6\n",
      "21 1.1407099988567471e-6\n",
      "22 1.1156877569013898e-6\n",
      "23 1.0913060920978227e-6\n",
      "24 1.067531506060218e-6\n",
      "25 1.0443424055431227e-6\n",
      "26 1.0217208937806075e-6\n",
      "27 9.996498381270461e-7\n"
     ]
    }
   ],
   "source": [
    "sol = GaussSeidel(mme.mmeLhs,fill(0.0,p),mme.mmeRhs,tol=0.000001)\n",
    "nothing"
   ]
  },
  {
   "cell_type": "code",
   "execution_count": 183,
   "metadata": {
    "collapsed": false
   },
   "outputs": [
    {
     "data": {
      "text/plain": [
       "2-element Array{AbstractString,1}:\n",
       " \"1:Animal\"\n",
       " \"2:Animal\""
      ]
     },
     "execution_count": 183,
     "metadata": {},
     "output_type": "execute_result"
    }
   ],
   "source": [
    "pedTrmVec"
   ]
  },
  {
   "cell_type": "code",
   "execution_count": 200,
   "metadata": {
    "collapsed": false
   },
   "outputs": [
    {
     "data": {
      "text/plain": [
       "2x2 Array{Float64,2}:\n",
       " 62.3376    8.27413\n",
       "  8.27413  66.421  "
      ]
     },
     "execution_count": 200,
     "metadata": {},
     "output_type": "execute_result"
    }
   ],
   "source": [
    "nIter = 1\n",
    "Profile.clear()\n",
    "Gibbs(mme.mmeLhs,sol,mme.mmeRhs)\n",
    "nothing\n",
    "#[mme.mmeLhs*solGibbs mme.mmeRhs]\n",
    "\n",
    "S = zeros(Float64,2,2)\n",
    "for (i,trmi) = enumerate(pedTrmVec)\n",
    "    pedTrmi  = mme.modelTermDict[trmi]\n",
    "    startPosi  = pedTrmi.startPos\n",
    "    endPosi    = startPosi + pedTrmi.nLevels - 1\n",
    "    for (j,trmj) = enumerate(pedTrmVec)\n",
    "        pedTrmj  = mme.modelTermDict[trmj]\n",
    "        startPosj  = pedTrmj.startPos\n",
    "        endPosj    = startPosj + pedTrmj.nLevels - 1\n",
    "        S[i,j] = (sol[startPosi:endPosi]'*mme.Ai*sol[startPosj:endPosj])[1,1]\n",
    "    end\n",
    "end\n",
    "\n",
    "ν = 10\n",
    "P = G0*(ν - 2 - 1)\n",
    "rand(InverseWishart(ν + 4200, P + S))"
   ]
  },
  {
   "cell_type": "code",
   "execution_count": 196,
   "metadata": {
    "collapsed": false,
    "scrolled": true
   },
   "outputs": [
    {
     "data": {
      "text/plain": [
       "2x2 Array{Float64,2}:\n",
       " 60.2203    7.77497\n",
       "  7.77497  62.0617 "
      ]
     },
     "execution_count": 196,
     "metadata": {},
     "output_type": "execute_result"
    }
   ],
   "source": [
    "G0"
   ]
  },
  {
   "cell_type": "code",
   "execution_count": 204,
   "metadata": {
    "collapsed": false
   },
   "outputs": [
    {
     "data": {
      "text/plain": [
       "2-element Array{Int64,1}:\n",
       " 2\n",
       " 3"
      ]
     },
     "execution_count": 204,
     "metadata": {},
     "output_type": "execute_result"
    }
   ],
   "source": [
    "function addOne(x)\n",
    "    x = x + 1\n",
    "end\n",
    "x = [1;2]\n",
    "addOne(x)"
   ]
  },
  {
   "cell_type": "code",
   "execution_count": 205,
   "metadata": {
    "collapsed": false,
    "scrolled": true
   },
   "outputs": [
    {
     "data": {
      "text/plain": [
       "2-element Array{Int64,1}:\n",
       " 1\n",
       " 2"
      ]
     },
     "execution_count": 205,
     "metadata": {},
     "output_type": "execute_result"
    }
   ],
   "source": [
    "x"
   ]
  },
  {
   "cell_type": "code",
   "execution_count": 170,
   "metadata": {
    "collapsed": false
   },
   "outputs": [],
   "source": [
    "function addTwo(x)\n",
    "    for i in 1:size(x,1)\n",
    "        x[i] += 2\n",
    "    end\n",
    "end"
   ]
  },
  {
   "cell_type": "code",
   "execution_count": 206,
   "metadata": {
    "collapsed": false
   },
   "outputs": [
    {
     "data": {
      "text/plain": [
       "2-element Array{Int64,1}:\n",
       " 1\n",
       " 2"
      ]
     },
     "execution_count": 206,
     "metadata": {},
     "output_type": "execute_result"
    }
   ],
   "source": [
    "x"
   ]
  },
  {
   "cell_type": "code",
   "execution_count": 207,
   "metadata": {
    "collapsed": true
   },
   "outputs": [],
   "source": [
    "addTwo(x)"
   ]
  },
  {
   "cell_type": "code",
   "execution_count": 208,
   "metadata": {
    "collapsed": false,
    "scrolled": true
   },
   "outputs": [
    {
     "data": {
      "text/plain": [
       "2-element Array{Int64,1}:\n",
       " 3\n",
       " 4"
      ]
     },
     "execution_count": 208,
     "metadata": {},
     "output_type": "execute_result"
    }
   ],
   "source": [
    "x"
   ]
  },
  {
   "cell_type": "code",
   "execution_count": 212,
   "metadata": {
    "collapsed": false
   },
   "outputs": [
    {
     "data": {
      "text/plain": [
       "addThree (generic function with 1 method)"
      ]
     },
     "execution_count": 212,
     "metadata": {},
     "output_type": "execute_result"
    }
   ],
   "source": [
    "function addThree(x)\n",
    "    for i in x\n",
    "        i = i + 3\n",
    "    end\n",
    "    x\n",
    "end"
   ]
  },
  {
   "cell_type": "code",
   "execution_count": 209,
   "metadata": {
    "collapsed": false
   },
   "outputs": [
    {
     "data": {
      "text/plain": [
       "2-element Array{Int64,1}:\n",
       " 3\n",
       " 4"
      ]
     },
     "execution_count": 209,
     "metadata": {},
     "output_type": "execute_result"
    }
   ],
   "source": [
    "x"
   ]
  },
  {
   "cell_type": "code",
   "execution_count": 210,
   "metadata": {
    "collapsed": false
   },
   "outputs": [
    {
     "data": {
      "text/plain": [
       "2-element Array{Int64,1}:\n",
       " 3\n",
       " 4"
      ]
     },
     "execution_count": 210,
     "metadata": {},
     "output_type": "execute_result"
    }
   ],
   "source": [
    "addThree(x)"
   ]
  },
  {
   "cell_type": "code",
   "execution_count": 221,
   "metadata": {
    "collapsed": false
   },
   "outputs": [
    {
     "data": {
      "text/plain": [
       "addFour (generic function with 1 method)"
      ]
     },
     "execution_count": 221,
     "metadata": {},
     "output_type": "execute_result"
    }
   ],
   "source": [
    "function addFour(x)\n",
    "    x[:] += 4\n",
    "end"
   ]
  },
  {
   "cell_type": "code",
   "execution_count": 222,
   "metadata": {
    "collapsed": false
   },
   "outputs": [
    {
     "data": {
      "text/plain": [
       "2-element Array{Int64,1}:\n",
       " 7\n",
       " 8"
      ]
     },
     "execution_count": 222,
     "metadata": {},
     "output_type": "execute_result"
    }
   ],
   "source": [
    "x"
   ]
  },
  {
   "cell_type": "code",
   "execution_count": 223,
   "metadata": {
    "collapsed": false
   },
   "outputs": [
    {
     "data": {
      "text/plain": [
       "2-element Array{Int64,1}:\n",
       " 11\n",
       " 12"
      ]
     },
     "execution_count": 223,
     "metadata": {},
     "output_type": "execute_result"
    }
   ],
   "source": [
    "addFour(x)"
   ]
  },
  {
   "cell_type": "code",
   "execution_count": 224,
   "metadata": {
    "collapsed": false
   },
   "outputs": [
    {
     "data": {
      "text/plain": [
       "2-element Array{Int64,1}:\n",
       " 11\n",
       " 12"
      ]
     },
     "execution_count": 224,
     "metadata": {},
     "output_type": "execute_result"
    }
   ],
   "source": [
    "x"
   ]
  }
 ],
 "metadata": {
  "kernelspec": {
   "display_name": "Julia 0.4.0",
   "language": "julia",
   "name": "julia-0.4"
  },
  "language_info": {
   "file_extension": ".jl",
   "mimetype": "application/julia",
   "name": "julia",
   "version": "0.4.0"
  }
 },
 "nbformat": 4,
 "nbformat_minor": 0
}
