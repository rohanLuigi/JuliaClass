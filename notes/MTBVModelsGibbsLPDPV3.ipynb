{
 "cells": [
  {
   "cell_type": "markdown",
   "metadata": {},
   "source": [
    "## Tools for Building Henderson's Mixed Model Equations for Multiple Trait Model\n",
    "\n",
    "Use of Gibbs sampler to compute posterior mean of effects, $\\mathbf{G}_0$ and $\\mathbf{R}_0$. The program also allows for missing traits.\n"
   ]
  },
  {
   "cell_type": "code",
   "execution_count": 1,
   "metadata": {
    "collapsed": false
   },
   "outputs": [],
   "source": [
    "include(\"../../PedModule.jl/src/PedModule.jl\")\n",
    "using DataFrames\n",
    "using Distributions"
   ]
  },
  {
   "cell_type": "code",
   "execution_count": 113,
   "metadata": {
    "collapsed": false
   },
   "outputs": [
    {
     "data": {
      "text/plain": [
       "addA (generic function with 1 method)"
      ]
     },
     "execution_count": 113,
     "metadata": {},
     "output_type": "execute_result"
    }
   ],
   "source": [
    "function Gibbs(A,x,b,nIter;outFreq=100)\n",
    "    n = size(x,1)\n",
    "    xMean = zeros(n)\n",
    "    for iter = 1:nIter\n",
    "        if iter%outFreq==0\n",
    "            println(\"at sample: \",iter)\n",
    "        end\n",
    "        for i=1:n\n",
    "            cVar = 1.0/A[i,i]\n",
    "            cMean   = cVar*(b[i] - A[:,i]'x)[1,1] + x[i]\n",
    "            x[i]    = randn()*sqrt(cVar) + cMean \n",
    "        end\n",
    "        xMean += (x - xMean)/iter\n",
    "    end\n",
    "    return xMean\n",
    "end\n",
    "\n",
    "function Gibbs(A,x,b)\n",
    "    n = size(x,1)\n",
    "    for i=1:n\n",
    "        cVar = 1.0/A[i,i]\n",
    "        cMean   = cVar*(b[i] - A[:,i]'x)[1,1] + x[i]\n",
    "        x[i]    = randn()*sqrt(cVar) + cMean \n",
    "    end\n",
    "end\n",
    "\n",
    "function GaussSeidel(A,x,b;tol=0.000001)\n",
    "    n = size(x,1)\n",
    "    for i=1:n\n",
    "        x[i] = ((b[i] - A[:,i]'x)/A[i,i])[1,1] + x[i]\n",
    "    end\n",
    "    diff = sum((A*x-b).^2)\n",
    "    iter = 0\n",
    "    while ((diff/n > tol) & (iter<1000))\n",
    "        iter += 1\n",
    "        for i=1:n\n",
    "            x[i] = ((b[i] - A[:,i]'x)/A[i,i])[1,1] + x[i]\n",
    "        end\n",
    "        diff = sum((A*x-b).^2)\n",
    "        #println(iter,\" \",diff/n)\n",
    "    end\n",
    "    return x\n",
    "end\n",
    "\n",
    "function Jacobi(A,x,b,p;tol=0.000001)\n",
    "    D       = diag(A)\n",
    "    res     = A*x\n",
    "    resid   = b-res\n",
    "    tempSol = resid./D\n",
    "    diff    = sum(resid.^2)\n",
    "    n    = size(A,1)\n",
    "    iter = 0\n",
    "    while ((diff/n > tol) & (iter<1000))\n",
    "        iter += 1\n",
    "        x = p*tempSol + (1-p)*x\n",
    "        res     = A*x\n",
    "        resid   = b-res\n",
    "        tempSol = resid./D + x\n",
    "        diff    = sum(resid.^2)\n",
    "        println(iter,\" \",diff/n)\n",
    "    end\n",
    "    return x\n",
    "end\n",
    "\n",
    "\n",
    "type TermStrVal\n",
    "    str::AbstractString\n",
    "    value::Float64\n",
    "end\n",
    "\n",
    "type TermLvlVal\n",
    "    level::AbstractString\n",
    "    value::Float64\n",
    "end\n",
    "\n",
    "type ModelTerm \n",
    "    iModel::Int64\n",
    "    trmStr::AbstractString\n",
    "    nFactors::Int64\n",
    "    factors::Array{Symbol,1}\n",
    "    str::Array{AbstractString,1}            # used to store the data for this term as strings\n",
    "    val::Array{Float64,1}\n",
    "    startPos::Int64                         # start pos in HMME\n",
    "    nLevels::Int64                           \n",
    "    X::SparseMatrixCSC{Float64,Int64}\n",
    "    names::Array{Any,1}\n",
    "end\n",
    "type MME\n",
    "    modelVec::Array{AbstractString,1}\n",
    "    modelTerms::Array{ModelTerm,1}\n",
    "    modelTermDict::Dict{AbstractString,ModelTerm}\n",
    "    lhsVec::Array{Symbol,1}\n",
    "    covVec::Array{Symbol,1}\n",
    "    pedTrmVec::Array{AbstractString,1}\n",
    "    X\n",
    "    ySparse\n",
    "    mmeLhs\n",
    "    mmeRhs\n",
    "    ped\n",
    "    Gi::Array{Float64,2}\n",
    "    R::Array{Float64,2}\n",
    "    Ai\n",
    "    mmePos::Int64\n",
    "    missingPattern\n",
    "    resVar\n",
    "end\n",
    "\n",
    "type ResVar\n",
    "    R0::Array{Float64,2}\n",
    "    RiDict::Dict{BitArray{1},Array{Float64,2}}\n",
    "end   \n",
    "\n",
    "function mkDict(a)\n",
    "    aUnique = unique(a)\n",
    "    d = Dict()\n",
    "    names = Array(Any,size(aUnique,1))\n",
    "    for (i,s) in enumerate(aUnique)\n",
    "        names[i] = s\n",
    "        d[s] = i\n",
    "    end\n",
    "    return d,names\n",
    "end\n",
    "\n",
    "function getRi(resVar::ResVar,sel::BitArray{1})\n",
    "    if haskey(resVar.RiDict,sel)\n",
    "        return resVar.RiDict[sel]\n",
    "    end\n",
    "    n = size(resVar.R0,1)\n",
    "    RZ = zeros(n,n)\n",
    "    RZ[sel,sel] = inv(resVar.R0[sel,sel])\n",
    "    resVar.RiDict[sel] = copy(RZ)\n",
    "    return RZ\n",
    "end\n",
    "\n",
    "function getTerm(trmStr,m)\n",
    "    trm = ModelTerm(m,string(m)*\":\"*trmStr,0,[],[],[],0,0,spzeros(0,0),[])\n",
    "    factorVec = split(trmStr,\"*\")\n",
    "    trm.nFactors = length(factorVec)\n",
    "    trm.factors = [symbol(strip(f)) for f in factorVec]\n",
    "    return trm\n",
    "end\n",
    "\n",
    "function initMME(models::AbstractString,R::Array{Float64,2})\n",
    "    # returns an MME object for muilding the mme corresponding \n",
    "    # to the input string\n",
    "    if models==\"\"\n",
    "        println(\"modelEquation is empty\\n\")\n",
    "        return\n",
    "    end\n",
    "    modelVec = split(models,[';','\\n'],keep=false)\n",
    "    nModels  = size(modelVec,1)\n",
    "    lhsVec   = Symbol[]\n",
    "    modelTerms = ModelTerm[]\n",
    "    dict = Dict{AbstractString,ModelTerm}()\n",
    "    for (m,model) = enumerate(modelVec)\n",
    "        lhsRhs = split(model,\"=\")\n",
    "        lhsVec = [lhsVec;symbol(strip(lhsRhs[1]))]\n",
    "        rhs = strip(lhsRhs[2])\n",
    "        rhsVec = split(rhs,\"+\")    \n",
    "        mTrms = [getTerm(strip(trmStr),m) for trmStr in rhsVec]\n",
    "        modelTerms = [modelTerms; mTrms]\n",
    "        for (i,trm) = enumerate(modelTerms) \n",
    "            dict[trm.trmStr] = modelTerms[i]\n",
    "        end \n",
    "    end\n",
    "    return MME(modelVec,modelTerms,dict,lhsVec,[],[],0,0,0,0,0,Array(Float64,1,1),R,0,1,0,0)\n",
    "end \n",
    "\n",
    "function getData(trm::ModelTerm,df::DataFrame,mme::MME)\n",
    "    nObs = size(df,1)\n",
    "    trm.str = Array(AbstractString,nObs)\n",
    "    trm.val = Array(Float64,nObs)\n",
    "    if(trm.factors[1] == :intercept)                     # from Melanie's HW\n",
    "        str = fill(string(trm.factors[1]),nObs)\n",
    "        val = fill(1.0,nObs)\n",
    "    else\n",
    "        myDf = df[trm.factors]\n",
    "        if trm.factors[1] in mme.covVec\n",
    "            str = fill(string(trm.factors[1]),nObs)\n",
    "            val = df[trm.factors[1]]\n",
    "        else\n",
    "            str = [string(i) for i in df[trm.factors[1]]]\n",
    "            val = fill(1.0,nObs)\n",
    "        end\n",
    "        for i=2:trm.nFactors\n",
    "            if trm.factors[i] in mme.covVec\n",
    "                str = str .* fill(\"*\"*string(trm.factors[i]),nObs)\n",
    "                val = val .* df[trm.factors[i]]\n",
    "            else\n",
    "                str = str .* fill(\"*\",nObs) .* [string(j) for j in df[trm.factors[i]]]\n",
    "                val = val .* fill(1.0,nObs)\n",
    "            end\n",
    "        end\n",
    "    end\n",
    "    trm.str = str\n",
    "    trm.val = val\n",
    "end\n",
    "\n",
    "getFactor1(str) = [strip(i) for i in split(str,\"*\")][1]\n",
    "\n",
    "function getX(trm,mme::MME)\n",
    "    pedSize = 0\n",
    "    nObs  = size(trm.str,1)\n",
    "    if trm.trmStr in mme.pedTrmVec\n",
    "        trm.names   = PedModule.getIDs(mme.ped)\n",
    "        trm.nLevels = length(mme.ped.idMap)\n",
    "        xj = round(Int64,[mme.ped.idMap[getFactor1(i)].seqID for i in trm.str])\n",
    "    else\n",
    "        dict,trm.names  = mkDict(trm.str)\n",
    "        trm.nLevels     = length(dict)\n",
    "        xj    = round(Int64,[dict[i] for i in trm.str]) \n",
    "    end\n",
    "    xi    = (trm.iModel-1)*nObs + collect(1:nObs)\n",
    "    xv    = trm.val\n",
    "    if mme.ped!=0\n",
    "        pedSize = length(mme.ped.idMap)\n",
    "        if trm.trmStr in mme.pedTrmVec\n",
    "            # This is to ensure the X matrix for \n",
    "            # additive effect has the correct number of columns\n",
    "            ii = 1         # adding a zero to\n",
    "            jj = pedSize   # the last column in row 1\n",
    "            vv = [0.0]\n",
    "            xi = [xi;ii]\n",
    "            xj = [xj;jj]\n",
    "            xv = [xv;vv]\n",
    "        end\n",
    "    end \n",
    "    #make sure X has nObs*nModels rows\n",
    "    nModels = size(mme.lhsVec,1)\n",
    "    xi = [xi;1;nObs*nModels]\n",
    "    xj = [xj;1;1]\n",
    "    xv = [xv;0;0]\n",
    "    trm.X = sparse(xi,xj,xv)\n",
    "    trm.startPos = mme.mmePos\n",
    "    mme.mmePos  += trm.nLevels\n",
    "end\n",
    "\n",
    "function mkRi(mme::MME,df::DataFrame)\n",
    "    resVar = ResVar(mme.R,Dict())\n",
    "    tstMsng = !isna(df[mme.lhsVec[1]])\n",
    "    for i=2:size(mme.lhsVec,1)\n",
    "        tstMsng = [tstMsng !isna(df[mme.lhsVec[i]])]\n",
    "    end\n",
    "    mme.missingPattern = tstMsng\n",
    "    n    = size(tstMsng,2)\n",
    "    nObs = size(tstMsng,1)\n",
    "    ii = Array(Int64,nObs*n^2)\n",
    "    jj = Array(Int64,nObs*n^2)\n",
    "    vv = Array(Float64,nObs*n^2)\n",
    "    pos = 1\n",
    "    for i=1:size(tstMsng,1)\n",
    "        sel = reshape(tstMsng[i,:],n)\n",
    "        Ri  = getRi(resVar,sel)\n",
    "        for ti=1:n\n",
    "            tii = (ti-1)*nObs + i\n",
    "            for tj=1:n\n",
    "                tjj = (tj-1)*nObs + i\n",
    "                ii[pos] = tii\n",
    "                jj[pos] = tjj\n",
    "                vv[pos] = Ri[ti,tj]\n",
    "                pos += 1\n",
    "            end\n",
    "        end         \n",
    "    end\n",
    "    mme.resVar = resVar\n",
    "    return sparse(ii,jj,vv)\n",
    "end\n",
    "\n",
    "function getMME(mme::MME, df::DataFrame)\n",
    "    mme.mmePos = 1\n",
    "    for trm in mme.modelTerms\n",
    "        getData(trm,df,mme)\n",
    "        getX(trm,mme)\n",
    "    end\n",
    "    n   = size(mme.modelTerms,1)\n",
    "    trm = mme.modelTerms[1]\n",
    "    X   = trm.X\n",
    "    for i=2:n\n",
    "        trm = mme.modelTerms[i]\n",
    "        X = [X trm.X]\n",
    "    end\n",
    "    y = convert(Array,df[mme.lhsVec[1]],0.0)\n",
    "    for i=2:size(mme.lhsVec,1)\n",
    "        y    = [y; convert(Array,df[mme.lhsVec[i]],0.0)] \n",
    "    end\n",
    "    N  = size(y,1)\n",
    "    ii = 1:N\n",
    "    jj = fill(1,N)\n",
    "    vv = y\n",
    "    ySparse = sparse(ii,jj,vv)\n",
    "    nObs = size(df,1)\n",
    "    Ri = mkRi(mme,df)\n",
    "    mme.X = X\n",
    "    mme.ySparse = ySparse \n",
    "    mme.mmeLhs = X'Ri*X\n",
    "    mme.mmeRhs = X'Ri*ySparse\n",
    "    if mme.ped != 0\n",
    "        ii,jj,vv = PedModule.HAi(mme.ped)\n",
    "        HAi = sparse(ii,jj,vv)\n",
    "        mme.Ai = HAi'HAi\n",
    "        addA(mme)\n",
    "    end   \n",
    "end\n",
    "\n",
    "function getNames(mme)\n",
    "    names = Array(String,0)\n",
    "    for trm in mme.modelTerms\n",
    "        for name in trm.names\n",
    "            push!(names,trm.trmStr*\": \"*name)\n",
    "        end\n",
    "    end\n",
    "    return names\n",
    "end  \n",
    "\n",
    "function covList(mme::MME, covStr::AbstractString)\n",
    "    covVec = split(covStr,\" \",false) \n",
    "    mme.covVec = [symbol(i) for i in covVec]\n",
    "    nothing\n",
    "end\n",
    "\n",
    "function getSolJ(mme::MME, df::DataFrame)\n",
    "    if size(mme.mmeRhs)==() \n",
    "        getMME(mme,df)\n",
    "    end\n",
    "    p = size(mme.mmeRhs,1)\n",
    "    return [getNames(mme) Jacobi(mme.mmeLhs,fill(0.0,p),mme.mmeRhs,0.3,tol=0.000001)]\n",
    "end\n",
    "\n",
    "function getSolG(mme::MME, df::DataFrame)\n",
    "    if size(mme.mmeRhs)==() \n",
    "        getMME(mme,df)\n",
    "    end\n",
    "    p = size(mme.mmeRhs,1)\n",
    "    return [getNames(mme) GaussSeidel(mme.mmeLhs,fill(0.0,p),mme.mmeRhs,tol=0.000001)]\n",
    "end\n",
    "\n",
    "function setAsRandom(mme::MME,randomStr::AbstractString,ped::PedModule.Pedigree, G::Array{Float64,2})\n",
    "    pedTrmVec = split(randomStr,\" \",keep=false)\n",
    "    res = []\n",
    "    for trm in pedTrmVec\n",
    "        for (m,model) = enumerate(mme.modelVec)\n",
    "            strVec  = split(model,['=','+'])\n",
    "            strpVec = [strip(i) for i in strVec]\n",
    "            if trm in strpVec\n",
    "                res = [res;string(m)*\":\"*trm]\n",
    "            end\n",
    "        end\n",
    "    end\n",
    "    mme.pedTrmVec = res\n",
    "    mme.ped = ped\n",
    "    mme.Gi = inv(G)\n",
    "    nothing\n",
    "end\n",
    "\n",
    "function addA(mme::MME)\n",
    "    pedTrmVec = mme.pedTrmVec\n",
    "    for (i,trmi) = enumerate(pedTrmVec)\n",
    "        pedTrmi  = mme.modelTermDict[trmi]\n",
    "        startPosi  = pedTrmi.startPos\n",
    "        endPosi    = startPosi + pedTrmi.nLevels - 1\n",
    "        for (j,trmj) = enumerate(pedTrmVec)\n",
    "            pedTrmj  = mme.modelTermDict[trmj]\n",
    "            startPosj  = pedTrmj.startPos\n",
    "            endPosj    = startPosj + pedTrmj.nLevels - 1 \n",
    "            mme.mmeLhs[startPosi:endPosi,startPosj:endPosj] = \n",
    "            mme.mmeLhs[startPosi:endPosi,startPosj:endPosj] + mme.Ai*mme.Gi[i,j] \n",
    "        end\n",
    "    end\n",
    "end"
   ]
  },
  {
   "cell_type": "code",
   "execution_count": 4,
   "metadata": {
    "collapsed": false
   },
   "outputs": [],
   "source": [
    "ped = PedModule.mkPed(\"sim.ped\");"
   ]
  },
  {
   "cell_type": "code",
   "execution_count": 5,
   "metadata": {
    "collapsed": true
   },
   "outputs": [],
   "source": [
    "dfGen = readtable(\"sim.gen\", separator = ' ');"
   ]
  },
  {
   "cell_type": "code",
   "execution_count": 6,
   "metadata": {
    "collapsed": false
   },
   "outputs": [],
   "source": [
    "Q = convert(Array{Float64,2},dfGen[:,collect(2:end)]);\n",
    "α1 = randn(200)\n",
    "α2 = randn(200)\n",
    "a1 = Q*α1\n",
    "a2 = Q*α2;"
   ]
  },
  {
   "cell_type": "code",
   "execution_count": 7,
   "metadata": {
    "collapsed": false
   },
   "outputs": [
    {
     "data": {
      "text/plain": [
       "2x2 Array{Float64,2}:\n",
       " 8.54232  0.0    \n",
       " 0.0      7.87874"
      ]
     },
     "execution_count": 7,
     "metadata": {},
     "output_type": "execute_result"
    }
   ],
   "source": [
    "D = diagm(vec(sqrt(var([a1 a2],1))'))"
   ]
  },
  {
   "cell_type": "code",
   "execution_count": 8,
   "metadata": {
    "collapsed": false
   },
   "outputs": [
    {
     "data": {
      "text/plain": [
       "2x2 Array{Float64,2}:\n",
       " 1.0        0.0126625\n",
       " 0.0126625  1.0      "
      ]
     },
     "execution_count": 8,
     "metadata": {},
     "output_type": "execute_result"
    }
   ],
   "source": [
    "R = cor([a1 a2])"
   ]
  },
  {
   "cell_type": "code",
   "execution_count": 9,
   "metadata": {
    "collapsed": false
   },
   "outputs": [
    {
     "data": {
      "text/plain": [
       "2x2 Array{Float64,2}:\n",
       " 72.9712     0.852224\n",
       "  0.852224  62.0745  "
      ]
     },
     "execution_count": 9,
     "metadata": {},
     "output_type": "execute_result"
    }
   ],
   "source": [
    "G0 = D*R*D"
   ]
  },
  {
   "cell_type": "code",
   "execution_count": 10,
   "metadata": {
    "collapsed": false
   },
   "outputs": [
    {
     "data": {
      "text/plain": [
       "4099x2 Array{Float64,2}:\n",
       " -24.5167    23.2062 \n",
       "   0.448859   7.72298\n",
       "   0.217692  33.2118 \n",
       " -17.0455    15.2028 \n",
       " -39.5634    20.0016 \n",
       " -40.3758    17.0708 \n",
       " -20.9877    14.156  \n",
       " -25.9593     7.62797\n",
       "   2.64354    5.80148\n",
       " -21.4323    17.05   \n",
       "  -6.85471   26.8703 \n",
       "  -2.89299    3.3677 \n",
       " -20.8675    27.5964 \n",
       "   ⋮                 \n",
       " -48.8102    25.9565 \n",
       " -33.6007     4.87704\n",
       " -33.2385    13.3288 \n",
       " -20.561     17.1171 \n",
       "  -6.6807    21.6124 \n",
       " -29.9627    23.1073 \n",
       " -35.1949     8.70033\n",
       " -21.6639    -3.40343\n",
       " -34.1614    26.5183 \n",
       " -25.8125    13.4753 \n",
       "  -3.95796   27.5877 \n",
       " -25.6007    18.2949 "
      ]
     },
     "execution_count": 10,
     "metadata": {},
     "output_type": "execute_result"
    }
   ],
   "source": [
    "R0 = diagm(vec(var([a1 a2],1)))\n",
    "L  = chol(R0)\n",
    "e  = L*randn(2,size(Q,1))\n",
    "y = [a1 a2] + e'"
   ]
  },
  {
   "cell_type": "code",
   "execution_count": 11,
   "metadata": {
    "collapsed": false
   },
   "outputs": [
    {
     "data": {
      "text/html": [
       "<table class=\"data-frame\"><tr><th></th><th>Animal</th><th>y1</th><th>y2</th></tr><tr><th>1</th><td>10102</td><td>-24.516698298811768</td><td>23.206160278374895</td></tr><tr><th>2</th><td>10103</td><td>0.4488585845542836</td><td>7.722980642347891</td></tr><tr><th>3</th><td>10104</td><td>0.21769220851462556</td><td>33.21183157415616</td></tr><tr><th>4</th><td>10105</td><td>-17.04547538453811</td><td>15.202795538892659</td></tr><tr><th>5</th><td>10106</td><td>-39.56343588822591</td><td>20.00159233146701</td></tr><tr><th>6</th><td>10107</td><td>-40.375793202359915</td><td>17.070786131454852</td></tr><tr><th>7</th><td>10108</td><td>-20.987717152403544</td><td>14.156004892878286</td></tr><tr><th>8</th><td>10109</td><td>-25.95932330142873</td><td>7.627968965027289</td></tr><tr><th>9</th><td>10110</td><td>2.6435420471080953</td><td>5.801483369469098</td></tr><tr><th>10</th><td>10111</td><td>-21.43234074873155</td><td>17.049955533073483</td></tr><tr><th>11</th><td>10112</td><td>-6.854709588423121</td><td>26.87033932646001</td></tr><tr><th>12</th><td>10113</td><td>-2.8929850525177336</td><td>3.3677030936732706</td></tr><tr><th>13</th><td>10114</td><td>-20.867519083335036</td><td>27.596385605098533</td></tr><tr><th>14</th><td>10115</td><td>-20.58192715873177</td><td>33.810314445152784</td></tr><tr><th>15</th><td>10116</td><td>-11.069606738361594</td><td>18.340256980858637</td></tr><tr><th>16</th><td>10117</td><td>-6.989695204550975</td><td>11.314672994436457</td></tr><tr><th>17</th><td>10118</td><td>-7.868887774063297</td><td>10.36176428394224</td></tr><tr><th>18</th><td>10119</td><td>-22.773963769762705</td><td>25.298382023374383</td></tr><tr><th>19</th><td>10120</td><td>-17.20858452209793</td><td>19.810271255460037</td></tr><tr><th>20</th><td>10121</td><td>-22.93598672234414</td><td>2.3372332187064906</td></tr><tr><th>21</th><td>15101</td><td>-3.556174875330518</td><td>30.81131401742497</td></tr><tr><th>22</th><td>15102</td><td>-1.9170216566249647</td><td>17.691525855961608</td></tr><tr><th>23</th><td>15103</td><td>-12.276361397384907</td><td>12.837291558384944</td></tr><tr><th>24</th><td>15104</td><td>-16.396188238066628</td><td>19.661215006224225</td></tr><tr><th>25</th><td>15105</td><td>-18.196305235797972</td><td>20.404864053769533</td></tr><tr><th>26</th><td>15106</td><td>-33.867384646468714</td><td>29.891248397456334</td></tr><tr><th>27</th><td>15107</td><td>-7.206995668376942</td><td>24.4832627242102</td></tr><tr><th>28</th><td>15108</td><td>-12.95459786712479</td><td>23.979372075457245</td></tr><tr><th>29</th><td>15109</td><td>-18.953366848724876</td><td>22.584344034228902</td></tr><tr><th>30</th><td>15110</td><td>-7.263257324990727</td><td>23.017631312017855</td></tr><tr><th>&vellip;</th><td>&vellip;</td><td>&vellip;</td><td>&vellip;</td></tr></table>"
      ],
      "text/plain": [
       "4099x3 DataFrames.DataFrame\n",
       "| Row  | Animal | y1       | y2       |\n",
       "|------|--------|----------|----------|\n",
       "| 1    | 10102  | -24.5167 | 23.2062  |\n",
       "| 2    | 10103  | 0.448859 | 7.72298  |\n",
       "| 3    | 10104  | 0.217692 | 33.2118  |\n",
       "| 4    | 10105  | -17.0455 | 15.2028  |\n",
       "| 5    | 10106  | -39.5634 | 20.0016  |\n",
       "| 6    | 10107  | -40.3758 | 17.0708  |\n",
       "| 7    | 10108  | -20.9877 | 14.156   |\n",
       "| 8    | 10109  | -25.9593 | 7.62797  |\n",
       "| 9    | 10110  | 2.64354  | 5.80148  |\n",
       "| 10   | 10111  | -21.4323 | 17.05    |\n",
       "| 11   | 10112  | -6.85471 | 26.8703  |\n",
       "⋮\n",
       "| 4088 | 17089  | -48.8102 | 25.9565  |\n",
       "| 4089 | 17090  | -33.6007 | 4.87704  |\n",
       "| 4090 | 17091  | -33.2385 | 13.3288  |\n",
       "| 4091 | 17092  | -20.561  | 17.1171  |\n",
       "| 4092 | 17093  | -6.6807  | 21.6124  |\n",
       "| 4093 | 17094  | -29.9627 | 23.1073  |\n",
       "| 4094 | 17095  | -35.1949 | 8.70033  |\n",
       "| 4095 | 17096  | -21.6639 | -3.40343 |\n",
       "| 4096 | 17097  | -34.1614 | 26.5183  |\n",
       "| 4097 | 17098  | -25.8125 | 13.4753  |\n",
       "| 4098 | 17099  | -3.95796 | 27.5877  |\n",
       "| 4099 | 17100  | -25.6007 | 18.2949  |"
      ]
     },
     "execution_count": 11,
     "metadata": {},
     "output_type": "execute_result"
    }
   ],
   "source": [
    "df2 = DataFrame(Animal = dfGen[:,1], y1=y[:,1],y2=y[:,2])"
   ]
  },
  {
   "cell_type": "code",
   "execution_count": 12,
   "metadata": {
    "collapsed": false
   },
   "outputs": [
    {
     "data": {
      "text/plain": [
       "NA"
      ]
     },
     "execution_count": 12,
     "metadata": {},
     "output_type": "execute_result"
    }
   ],
   "source": [
    "df2[1,2] = NA"
   ]
  },
  {
   "cell_type": "code",
   "execution_count": 115,
   "metadata": {
    "collapsed": false
   },
   "outputs": [
    {
     "data": {
      "text/html": [
       "<table class=\"data-frame\"><tr><th></th><th>Animal</th><th>y1</th><th>y2</th></tr><tr><th>1</th><td>10102</td><td>NA</td><td>23.206160278374895</td></tr><tr><th>2</th><td>10103</td><td>0.4488585845542836</td><td>7.722980642347891</td></tr><tr><th>3</th><td>10104</td><td>0.21769220851462556</td><td>33.21183157415616</td></tr><tr><th>4</th><td>10105</td><td>-17.04547538453811</td><td>15.202795538892659</td></tr><tr><th>5</th><td>10106</td><td>-39.56343588822591</td><td>20.00159233146701</td></tr><tr><th>6</th><td>10107</td><td>-40.375793202359915</td><td>17.070786131454852</td></tr></table>"
      ],
      "text/plain": [
       "6x3 DataFrames.DataFrame\n",
       "| Row | Animal | y1       | y2      |\n",
       "|-----|--------|----------|---------|\n",
       "| 1   | 10102  | NA       | 23.2062 |\n",
       "| 2   | 10103  | 0.448859 | 7.72298 |\n",
       "| 3   | 10104  | 0.217692 | 33.2118 |\n",
       "| 4   | 10105  | -17.0455 | 15.2028 |\n",
       "| 5   | 10106  | -39.5634 | 20.0016 |\n",
       "| 6   | 10107  | -40.3758 | 17.0708 |"
      ]
     },
     "execution_count": 115,
     "metadata": {},
     "output_type": "execute_result"
    }
   ],
   "source": [
    "head(df2)"
   ]
  },
  {
   "cell_type": "code",
   "execution_count": 13,
   "metadata": {
    "collapsed": false
   },
   "outputs": [],
   "source": [
    "models = \"y1 = intercept + Animal;\n",
    "          y2 = intercept + Animal\"\n",
    "R = R0\n",
    "mme = initMME(models,R)\n",
    "setAsRandom(mme,\"Animal\", ped,G0)"
   ]
  },
  {
   "cell_type": "code",
   "execution_count": 135,
   "metadata": {
    "collapsed": false
   },
   "outputs": [
    {
     "data": {
      "text/plain": [
       "100"
      ]
     },
     "execution_count": 135,
     "metadata": {},
     "output_type": "execute_result"
    }
   ],
   "source": [
    "msng = [true; false;false]\n",
    "notMsng = !msng\n",
    "resTest = collect(1:12)\n",
    "i=1\n",
    "indexRes = collect(0:3-1)*4+i\n",
    "resTest[indexRes][notMsng] = 100"
   ]
  },
  {
   "cell_type": "code",
   "execution_count": 136,
   "metadata": {
    "collapsed": false
   },
   "outputs": [
    {
     "data": {
      "text/plain": [
       "3-element Array{Int64,1}:\n",
       " 1\n",
       " 5\n",
       " 9"
      ]
     },
     "execution_count": 136,
     "metadata": {},
     "output_type": "execute_result"
    }
   ],
   "source": [
    "resTest[indexRes]"
   ]
  },
  {
   "cell_type": "code",
   "execution_count": 137,
   "metadata": {
    "collapsed": false
   },
   "outputs": [
    {
     "data": {
      "text/plain": [
       "100"
      ]
     },
     "execution_count": 137,
     "metadata": {},
     "output_type": "execute_result"
    }
   ],
   "source": [
    "resTest[(indexRes)[notMsng]] = 100"
   ]
  },
  {
   "cell_type": "code",
   "execution_count": 138,
   "metadata": {
    "collapsed": false
   },
   "outputs": [
    {
     "data": {
      "text/plain": [
       "3-element Array{Int64,1}:\n",
       "   1\n",
       " 100\n",
       " 100"
      ]
     },
     "execution_count": 138,
     "metadata": {},
     "output_type": "execute_result"
    }
   ],
   "source": [
    "resTest[indexRes]"
   ]
  },
  {
   "cell_type": "code",
   "execution_count": 104,
   "metadata": {
    "collapsed": false
   },
   "outputs": [
    {
     "data": {
      "text/plain": [
       "sampleMissingResiduals (generic function with 1 method)"
      ]
     },
     "execution_count": 104,
     "metadata": {},
     "output_type": "execute_result"
    }
   ],
   "source": [
    "function sampleMissingResiduals(mme,resVec)\n",
    "    msngPtrn = mme.missingPattern\n",
    "    n,k = size(msngPtrn)\n",
    "    yIndex = collect(0:k-1)*n\n",
    "    allTrue = fill(true,k)\n",
    "    for i=1:n\n",
    "        notMsng = reshape(msngPtrn[i,:,],k)\n",
    "        if (notMsng!=allTrue)\n",
    "            msng    = !notMsng\n",
    "            nMsng   = sum(msng)\n",
    "            resi    = resVec[yIndex+i][notMsng]\n",
    "            Ri      = mme.resVar.RiDict[notMsng][notMsng,notMsng]\n",
    "            Rc      = mme.R[msng,notMsng]\n",
    "            L       = chol(mme.R[msng,msng] - Rc*Ri*Rc')'\n",
    "            resVec[(yIndex+i)[msng]] = Rc*Ri*resi + L*randn(nMsng) \n",
    "            #resVec[yIndex+i][msng] = Rc*Ri*resi + L*randn(nMsng) this does not work!\n",
    "        end\n",
    "    end\n",
    "end"
   ]
  },
  {
   "cell_type": "code",
   "execution_count": 110,
   "metadata": {
    "collapsed": false
   },
   "outputs": [
    {
     "data": {
      "text/plain": [
       "sampleMCMC (generic function with 1 method)"
      ]
     },
     "execution_count": 110,
     "metadata": {},
     "output_type": "execute_result"
    }
   ],
   "source": [
    "function sampleMCMC(nIter,mme,df;outFreq=100)\n",
    "    getMME(mme,df2)\n",
    "    p = size(mme.mmeLhs,1)\n",
    "    sol = fill(0.0,p)\n",
    "    solMean = fill(0.0,p)\n",
    "    GaussSeidel(mme.mmeLhs,sol,mme.mmeRhs,tol=0.000001) \n",
    "    ν = 10\n",
    "    nObs    = size(df,1)\n",
    "    nTraits = size(mme.lhsVec,1)\n",
    "    νR0 = ν + nTraits\n",
    "    R0 = mme.R\n",
    "    PRes = R0*(νR0 - nTraits - 1)\n",
    "    SRes   = zeros(Float64,nTraits,nTraits)\n",
    "    R0Mean = zeros(Float64,nTraits,nTraits)\n",
    "    if mme.ped != 0\n",
    "        pedTrmVec = mme.pedTrmVec\n",
    "        k = size(pedTrmVec,1)\n",
    "        νG0 = ν + k\n",
    "        G0 = inv(mme.Gi)\n",
    "        P = G0*(νG0 - k - 1)\n",
    "        S = zeros(Float64,k,k)\n",
    "        G0Mean = zeros(Float64,k,k)\n",
    "    end\n",
    "    for iter=1:nIter\n",
    "        if iter%outFreq==0\n",
    "            println(\"at sample: \",iter,\"\\n\")\n",
    "            println(G0Mean,\"\\n\")\n",
    "        end\n",
    "        Gibbs(mme.mmeLhs,sol,mme.mmeRhs)\n",
    "        # can make this more efficient by taking advantage of symmetry\n",
    "        for (i,trmi) = enumerate(pedTrmVec)    \n",
    "            pedTrmi  = mme.modelTermDict[trmi]\n",
    "            startPosi  = pedTrmi.startPos\n",
    "            endPosi    = startPosi + pedTrmi.nLevels - 1\n",
    "            for (j,trmj) = enumerate(pedTrmVec)\n",
    "                pedTrmj  = mme.modelTermDict[trmj]\n",
    "                startPosj  = pedTrmj.startPos\n",
    "                endPosj    = startPosj + pedTrmj.nLevels - 1\n",
    "                S[i,j] = (sol[startPosi:endPosi]'*mme.Ai*sol[startPosj:endPosj])[1,1]\n",
    "            end\n",
    "        end\n",
    "        resVec = mme.ySparse - mme.X*sol\n",
    "        sampleMissingResiduals(mme,resVec)\n",
    "        for traiti = 1:nTraits\n",
    "            startPosi = (traiti-1)*nObs + 1\n",
    "            endPosi   = startPosi + nObs - 1\n",
    "            for traitj = traiti:nTraits\n",
    "                startPosj = (traitj-1)*nObs + 1\n",
    "                endPosj   = startPosj + nObs - 1\n",
    "                SRes[traiti,traitj] = (resVec[startPosi:endPosi]'resVec[startPosj:endPosj])[1,1] \n",
    "                SRes[traiti,traitj] = SRes[traitj,traiti]\n",
    "            end\n",
    "        end\n",
    "        R0 = rand(InverseWishart(νR0 + nObs, PRes + SRes))\n",
    "        mme.R = R0\n",
    "        Ri = mkRi(mme,df)\n",
    "        X = mme.X\n",
    "        mme.mmeLhs = X'Ri*X\n",
    "        mme.mmeRhs = X'Ri*mme.ySparse\n",
    "        if mme.ped != 0\n",
    "            pedTrm1 = mme.modelTermDict[pedTrmVec[1]]\n",
    "            q = pedTrm1.nLevels\n",
    "            G0 = rand(InverseWishart(νG0 + q, P + S))\n",
    "            mme.Gi = inv(G0)\n",
    "            addA(mme)\n",
    "        end\n",
    "        solMean += (sol - solMean)/iter\n",
    "        G0Mean  += (G0  - G0Mean )/iter\n",
    "        R0Mean  += (R0  - R0Mean )/iter\n",
    "    end\n",
    "    output = Dict()\n",
    "    output[\"posteriorMeanLocationParms\"] = solMean\n",
    "    output[\"posteriorMeanG0\"] = G0Mean\n",
    "    output[\"posteriorMeanR0\"] = R0Mean\n",
    "    return output\n",
    "end"
   ]
  },
  {
   "cell_type": "code",
   "execution_count": 114,
   "metadata": {
    "collapsed": false,
    "scrolled": false
   },
   "outputs": [
    {
     "name": "stdout",
     "output_type": "stream",
     "text": [
      "at sample: 100\n",
      "\n",
      "[99.3520520270497 -0.8548131659229353\n",
      " -0.8548131659229353 58.20863955327304]\n",
      "\n",
      "at sample: 200\n",
      "\n",
      "[94.22184337649703 -0.1684999972359489\n",
      " -0.1684999972359489 64.78261243065077]\n",
      "\n",
      "at sample: 300\n",
      "\n",
      "[93.32067534561207 0.797936194989491\n",
      " 0.797936194989491 70.2623725167838]\n",
      "\n",
      "at sample: 400\n",
      "\n",
      "[92.23290527815604 0.8970995026291004\n",
      " 0.8970995026291004 72.16214986299578]\n",
      "\n",
      "at sample: 500\n",
      "\n",
      "[92.54138145269755 0.6959591209234381\n",
      " 0.6959591209234381 72.08276241614183]\n",
      "\n",
      "at sample: 600\n",
      "\n",
      "[93.11493999988461 0.9741890152086364\n",
      " 0.9741890152086364 71.61358784845412]\n",
      "\n",
      "at sample: 700\n",
      "\n",
      "[94.58460046889421 0.7856908846636945\n",
      " 0.7856908846636945 71.44139918403656]\n",
      "\n",
      "at sample: 800\n",
      "\n",
      "[94.99175506425898 0.9545077833599203\n",
      " 0.9545077833599203 71.74786239016792]\n",
      "\n",
      "at sample: 900\n",
      "\n",
      "[94.29843287677022 0.8017688523282259\n",
      " 0.8017688523282259 72.85510336998647]\n",
      "\n",
      "at sample: 1000\n",
      "\n",
      "[94.06723442356129 0.9542665791998469\n",
      " 0.9542665791998469 74.05077454260619]\n",
      "\n",
      "at sample: 1100\n",
      "\n",
      "[94.2688882527389 0.8992770077826757\n",
      " 0.8992770077826757 74.03176108024834]\n",
      "\n",
      "at sample: 1200\n",
      "\n",
      "[94.43318988623332 0.9209797168585593\n",
      " 0.9209797168585593 74.1792097748661]\n",
      "\n",
      "at sample: 1300\n",
      "\n",
      "[94.94312988360028 1.1318413375702139\n",
      " 1.1318413375702139 74.46259315941576]\n",
      "\n",
      "at sample: 1400\n",
      "\n",
      "[95.13429160231486 1.1559269486285673\n",
      " 1.1559269486285673 74.18240861309243]\n",
      "\n",
      "at sample: 1500\n",
      "\n",
      "[94.60372466977485 1.2781217263159963\n",
      " 1.2781217263159963 74.17079914171246]\n",
      "\n",
      "at sample: 1600\n",
      "\n",
      "[94.73482187573393 1.3877804823183235\n",
      " 1.3877804823183235 73.67179789160363]\n",
      "\n",
      "at sample: 1700\n",
      "\n",
      "[93.77993737897063 1.3531405829199394\n",
      " 1.3531405829199394 74.21714599379696]\n",
      "\n",
      "at sample: 1800\n",
      "\n",
      "[93.46290156062135 1.343526050210787\n",
      " 1.343526050210787 74.50969165142669]\n",
      "\n",
      "at sample: 1900\n",
      "\n",
      "[93.01231946037345 1.3283584254834664\n",
      " 1.3283584254834664 74.8806787511305]\n",
      "\n",
      "at sample: 2000"
     ]
    },
    {
     "data": {
      "text/plain": [
       "2x2 Array{Float64,2}:\n",
       " 92.3069    1.33832\n",
       "  1.33832  75.0051 "
      ]
     },
     "execution_count": 114,
     "metadata": {},
     "output_type": "execute_result"
    },
    {
     "name": "stdout",
     "output_type": "stream",
     "text": [
      "\n",
      "\n",
      "[92.30874811855898 1.3356496227493266\n",
      " 1.3356496227493266 74.99797395033926]\n",
      "\n",
      "150.857966 seconds (896.92 M allocations: 74.257 GB, 6.20% gc time)\n"
     ]
    }
   ],
   "source": [
    "@time res = sampleMCMC(2000,mme,df2)\n",
    "res[\"posteriorMeanG0\"]"
   ]
  },
  {
   "cell_type": "code",
   "execution_count": 17,
   "metadata": {
    "collapsed": false
   },
   "outputs": [
    {
     "data": {
      "text/plain": [
       "2x2 Array{Float64,2}:\n",
       " 80.9276     -0.0481069\n",
       " -0.0481069  69.0774   "
      ]
     },
     "execution_count": 17,
     "metadata": {},
     "output_type": "execute_result"
    }
   ],
   "source": [
    "res[\"posteriorMeanR0\"]"
   ]
  },
  {
   "cell_type": "code",
   "execution_count": 18,
   "metadata": {
    "collapsed": false
   },
   "outputs": [],
   "source": [
    "p = size(mme.mmeLhs,1)\n",
    "sol = fill(0.0,p)\n",
    "Gibbs(mme.mmeLhs,sol,mme.mmeRhs)"
   ]
  },
  {
   "cell_type": "code",
   "execution_count": 107,
   "metadata": {
    "collapsed": false
   },
   "outputs": [
    {
     "data": {
      "text/plain": [
       "8198x1 Array{Float64,2}:\n",
       "  23.849   \n",
       "   9.92661 \n",
       "  12.9877  \n",
       "  -0.827962\n",
       "  -9.71496 \n",
       " -19.5006  \n",
       "   8.23418 \n",
       " -11.9279  \n",
       "  11.4829  \n",
       "  -6.31739 \n",
       "   7.97674 \n",
       "   7.6602  \n",
       "  -1.72906 \n",
       "   ⋮       \n",
       "   0.194921\n",
       "   0.816192\n",
       "   8.47903 \n",
       "  -1.899   \n",
       "  11.9672  \n",
       "  -2.56154 \n",
       "  -4.84058 \n",
       " -12.8214  \n",
       "   4.44336 \n",
       "   0.473818\n",
       "   7.84256 \n",
       "   4.86123 "
      ]
     },
     "execution_count": 107,
     "metadata": {},
     "output_type": "execute_result"
    }
   ],
   "source": [
    "resVec = mme.ySparse - mme.X*sol"
   ]
  },
  {
   "cell_type": "code",
   "execution_count": 108,
   "metadata": {
    "collapsed": false
   },
   "outputs": [],
   "source": [
    "sampleMissingResiduals(mme,resVec)"
   ]
  },
  {
   "cell_type": "code",
   "execution_count": 109,
   "metadata": {
    "collapsed": false
   },
   "outputs": [
    {
     "data": {
      "text/plain": [
       "8198x1 Array{Float64,2}:\n",
       "   0.756685\n",
       "   9.92661 \n",
       "  12.9877  \n",
       "  -0.827962\n",
       "  -9.71496 \n",
       " -19.5006  \n",
       "   8.23418 \n",
       " -11.9279  \n",
       "  11.4829  \n",
       "  -6.31739 \n",
       "   7.97674 \n",
       "   7.6602  \n",
       "  -1.72906 \n",
       "   ⋮       \n",
       "   0.194921\n",
       "   0.816192\n",
       "   8.47903 \n",
       "  -1.899   \n",
       "  11.9672  \n",
       "  -2.56154 \n",
       "  -4.84058 \n",
       " -12.8214  \n",
       "   4.44336 \n",
       "   0.473818\n",
       "   7.84256 \n",
       "   4.86123 "
      ]
     },
     "execution_count": 109,
     "metadata": {},
     "output_type": "execute_result"
    }
   ],
   "source": [
    "resVec"
   ]
  }
 ],
 "metadata": {
  "kernelspec": {
   "display_name": "Julia 0.4.0",
   "language": "julia",
   "name": "julia-0.4"
  },
  "language_info": {
   "file_extension": ".jl",
   "mimetype": "application/julia",
   "name": "julia",
   "version": "0.4.0"
  }
 },
 "nbformat": 4,
 "nbformat_minor": 0
}
